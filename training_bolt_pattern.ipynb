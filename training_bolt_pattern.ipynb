{
 "cells": [
  {
   "cell_type": "markdown",
   "id": "0af280c6-8b19-45f6-998e-059d6b1138c8",
   "metadata": {
    "tags": []
   },
   "source": [
    "# How to calculate bolt loads within a bolt group\n",
    "**Timothy Teske** \n",
    "\n",
    "\n",
    "A **bolt group** is a collection of fasteners through which loads (forces and moments) are reacted. The forces and moments acting on the bolt group self-distrubute to act on each individual bolt within the bolt group. The reaction force generated in each bolt will be a combination of tensile and shear forces within each bolt.\n",
    "\n",
    "\n",
    "The steps involved in calculating the individual bolt loads on fasteners within a bolt group are shown below:\n",
    "\n",
    "1. Determine the x, y cooridnates of each bolt within the bolt group\n",
    "2. Determine the centroid of the bolt group\n",
    "3. Determine the loads (forces and moments) acting at the centroid of the bolt group\n",
    "4. Distribute the loads on the bolt group centroid to each individual bolt"
   ]
  },
  {
   "cell_type": "markdown",
   "id": "95c26dff",
   "metadata": {},
   "source": [
    "The worksheet below walks through calculations of bolt loads within a bolt group, but first we will import some functions and objects which will make the calculations very easy."
   ]
  },
  {
   "cell_type": "code",
   "execution_count": 19,
   "id": "06884404",
   "metadata": {},
   "outputs": [],
   "source": [
    "from bolt_pattern_points import circle, square, rectangle, points, bolt_centroid"
   ]
  },
  {
   "cell_type": "markdown",
   "id": "a7e078f6-764a-42f5-a067-acef4fabc404",
   "metadata": {},
   "source": [
    "## 1. Calculate location of bolt coordinates"
   ]
  },
  {
   "cell_type": "markdown",
   "id": "77a58640",
   "metadata": {},
   "source": [
    "The first step is to calculate the coordinates of each bolt within the bolt group."
   ]
  },
  {
   "cell_type": "markdown",
   "id": "edb28e71",
   "metadata": {},
   "source": [
    "### Square bolt pattern"
   ]
  },
  {
   "cell_type": "markdown",
   "id": "96a05ff9",
   "metadata": {},
   "source": [
    "Consider a base plate with a square bolt pattern comprised of four fasteners (`Nx` = 2 and `Ny` = 2; number of fasteners in x and y directions). \n",
    "\n",
    "The width/height `x_dist` of the bolt pattern is 200 mm.\n",
    "\n",
    "Hover over each bolt in the graph below to observe the x, y coordinates of each bolt.\n",
    "\n"
   ]
  },
  {
   "cell_type": "code",
   "execution_count": 20,
   "id": "aa47b9f3",
   "metadata": {},
   "outputs": [
    {
     "data": {
      "text/html": [
       "\n",
       "\n",
       "\n",
       "\n",
       "\n",
       "\n",
       "  <div class=\"bk-root\" id=\"5c14fc00-e67f-4f49-bf6c-8c8765ecd386\" data-root-id=\"2167\"></div>\n"
      ]
     },
     "metadata": {},
     "output_type": "display_data"
    },
    {
     "data": {
      "application/javascript": "(function(root) {\n  function embed_document(root) {\n    \n  const docs_json = {\"661e2e00-10d4-49be-9d8f-25021016844d\":{\"defs\":[],\"roots\":{\"references\":[{\"attributes\":{\"below\":[{\"id\":\"2176\"}],\"center\":[{\"id\":\"2179\"},{\"id\":\"2183\"},{\"id\":\"2200\"},{\"id\":\"2201\"}],\"height\":400,\"left\":[{\"id\":\"2180\"}],\"match_aspect\":true,\"renderers\":[{\"id\":\"2206\"}],\"title\":{\"id\":\"2296\"},\"toolbar\":{\"id\":\"2192\"},\"x_range\":{\"id\":\"2168\"},\"x_scale\":{\"id\":\"2172\"},\"y_range\":{\"id\":\"2170\"},\"y_scale\":{\"id\":\"2174\"}},\"id\":\"2167\",\"subtype\":\"Figure\",\"type\":\"Plot\"},{\"attributes\":{\"overlay\":{\"id\":\"2190\"}},\"id\":\"2186\",\"type\":\"BoxZoomTool\"},{\"attributes\":{},\"id\":\"2299\",\"type\":\"BasicTickFormatter\"},{\"attributes\":{\"coordinates\":null,\"group\":null},\"id\":\"2296\",\"type\":\"Title\"},{\"attributes\":{\"coordinates\":null,\"group\":null,\"level\":\"underlay\",\"line_color\":\"grey\",\"location\":0.0},\"id\":\"2201\",\"type\":\"Span\"},{\"attributes\":{},\"id\":\"2187\",\"type\":\"SaveTool\"},{\"attributes\":{\"coordinates\":null,\"data_source\":{\"id\":\"2202\"},\"glyph\":{\"id\":\"2203\"},\"group\":null,\"hover_glyph\":null,\"muted_glyph\":{\"id\":\"2205\"},\"nonselection_glyph\":{\"id\":\"2204\"},\"view\":{\"id\":\"2207\"}},\"id\":\"2206\",\"type\":\"GlyphRenderer\"},{\"attributes\":{},\"id\":\"2303\",\"type\":\"AllLabels\"},{\"attributes\":{\"data\":{\"x\":{\"__ndarray__\":\"AAAAAAAAWcAAAAAAAABZwAAAAAAAAFlAAAAAAAAAWUA=\",\"dtype\":\"float64\",\"order\":\"little\",\"shape\":[4]},\"y\":{\"__ndarray__\":\"AAAAAAAAWUAAAAAAAABZwAAAAAAAAFlAAAAAAAAAWcA=\",\"dtype\":\"float64\",\"order\":\"little\",\"shape\":[4]}},\"selected\":{\"id\":\"2305\"},\"selection_policy\":{\"id\":\"2304\"}},\"id\":\"2202\",\"type\":\"ColumnDataSource\"},{\"attributes\":{},\"id\":\"2188\",\"type\":\"ResetTool\"},{\"attributes\":{},\"id\":\"2181\",\"type\":\"BasicTicker\"},{\"attributes\":{},\"id\":\"2305\",\"type\":\"Selection\"},{\"attributes\":{\"coordinates\":null,\"formatter\":{\"id\":\"2302\"},\"group\":null,\"major_label_policy\":{\"id\":\"2303\"},\"ticker\":{\"id\":\"2177\"}},\"id\":\"2176\",\"type\":\"LinearAxis\"},{\"attributes\":{},\"id\":\"2189\",\"type\":\"HelpTool\"},{\"attributes\":{},\"id\":\"2302\",\"type\":\"BasicTickFormatter\"},{\"attributes\":{\"source\":{\"id\":\"2202\"}},\"id\":\"2207\",\"type\":\"CDSView\"},{\"attributes\":{},\"id\":\"2300\",\"type\":\"AllLabels\"},{\"attributes\":{\"tools\":[{\"id\":\"2184\"},{\"id\":\"2185\"},{\"id\":\"2186\"},{\"id\":\"2187\"},{\"id\":\"2188\"},{\"id\":\"2189\"},{\"id\":\"2191\"}]},\"id\":\"2192\",\"type\":\"Toolbar\"},{\"attributes\":{},\"id\":\"2177\",\"type\":\"BasicTicker\"},{\"attributes\":{},\"id\":\"2174\",\"type\":\"LinearScale\"},{\"attributes\":{\"axis\":{\"id\":\"2176\"},\"coordinates\":null,\"group\":null,\"ticker\":null},\"id\":\"2179\",\"type\":\"Grid\"},{\"attributes\":{\"fill_alpha\":{\"value\":0.2},\"fill_color\":{\"value\":\"pink\"},\"hatch_alpha\":{\"value\":0.2},\"line_alpha\":{\"value\":0.2},\"line_color\":{\"value\":\"grey\"},\"marker\":{\"value\":\"hex\"},\"size\":{\"value\":20},\"x\":{\"field\":\"x\"},\"y\":{\"field\":\"y\"}},\"id\":\"2205\",\"type\":\"Scatter\"},{\"attributes\":{\"axis\":{\"id\":\"2180\"},\"coordinates\":null,\"dimension\":1,\"group\":null,\"ticker\":null},\"id\":\"2183\",\"type\":\"Grid\"},{\"attributes\":{\"coordinates\":null,\"formatter\":{\"id\":\"2299\"},\"group\":null,\"major_label_policy\":{\"id\":\"2300\"},\"ticker\":{\"id\":\"2181\"}},\"id\":\"2180\",\"type\":\"LinearAxis\"},{\"attributes\":{\"fill_color\":{\"value\":\"pink\"},\"line_color\":{\"value\":\"grey\"},\"marker\":{\"value\":\"hex\"},\"size\":{\"value\":20},\"x\":{\"field\":\"x\"},\"y\":{\"field\":\"y\"}},\"id\":\"2203\",\"type\":\"Scatter\"},{\"attributes\":{},\"id\":\"2304\",\"type\":\"UnionRenderers\"},{\"attributes\":{},\"id\":\"2172\",\"type\":\"LinearScale\"},{\"attributes\":{\"bottom_units\":\"screen\",\"coordinates\":null,\"fill_alpha\":0.5,\"fill_color\":\"lightgrey\",\"group\":null,\"left_units\":\"screen\",\"level\":\"overlay\",\"line_alpha\":1.0,\"line_color\":\"black\",\"line_dash\":[4,4],\"line_width\":2,\"right_units\":\"screen\",\"syncable\":false,\"top_units\":\"screen\"},\"id\":\"2190\",\"type\":\"BoxAnnotation\"},{\"attributes\":{\"fill_alpha\":{\"value\":0.1},\"fill_color\":{\"value\":\"pink\"},\"hatch_alpha\":{\"value\":0.1},\"line_alpha\":{\"value\":0.1},\"line_color\":{\"value\":\"grey\"},\"marker\":{\"value\":\"hex\"},\"size\":{\"value\":20},\"x\":{\"field\":\"x\"},\"y\":{\"field\":\"y\"}},\"id\":\"2204\",\"type\":\"Scatter\"},{\"attributes\":{\"callback\":null,\"tooltips\":[[\"Bolt ID\",\"$index\"],[\"x, y coordinates\",\"(@x{0.0}, @y{0.0})\"],[\"Centroid\",\"(0.0, 0.0)\"]]},\"id\":\"2191\",\"type\":\"HoverTool\"},{\"attributes\":{},\"id\":\"2168\",\"type\":\"DataRange1d\"},{\"attributes\":{},\"id\":\"2170\",\"type\":\"DataRange1d\"},{\"attributes\":{\"coordinates\":null,\"dimension\":\"height\",\"group\":null,\"level\":\"underlay\",\"line_color\":\"grey\",\"location\":0.0},\"id\":\"2200\",\"type\":\"Span\"},{\"attributes\":{},\"id\":\"2184\",\"type\":\"PanTool\"},{\"attributes\":{},\"id\":\"2185\",\"type\":\"WheelZoomTool\"}],\"root_ids\":[\"2167\"]},\"title\":\"Bokeh Application\",\"version\":\"2.4.1\"}};\n  const render_items = [{\"docid\":\"661e2e00-10d4-49be-9d8f-25021016844d\",\"root_ids\":[\"2167\"],\"roots\":{\"2167\":\"5c14fc00-e67f-4f49-bf6c-8c8765ecd386\"}}];\n  root.Bokeh.embed.embed_items_notebook(docs_json, render_items);\n\n  }\n  if (root.Bokeh !== undefined) {\n    embed_document(root);\n  } else {\n    let attempts = 0;\n    const timer = setInterval(function(root) {\n      if (root.Bokeh !== undefined) {\n        clearInterval(timer);\n        embed_document(root);\n      } else {\n        attempts++;\n        if (attempts > 100) {\n          clearInterval(timer);\n          console.log(\"Bokeh: ERROR: Unable to run BokehJS code because BokehJS library is missing\");\n        }\n      }\n    }, 10, root)\n  }\n})(window);",
      "application/vnd.bokehjs_exec.v0+json": ""
     },
     "metadata": {
      "application/vnd.bokehjs_exec.v0+json": {
       "id": "2167"
      }
     },
     "output_type": "display_data"
    }
   ],
   "source": [
    "p1 = square(x_dist = 200, Nx = 2, Ny = 2)"
   ]
  },
  {
   "cell_type": "markdown",
   "id": "dd7ca94a",
   "metadata": {},
   "source": [
    "#### Exercise 1.1\n",
    "Generate the coordinates for a square bolt pattern:\n",
    "* width & height equal to 160 mm.\n",
    "* the number of fasteners in the x-direction is 8 \n",
    "* the number of fasteners in the y-direction is 4."
   ]
  },
  {
   "cell_type": "code",
   "execution_count": 21,
   "id": "1fec0c88",
   "metadata": {},
   "outputs": [],
   "source": [
    "# EXERCISE 1.1\n",
    "# note -> # represents comments in python, remove the # when generating the points below\n",
    "\n",
    "# p2 = "
   ]
  },
  {
   "cell_type": "markdown",
   "id": "4074a8b6",
   "metadata": {},
   "source": [
    "### Rectangular bolt pattern"
   ]
  },
  {
   "cell_type": "markdown",
   "id": "9c9262b6",
   "metadata": {},
   "source": [
    "Consider a base base with rectangular bolt pattern.\n",
    "\n",
    "The width of the bolt pattern in the x-direction `x_dist` is 200 mm. The number of bolts in the x-direction `Nx` is 3.\n",
    "\n",
    "The height of the bolt pattern in the y-direction `y-dist` is 350 mm. The number of bolts in the y-dirtection `Ny` is 5."
   ]
  },
  {
   "cell_type": "code",
   "execution_count": 22,
   "id": "47b1f306",
   "metadata": {},
   "outputs": [
    {
     "data": {
      "text/html": [
       "\n",
       "\n",
       "\n",
       "\n",
       "\n",
       "\n",
       "  <div class=\"bk-root\" id=\"4bd167f2-7c60-4d3e-acb3-94b491de748d\" data-root-id=\"2362\"></div>\n"
      ]
     },
     "metadata": {},
     "output_type": "display_data"
    },
    {
     "data": {
      "application/javascript": "(function(root) {\n  function embed_document(root) {\n    \n  const docs_json = {\"53d39256-d43d-4138-bf75-cd33fcc44f9d\":{\"defs\":[],\"roots\":{\"references\":[{\"attributes\":{\"below\":[{\"id\":\"2371\"}],\"center\":[{\"id\":\"2374\"},{\"id\":\"2378\"},{\"id\":\"2395\"},{\"id\":\"2396\"}],\"height\":400,\"left\":[{\"id\":\"2375\"}],\"match_aspect\":true,\"renderers\":[{\"id\":\"2401\"}],\"title\":{\"id\":\"2502\"},\"toolbar\":{\"id\":\"2387\"},\"x_range\":{\"id\":\"2363\"},\"x_scale\":{\"id\":\"2367\"},\"y_range\":{\"id\":\"2365\"},\"y_scale\":{\"id\":\"2369\"}},\"id\":\"2362\",\"subtype\":\"Figure\",\"type\":\"Plot\"},{\"attributes\":{},\"id\":\"2365\",\"type\":\"DataRange1d\"},{\"attributes\":{},\"id\":\"2384\",\"type\":\"HelpTool\"},{\"attributes\":{\"fill_alpha\":{\"value\":0.1},\"fill_color\":{\"value\":\"pink\"},\"hatch_alpha\":{\"value\":0.1},\"line_alpha\":{\"value\":0.1},\"line_color\":{\"value\":\"grey\"},\"marker\":{\"value\":\"hex\"},\"size\":{\"value\":20},\"x\":{\"field\":\"x\"},\"y\":{\"field\":\"y\"}},\"id\":\"2399\",\"type\":\"Scatter\"},{\"attributes\":{},\"id\":\"2505\",\"type\":\"BasicTickFormatter\"},{\"attributes\":{},\"id\":\"2510\",\"type\":\"UnionRenderers\"},{\"attributes\":{},\"id\":\"2508\",\"type\":\"BasicTickFormatter\"},{\"attributes\":{\"fill_alpha\":{\"value\":0.2},\"fill_color\":{\"value\":\"pink\"},\"hatch_alpha\":{\"value\":0.2},\"line_alpha\":{\"value\":0.2},\"line_color\":{\"value\":\"grey\"},\"marker\":{\"value\":\"hex\"},\"size\":{\"value\":20},\"x\":{\"field\":\"x\"},\"y\":{\"field\":\"y\"}},\"id\":\"2400\",\"type\":\"Scatter\"},{\"attributes\":{},\"id\":\"2379\",\"type\":\"PanTool\"},{\"attributes\":{},\"id\":\"2376\",\"type\":\"BasicTicker\"},{\"attributes\":{\"bottom_units\":\"screen\",\"coordinates\":null,\"fill_alpha\":0.5,\"fill_color\":\"lightgrey\",\"group\":null,\"left_units\":\"screen\",\"level\":\"overlay\",\"line_alpha\":1.0,\"line_color\":\"black\",\"line_dash\":[4,4],\"line_width\":2,\"right_units\":\"screen\",\"syncable\":false,\"top_units\":\"screen\"},\"id\":\"2385\",\"type\":\"BoxAnnotation\"},{\"attributes\":{\"axis\":{\"id\":\"2371\"},\"coordinates\":null,\"group\":null,\"ticker\":null},\"id\":\"2374\",\"type\":\"Grid\"},{\"attributes\":{\"data\":{\"x\":{\"__ndarray__\":\"AAAAAAAAWcAAAAAAAABZwAAAAAAAAFnAAAAAAAAAWcAAAAAAAABZwAAAAAAAAAAAAAAAAAAAAAAAAAAAAABZQAAAAAAAAFlAAAAAAAAAWUAAAAAAAABZQAAAAAAAAFlA\",\"dtype\":\"float64\",\"order\":\"little\",\"shape\":[12]},\"y\":{\"__ndarray__\":\"AAAAAADgZUAAAAAAAOBVQAAAAAAAAAAAAAAAAADgVcAAAAAAAOBlwAAAAAAA4GVAAAAAAADgZcAAAAAAAOBlQAAAAAAA4FVAAAAAAAAAAAAAAAAAAOBVwAAAAAAA4GXA\",\"dtype\":\"float64\",\"order\":\"little\",\"shape\":[12]}},\"selected\":{\"id\":\"2511\"},\"selection_policy\":{\"id\":\"2510\"}},\"id\":\"2397\",\"type\":\"ColumnDataSource\"},{\"attributes\":{\"source\":{\"id\":\"2397\"}},\"id\":\"2402\",\"type\":\"CDSView\"},{\"attributes\":{\"tools\":[{\"id\":\"2379\"},{\"id\":\"2380\"},{\"id\":\"2381\"},{\"id\":\"2382\"},{\"id\":\"2383\"},{\"id\":\"2384\"},{\"id\":\"2386\"}]},\"id\":\"2387\",\"type\":\"Toolbar\"},{\"attributes\":{},\"id\":\"2383\",\"type\":\"ResetTool\"},{\"attributes\":{\"coordinates\":null,\"group\":null,\"level\":\"underlay\",\"line_color\":\"grey\",\"location\":0.0},\"id\":\"2396\",\"type\":\"Span\"},{\"attributes\":{},\"id\":\"2369\",\"type\":\"LinearScale\"},{\"attributes\":{\"axis\":{\"id\":\"2375\"},\"coordinates\":null,\"dimension\":1,\"group\":null,\"ticker\":null},\"id\":\"2378\",\"type\":\"Grid\"},{\"attributes\":{},\"id\":\"2372\",\"type\":\"BasicTicker\"},{\"attributes\":{\"callback\":null,\"tooltips\":[[\"Bolt ID\",\"$index\"],[\"x, y coordinates\",\"(@x{0.0}, @y{0.0})\"],[\"Centroid\",\"(0.0, 0.0)\"]]},\"id\":\"2386\",\"type\":\"HoverTool\"},{\"attributes\":{\"coordinates\":null,\"formatter\":{\"id\":\"2508\"},\"group\":null,\"major_label_policy\":{\"id\":\"2509\"},\"ticker\":{\"id\":\"2372\"}},\"id\":\"2371\",\"type\":\"LinearAxis\"},{\"attributes\":{},\"id\":\"2506\",\"type\":\"AllLabels\"},{\"attributes\":{},\"id\":\"2380\",\"type\":\"WheelZoomTool\"},{\"attributes\":{},\"id\":\"2509\",\"type\":\"AllLabels\"},{\"attributes\":{},\"id\":\"2382\",\"type\":\"SaveTool\"},{\"attributes\":{\"coordinates\":null,\"data_source\":{\"id\":\"2397\"},\"glyph\":{\"id\":\"2398\"},\"group\":null,\"hover_glyph\":null,\"muted_glyph\":{\"id\":\"2400\"},\"nonselection_glyph\":{\"id\":\"2399\"},\"view\":{\"id\":\"2402\"}},\"id\":\"2401\",\"type\":\"GlyphRenderer\"},{\"attributes\":{\"coordinates\":null,\"dimension\":\"height\",\"group\":null,\"level\":\"underlay\",\"line_color\":\"grey\",\"location\":0.0},\"id\":\"2395\",\"type\":\"Span\"},{\"attributes\":{},\"id\":\"2511\",\"type\":\"Selection\"},{\"attributes\":{},\"id\":\"2367\",\"type\":\"LinearScale\"},{\"attributes\":{\"coordinates\":null,\"formatter\":{\"id\":\"2505\"},\"group\":null,\"major_label_policy\":{\"id\":\"2506\"},\"ticker\":{\"id\":\"2376\"}},\"id\":\"2375\",\"type\":\"LinearAxis\"},{\"attributes\":{\"coordinates\":null,\"group\":null},\"id\":\"2502\",\"type\":\"Title\"},{\"attributes\":{\"overlay\":{\"id\":\"2385\"}},\"id\":\"2381\",\"type\":\"BoxZoomTool\"},{\"attributes\":{\"fill_color\":{\"value\":\"pink\"},\"line_color\":{\"value\":\"grey\"},\"marker\":{\"value\":\"hex\"},\"size\":{\"value\":20},\"x\":{\"field\":\"x\"},\"y\":{\"field\":\"y\"}},\"id\":\"2398\",\"type\":\"Scatter\"},{\"attributes\":{},\"id\":\"2363\",\"type\":\"DataRange1d\"}],\"root_ids\":[\"2362\"]},\"title\":\"Bokeh Application\",\"version\":\"2.4.1\"}};\n  const render_items = [{\"docid\":\"53d39256-d43d-4138-bf75-cd33fcc44f9d\",\"root_ids\":[\"2362\"],\"roots\":{\"2362\":\"4bd167f2-7c60-4d3e-acb3-94b491de748d\"}}];\n  root.Bokeh.embed.embed_items_notebook(docs_json, render_items);\n\n  }\n  if (root.Bokeh !== undefined) {\n    embed_document(root);\n  } else {\n    let attempts = 0;\n    const timer = setInterval(function(root) {\n      if (root.Bokeh !== undefined) {\n        clearInterval(timer);\n        embed_document(root);\n      } else {\n        attempts++;\n        if (attempts > 100) {\n          clearInterval(timer);\n          console.log(\"Bokeh: ERROR: Unable to run BokehJS code because BokehJS library is missing\");\n        }\n      }\n    }, 10, root)\n  }\n})(window);",
      "application/vnd.bokehjs_exec.v0+json": ""
     },
     "metadata": {
      "application/vnd.bokehjs_exec.v0+json": {
       "id": "2362"
      }
     },
     "output_type": "display_data"
    }
   ],
   "source": [
    "p3 = rectangle(x_dist = 200, y_dist = 350, Nx = 3, Ny = 5)"
   ]
  },
  {
   "cell_type": "markdown",
   "id": "462d4e31",
   "metadata": {},
   "source": [
    "#### Exercise 1.2"
   ]
  },
  {
   "cell_type": "markdown",
   "id": "76cd9bad",
   "metadata": {},
   "source": [
    "Calculate the coordinates of a rectangular bolt pattern:\n",
    "\n",
    "* Width in the x-direction = 367 mm\n",
    "* Height in y-direction = 87 mm\n",
    "* Number of fasteners in x-direction = 11\n",
    "* Number of fasteners in y-direction =  5\n",
    "\n"
   ]
  },
  {
   "cell_type": "code",
   "execution_count": 23,
   "id": "d5880b79",
   "metadata": {},
   "outputs": [],
   "source": [
    "# EXERCISE 1.2\n",
    "\n",
    "# p4 ="
   ]
  },
  {
   "cell_type": "markdown",
   "id": "b928d6c5",
   "metadata": {},
   "source": [
    "### Circular bolt pattern"
   ]
  },
  {
   "cell_type": "markdown",
   "id": "b974faed",
   "metadata": {},
   "source": [
    "Consider a base plate with a circular bolt pattern.\n",
    "\n",
    "The radius `r` is 200 mm.\n",
    "\n",
    "The number of fasteners `N` is 8"
   ]
  },
  {
   "cell_type": "code",
   "execution_count": 24,
   "id": "c5583d90",
   "metadata": {},
   "outputs": [
    {
     "data": {
      "text/html": [
       "\n",
       "\n",
       "\n",
       "\n",
       "\n",
       "\n",
       "  <div class=\"bk-root\" id=\"56df84e1-e4e6-479f-a357-94881f8dd3e6\" data-root-id=\"2568\"></div>\n"
      ]
     },
     "metadata": {},
     "output_type": "display_data"
    },
    {
     "data": {
      "application/javascript": "(function(root) {\n  function embed_document(root) {\n    \n  const docs_json = {\"5291234f-8bc8-4ac6-adcb-37f35790654c\":{\"defs\":[],\"roots\":{\"references\":[{\"attributes\":{\"below\":[{\"id\":\"2577\"}],\"center\":[{\"id\":\"2580\"},{\"id\":\"2584\"},{\"id\":\"2601\"},{\"id\":\"2602\"}],\"height\":400,\"left\":[{\"id\":\"2581\"}],\"match_aspect\":true,\"renderers\":[{\"id\":\"2607\"}],\"title\":{\"id\":\"2719\"},\"toolbar\":{\"id\":\"2593\"},\"x_range\":{\"id\":\"2569\"},\"x_scale\":{\"id\":\"2573\"},\"y_range\":{\"id\":\"2571\"},\"y_scale\":{\"id\":\"2575\"}},\"id\":\"2568\",\"subtype\":\"Figure\",\"type\":\"Plot\"},{\"attributes\":{\"tools\":[{\"id\":\"2585\"},{\"id\":\"2586\"},{\"id\":\"2587\"},{\"id\":\"2588\"},{\"id\":\"2589\"},{\"id\":\"2590\"},{\"id\":\"2592\"}]},\"id\":\"2593\",\"type\":\"Toolbar\"},{\"attributes\":{\"coordinates\":null,\"formatter\":{\"id\":\"2722\"},\"group\":null,\"major_label_policy\":{\"id\":\"2723\"},\"ticker\":{\"id\":\"2582\"}},\"id\":\"2581\",\"type\":\"LinearAxis\"},{\"attributes\":{\"axis\":{\"id\":\"2581\"},\"coordinates\":null,\"dimension\":1,\"group\":null,\"ticker\":null},\"id\":\"2584\",\"type\":\"Grid\"},{\"attributes\":{\"data\":{\"x\":{\"__ndarray__\":\"y8/Pr5uTCz24ZhPAe61hQAAAAAAAAGlAuGYTwHutYUDLz8+vm5MLPbdmE8B7rWHAAAAAAAAAacC5ZhPAe61hwA==\",\"dtype\":\"float64\",\"order\":\"little\",\"shape\":[8]},\"y\":{\"__ndarray__\":\"AAAAAAAAaUC3ZhPAe61hQAAAAAAAAAAAt2YTwHutYcAAAAAAAABpwLhmE8B7rWHAy8/Pr5uTG723ZhPAe61hQA==\",\"dtype\":\"float64\",\"order\":\"little\",\"shape\":[8]}},\"selected\":{\"id\":\"2728\"},\"selection_policy\":{\"id\":\"2727\"}},\"id\":\"2603\",\"type\":\"ColumnDataSource\"},{\"attributes\":{},\"id\":\"2727\",\"type\":\"UnionRenderers\"},{\"attributes\":{\"axis\":{\"id\":\"2577\"},\"coordinates\":null,\"group\":null,\"ticker\":null},\"id\":\"2580\",\"type\":\"Grid\"},{\"attributes\":{\"fill_color\":{\"value\":\"pink\"},\"line_color\":{\"value\":\"grey\"},\"marker\":{\"value\":\"hex\"},\"size\":{\"value\":20},\"x\":{\"field\":\"x\"},\"y\":{\"field\":\"y\"}},\"id\":\"2604\",\"type\":\"Scatter\"},{\"attributes\":{},\"id\":\"2573\",\"type\":\"LinearScale\"},{\"attributes\":{},\"id\":\"2585\",\"type\":\"PanTool\"},{\"attributes\":{},\"id\":\"2725\",\"type\":\"BasicTickFormatter\"},{\"attributes\":{},\"id\":\"2728\",\"type\":\"Selection\"},{\"attributes\":{\"coordinates\":null,\"group\":null},\"id\":\"2719\",\"type\":\"Title\"},{\"attributes\":{\"fill_alpha\":{\"value\":0.2},\"fill_color\":{\"value\":\"pink\"},\"hatch_alpha\":{\"value\":0.2},\"line_alpha\":{\"value\":0.2},\"line_color\":{\"value\":\"grey\"},\"marker\":{\"value\":\"hex\"},\"size\":{\"value\":20},\"x\":{\"field\":\"x\"},\"y\":{\"field\":\"y\"}},\"id\":\"2606\",\"type\":\"Scatter\"},{\"attributes\":{},\"id\":\"2586\",\"type\":\"WheelZoomTool\"},{\"attributes\":{\"source\":{\"id\":\"2603\"}},\"id\":\"2608\",\"type\":\"CDSView\"},{\"attributes\":{\"overlay\":{\"id\":\"2591\"}},\"id\":\"2587\",\"type\":\"BoxZoomTool\"},{\"attributes\":{},\"id\":\"2723\",\"type\":\"AllLabels\"},{\"attributes\":{},\"id\":\"2578\",\"type\":\"BasicTicker\"},{\"attributes\":{\"coordinates\":null,\"data_source\":{\"id\":\"2603\"},\"glyph\":{\"id\":\"2604\"},\"group\":null,\"hover_glyph\":null,\"muted_glyph\":{\"id\":\"2606\"},\"nonselection_glyph\":{\"id\":\"2605\"},\"view\":{\"id\":\"2608\"}},\"id\":\"2607\",\"type\":\"GlyphRenderer\"},{\"attributes\":{},\"id\":\"2571\",\"type\":\"DataRange1d\"},{\"attributes\":{},\"id\":\"2588\",\"type\":\"SaveTool\"},{\"attributes\":{},\"id\":\"2726\",\"type\":\"AllLabels\"},{\"attributes\":{},\"id\":\"2589\",\"type\":\"ResetTool\"},{\"attributes\":{\"coordinates\":null,\"formatter\":{\"id\":\"2725\"},\"group\":null,\"major_label_policy\":{\"id\":\"2726\"},\"ticker\":{\"id\":\"2578\"}},\"id\":\"2577\",\"type\":\"LinearAxis\"},{\"attributes\":{},\"id\":\"2590\",\"type\":\"HelpTool\"},{\"attributes\":{},\"id\":\"2722\",\"type\":\"BasicTickFormatter\"},{\"attributes\":{\"callback\":null,\"tooltips\":[[\"Bolt ID\",\"$index\"],[\"x, y coordinates\",\"(@x{0.0}, @y{0.0})\"],[\"Centroid\",\"(0.0, -0.0)\"]]},\"id\":\"2592\",\"type\":\"HoverTool\"},{\"attributes\":{\"bottom_units\":\"screen\",\"coordinates\":null,\"fill_alpha\":0.5,\"fill_color\":\"lightgrey\",\"group\":null,\"left_units\":\"screen\",\"level\":\"overlay\",\"line_alpha\":1.0,\"line_color\":\"black\",\"line_dash\":[4,4],\"line_width\":2,\"right_units\":\"screen\",\"syncable\":false,\"top_units\":\"screen\"},\"id\":\"2591\",\"type\":\"BoxAnnotation\"},{\"attributes\":{\"coordinates\":null,\"group\":null,\"level\":\"underlay\",\"line_color\":\"grey\",\"location\":-3.552713678800501e-15},\"id\":\"2602\",\"type\":\"Span\"},{\"attributes\":{},\"id\":\"2575\",\"type\":\"LinearScale\"},{\"attributes\":{},\"id\":\"2569\",\"type\":\"DataRange1d\"},{\"attributes\":{},\"id\":\"2582\",\"type\":\"BasicTicker\"},{\"attributes\":{\"fill_alpha\":{\"value\":0.1},\"fill_color\":{\"value\":\"pink\"},\"hatch_alpha\":{\"value\":0.1},\"line_alpha\":{\"value\":0.1},\"line_color\":{\"value\":\"grey\"},\"marker\":{\"value\":\"hex\"},\"size\":{\"value\":20},\"x\":{\"field\":\"x\"},\"y\":{\"field\":\"y\"}},\"id\":\"2605\",\"type\":\"Scatter\"},{\"attributes\":{\"coordinates\":null,\"dimension\":\"height\",\"group\":null,\"level\":\"underlay\",\"line_color\":\"grey\",\"location\":0.0},\"id\":\"2601\",\"type\":\"Span\"}],\"root_ids\":[\"2568\"]},\"title\":\"Bokeh Application\",\"version\":\"2.4.1\"}};\n  const render_items = [{\"docid\":\"5291234f-8bc8-4ac6-adcb-37f35790654c\",\"root_ids\":[\"2568\"],\"roots\":{\"2568\":\"56df84e1-e4e6-479f-a357-94881f8dd3e6\"}}];\n  root.Bokeh.embed.embed_items_notebook(docs_json, render_items);\n\n  }\n  if (root.Bokeh !== undefined) {\n    embed_document(root);\n  } else {\n    let attempts = 0;\n    const timer = setInterval(function(root) {\n      if (root.Bokeh !== undefined) {\n        clearInterval(timer);\n        embed_document(root);\n      } else {\n        attempts++;\n        if (attempts > 100) {\n          clearInterval(timer);\n          console.log(\"Bokeh: ERROR: Unable to run BokehJS code because BokehJS library is missing\");\n        }\n      }\n    }, 10, root)\n  }\n})(window);",
      "application/vnd.bokehjs_exec.v0+json": ""
     },
     "metadata": {
      "application/vnd.bokehjs_exec.v0+json": {
       "id": "2568"
      }
     },
     "output_type": "display_data"
    }
   ],
   "source": [
    "p5 = circle(r = 200, N = 8)"
   ]
  },
  {
   "cell_type": "markdown",
   "id": "4d25e805",
   "metadata": {},
   "source": [
    "#### Exercise 1.3"
   ]
  },
  {
   "cell_type": "markdown",
   "id": "0995042f",
   "metadata": {},
   "source": [
    "Calculate the cooridnates of a circular bolt pattern with:\n",
    "* radius = 225 mm\n",
    "* number of fasteners = 5"
   ]
  },
  {
   "cell_type": "code",
   "execution_count": 25,
   "id": "28959643",
   "metadata": {},
   "outputs": [],
   "source": [
    "# Exercise 1.3\n",
    "\n",
    "# p6 = "
   ]
  },
  {
   "cell_type": "markdown",
   "id": "84a0eff0",
   "metadata": {},
   "source": [
    "Now consider a base plate with a circular bolt pattern.\n",
    "\n",
    "The radius `r` is 160 mm.\n",
    "\n",
    "The number of fasteners `N` is 6.\n",
    "\n",
    "The bolt pattern is rotated clockwise `theta_start_deg` by 35 degrees. If you hover over the bolt with `Bolt ID: 0`, you should be able to observe that the bolt pattern has rotated clockwise 35 degrees from the y-axis."
   ]
  },
  {
   "cell_type": "code",
   "execution_count": 26,
   "id": "9ae88e2d",
   "metadata": {},
   "outputs": [
    {
     "data": {
      "text/html": [
       "\n",
       "\n",
       "\n",
       "\n",
       "\n",
       "\n",
       "  <div class=\"bk-root\" id=\"a04c06c3-dda3-476d-ae77-9f65dac13f2c\" data-root-id=\"2785\"></div>\n"
      ]
     },
     "metadata": {},
     "output_type": "display_data"
    },
    {
     "data": {
      "application/javascript": "(function(root) {\n  function embed_document(root) {\n    \n  const docs_json = {\"25480491-e8cd-4c83-95bf-0f525d7204b4\":{\"defs\":[],\"roots\":{\"references\":[{\"attributes\":{\"below\":[{\"id\":\"2794\"}],\"center\":[{\"id\":\"2797\"},{\"id\":\"2801\"},{\"id\":\"2818\"},{\"id\":\"2819\"}],\"height\":400,\"left\":[{\"id\":\"2798\"}],\"match_aspect\":true,\"renderers\":[{\"id\":\"2824\"}],\"title\":{\"id\":\"2947\"},\"toolbar\":{\"id\":\"2810\"},\"x_range\":{\"id\":\"2786\"},\"x_scale\":{\"id\":\"2790\"},\"y_range\":{\"id\":\"2788\"},\"y_scale\":{\"id\":\"2792\"}},\"id\":\"2785\",\"subtype\":\"Figure\",\"type\":\"Plot\"},{\"attributes\":{\"coordinates\":null,\"formatter\":{\"id\":\"2950\"},\"group\":null,\"major_label_policy\":{\"id\":\"2951\"},\"ticker\":{\"id\":\"2799\"}},\"id\":\"2798\",\"type\":\"LinearAxis\"},{\"attributes\":{},\"id\":\"2799\",\"type\":\"BasicTicker\"},{\"attributes\":{\"axis\":{\"id\":\"2798\"},\"coordinates\":null,\"dimension\":1,\"group\":null,\"ticker\":null},\"id\":\"2801\",\"type\":\"Grid\"},{\"attributes\":{\"data\":{\"x\":{\"__ndarray__\":\"11ubNmzxVkCFDY9QhOxjQDG/gmqc51BA11ubNmzxVsCFDY9QhOxjwDC/gmqc51DA\",\"dtype\":\"float64\",\"order\":\"little\",\"shape\":[6]},\"y\":{\"__ndarray__\":\"jHSt9w5iYEBOIfNmzOMrwKGmHL5LIGLAjHSt9w5iYMB+IfNmzOMrQKKmHL5LIGJA\",\"dtype\":\"float64\",\"order\":\"little\",\"shape\":[6]}},\"selected\":{\"id\":\"2956\"},\"selection_policy\":{\"id\":\"2955\"}},\"id\":\"2820\",\"type\":\"ColumnDataSource\"},{\"attributes\":{\"fill_color\":{\"value\":\"pink\"},\"line_color\":{\"value\":\"grey\"},\"marker\":{\"value\":\"hex\"},\"size\":{\"value\":20},\"x\":{\"field\":\"x\"},\"y\":{\"field\":\"y\"}},\"id\":\"2821\",\"type\":\"Scatter\"},{\"attributes\":{},\"id\":\"2790\",\"type\":\"LinearScale\"},{\"attributes\":{\"coordinates\":null,\"group\":null,\"level\":\"underlay\",\"line_color\":\"grey\",\"location\":1.8947806286936004e-14},\"id\":\"2819\",\"type\":\"Span\"},{\"attributes\":{\"coordinates\":null,\"group\":null},\"id\":\"2947\",\"type\":\"Title\"},{\"attributes\":{\"tools\":[{\"id\":\"2802\"},{\"id\":\"2803\"},{\"id\":\"2804\"},{\"id\":\"2805\"},{\"id\":\"2806\"},{\"id\":\"2807\"},{\"id\":\"2809\"}]},\"id\":\"2810\",\"type\":\"Toolbar\"},{\"attributes\":{\"axis\":{\"id\":\"2794\"},\"coordinates\":null,\"group\":null,\"ticker\":null},\"id\":\"2797\",\"type\":\"Grid\"},{\"attributes\":{\"coordinates\":null,\"dimension\":\"height\",\"group\":null,\"level\":\"underlay\",\"line_color\":\"grey\",\"location\":-4.736951571734001e-15},\"id\":\"2818\",\"type\":\"Span\"},{\"attributes\":{\"fill_alpha\":{\"value\":0.2},\"fill_color\":{\"value\":\"pink\"},\"hatch_alpha\":{\"value\":0.2},\"line_alpha\":{\"value\":0.2},\"line_color\":{\"value\":\"grey\"},\"marker\":{\"value\":\"hex\"},\"size\":{\"value\":20},\"x\":{\"field\":\"x\"},\"y\":{\"field\":\"y\"}},\"id\":\"2823\",\"type\":\"Scatter\"},{\"attributes\":{},\"id\":\"2953\",\"type\":\"BasicTickFormatter\"},{\"attributes\":{},\"id\":\"2802\",\"type\":\"PanTool\"},{\"attributes\":{\"fill_alpha\":{\"value\":0.1},\"fill_color\":{\"value\":\"pink\"},\"hatch_alpha\":{\"value\":0.1},\"line_alpha\":{\"value\":0.1},\"line_color\":{\"value\":\"grey\"},\"marker\":{\"value\":\"hex\"},\"size\":{\"value\":20},\"x\":{\"field\":\"x\"},\"y\":{\"field\":\"y\"}},\"id\":\"2822\",\"type\":\"Scatter\"},{\"attributes\":{},\"id\":\"2803\",\"type\":\"WheelZoomTool\"},{\"attributes\":{\"coordinates\":null,\"data_source\":{\"id\":\"2820\"},\"glyph\":{\"id\":\"2821\"},\"group\":null,\"hover_glyph\":null,\"muted_glyph\":{\"id\":\"2823\"},\"nonselection_glyph\":{\"id\":\"2822\"},\"view\":{\"id\":\"2825\"}},\"id\":\"2824\",\"type\":\"GlyphRenderer\"},{\"attributes\":{\"overlay\":{\"id\":\"2808\"}},\"id\":\"2804\",\"type\":\"BoxZoomTool\"},{\"attributes\":{},\"id\":\"2950\",\"type\":\"BasicTickFormatter\"},{\"attributes\":{},\"id\":\"2788\",\"type\":\"DataRange1d\"},{\"attributes\":{\"source\":{\"id\":\"2820\"}},\"id\":\"2825\",\"type\":\"CDSView\"},{\"attributes\":{},\"id\":\"2805\",\"type\":\"SaveTool\"},{\"attributes\":{},\"id\":\"2792\",\"type\":\"LinearScale\"},{\"attributes\":{},\"id\":\"2955\",\"type\":\"UnionRenderers\"},{\"attributes\":{},\"id\":\"2806\",\"type\":\"ResetTool\"},{\"attributes\":{},\"id\":\"2807\",\"type\":\"HelpTool\"},{\"attributes\":{},\"id\":\"2795\",\"type\":\"BasicTicker\"},{\"attributes\":{},\"id\":\"2956\",\"type\":\"Selection\"},{\"attributes\":{},\"id\":\"2954\",\"type\":\"AllLabels\"},{\"attributes\":{\"callback\":null,\"tooltips\":[[\"Bolt ID\",\"$index\"],[\"x, y coordinates\",\"(@x{0.0}, @y{0.0})\"],[\"Centroid\",\"(-0.0, 0.0)\"]]},\"id\":\"2809\",\"type\":\"HoverTool\"},{\"attributes\":{},\"id\":\"2951\",\"type\":\"AllLabels\"},{\"attributes\":{},\"id\":\"2786\",\"type\":\"DataRange1d\"},{\"attributes\":{\"coordinates\":null,\"formatter\":{\"id\":\"2953\"},\"group\":null,\"major_label_policy\":{\"id\":\"2954\"},\"ticker\":{\"id\":\"2795\"}},\"id\":\"2794\",\"type\":\"LinearAxis\"},{\"attributes\":{\"bottom_units\":\"screen\",\"coordinates\":null,\"fill_alpha\":0.5,\"fill_color\":\"lightgrey\",\"group\":null,\"left_units\":\"screen\",\"level\":\"overlay\",\"line_alpha\":1.0,\"line_color\":\"black\",\"line_dash\":[4,4],\"line_width\":2,\"right_units\":\"screen\",\"syncable\":false,\"top_units\":\"screen\"},\"id\":\"2808\",\"type\":\"BoxAnnotation\"}],\"root_ids\":[\"2785\"]},\"title\":\"Bokeh Application\",\"version\":\"2.4.1\"}};\n  const render_items = [{\"docid\":\"25480491-e8cd-4c83-95bf-0f525d7204b4\",\"root_ids\":[\"2785\"],\"roots\":{\"2785\":\"a04c06c3-dda3-476d-ae77-9f65dac13f2c\"}}];\n  root.Bokeh.embed.embed_items_notebook(docs_json, render_items);\n\n  }\n  if (root.Bokeh !== undefined) {\n    embed_document(root);\n  } else {\n    let attempts = 0;\n    const timer = setInterval(function(root) {\n      if (root.Bokeh !== undefined) {\n        clearInterval(timer);\n        embed_document(root);\n      } else {\n        attempts++;\n        if (attempts > 100) {\n          clearInterval(timer);\n          console.log(\"Bokeh: ERROR: Unable to run BokehJS code because BokehJS library is missing\");\n        }\n      }\n    }, 10, root)\n  }\n})(window);",
      "application/vnd.bokehjs_exec.v0+json": ""
     },
     "metadata": {
      "application/vnd.bokehjs_exec.v0+json": {
       "id": "2785"
      }
     },
     "output_type": "display_data"
    }
   ],
   "source": [
    "p7 = circle(r = 160, N = 6, theta_start_deg = 35)"
   ]
  },
  {
   "cell_type": "markdown",
   "id": "54567462",
   "metadata": {},
   "source": [
    "#### Exercise 1.4"
   ]
  },
  {
   "cell_type": "markdown",
   "id": "338a58b6",
   "metadata": {},
   "source": [
    "Calculate the cooridnates of a circular bolt pattern with:\n",
    "* radius = 177 mm\n",
    "* number of fasteners = 6\n",
    "* bolt pattern rotated 45 degrees from vertical y-axis"
   ]
  },
  {
   "cell_type": "code",
   "execution_count": 27,
   "id": "6efc812e",
   "metadata": {},
   "outputs": [],
   "source": [
    "# EXERCISE 1.4\n",
    "\n",
    "# p8 = "
   ]
  },
  {
   "cell_type": "markdown",
   "id": "5f4646a5",
   "metadata": {},
   "source": [
    "### Arbitary points"
   ]
  },
  {
   "cell_type": "markdown",
   "id": "6c78933f",
   "metadata": {},
   "source": [
    "Finally, consider a bolt pattern made of the coordinates shown below:\n",
    "\n",
    "| ID |x (mm)|y (mm)|\n",
    "|:----|:----:|:----:|\n",
    "| 0 | 0 | -100 |\n",
    "| 1 | 80 | -50 |\n",
    "| 2 | 160 | -120 |\n",
    "| 3 | 120 | 88 |\n",
    "| 4 | -66 | 150 |\n",
    "| 5 | -80 | -20 |"
   ]
  },
  {
   "cell_type": "code",
   "execution_count": 28,
   "id": "a06c82ae",
   "metadata": {},
   "outputs": [
    {
     "data": {
      "text/html": [
       "\n",
       "\n",
       "\n",
       "\n",
       "\n",
       "\n",
       "  <div class=\"bk-root\" id=\"79bff636-adef-4671-86b3-7dead7f1327a\" data-root-id=\"3013\"></div>\n"
      ]
     },
     "metadata": {},
     "output_type": "display_data"
    },
    {
     "data": {
      "application/javascript": "(function(root) {\n  function embed_document(root) {\n    \n  const docs_json = {\"fe53014a-5aa2-4a07-bc62-93e5d24aea1c\":{\"defs\":[],\"roots\":{\"references\":[{\"attributes\":{\"below\":[{\"id\":\"3022\"}],\"center\":[{\"id\":\"3025\"},{\"id\":\"3029\"},{\"id\":\"3046\"},{\"id\":\"3047\"}],\"height\":400,\"left\":[{\"id\":\"3026\"}],\"match_aspect\":true,\"renderers\":[{\"id\":\"3052\"}],\"title\":{\"id\":\"3186\"},\"toolbar\":{\"id\":\"3038\"},\"x_range\":{\"id\":\"3014\"},\"x_scale\":{\"id\":\"3018\"},\"y_range\":{\"id\":\"3016\"},\"y_scale\":{\"id\":\"3020\"}},\"id\":\"3013\",\"subtype\":\"Figure\",\"type\":\"Plot\"},{\"attributes\":{\"data\":{\"x\":[0,80,160,120,-66,-80],\"y\":[-100,-50,-120,88,150,-20]},\"selected\":{\"id\":\"3195\"},\"selection_policy\":{\"id\":\"3194\"}},\"id\":\"3048\",\"type\":\"ColumnDataSource\"},{\"attributes\":{\"coordinates\":null,\"formatter\":{\"id\":\"3192\"},\"group\":null,\"major_label_policy\":{\"id\":\"3193\"},\"ticker\":{\"id\":\"3023\"}},\"id\":\"3022\",\"type\":\"LinearAxis\"},{\"attributes\":{\"bottom_units\":\"screen\",\"coordinates\":null,\"fill_alpha\":0.5,\"fill_color\":\"lightgrey\",\"group\":null,\"left_units\":\"screen\",\"level\":\"overlay\",\"line_alpha\":1.0,\"line_color\":\"black\",\"line_dash\":[4,4],\"line_width\":2,\"right_units\":\"screen\",\"syncable\":false,\"top_units\":\"screen\"},\"id\":\"3036\",\"type\":\"BoxAnnotation\"},{\"attributes\":{\"coordinates\":null,\"group\":null},\"id\":\"3186\",\"type\":\"Title\"},{\"attributes\":{},\"id\":\"3027\",\"type\":\"BasicTicker\"},{\"attributes\":{},\"id\":\"3192\",\"type\":\"BasicTickFormatter\"},{\"attributes\":{},\"id\":\"3023\",\"type\":\"BasicTicker\"},{\"attributes\":{\"axis\":{\"id\":\"3022\"},\"coordinates\":null,\"group\":null,\"ticker\":null},\"id\":\"3025\",\"type\":\"Grid\"},{\"attributes\":{\"fill_alpha\":{\"value\":0.2},\"fill_color\":{\"value\":\"pink\"},\"hatch_alpha\":{\"value\":0.2},\"line_alpha\":{\"value\":0.2},\"line_color\":{\"value\":\"grey\"},\"marker\":{\"value\":\"hex\"},\"size\":{\"value\":20},\"x\":{\"field\":\"x\"},\"y\":{\"field\":\"y\"}},\"id\":\"3051\",\"type\":\"Scatter\"},{\"attributes\":{\"source\":{\"id\":\"3048\"}},\"id\":\"3053\",\"type\":\"CDSView\"},{\"attributes\":{\"axis\":{\"id\":\"3026\"},\"coordinates\":null,\"dimension\":1,\"group\":null,\"ticker\":null},\"id\":\"3029\",\"type\":\"Grid\"},{\"attributes\":{\"callback\":null,\"tooltips\":[[\"Bolt ID\",\"$index\"],[\"x, y coordinates\",\"(@x{0.0}, @y{0.0})\"],[\"Centroid\",\"(35.7, -8.7)\"]]},\"id\":\"3037\",\"type\":\"HoverTool\"},{\"attributes\":{\"coordinates\":null,\"formatter\":{\"id\":\"3189\"},\"group\":null,\"major_label_policy\":{\"id\":\"3190\"},\"ticker\":{\"id\":\"3027\"}},\"id\":\"3026\",\"type\":\"LinearAxis\"},{\"attributes\":{},\"id\":\"3195\",\"type\":\"Selection\"},{\"attributes\":{},\"id\":\"3190\",\"type\":\"AllLabels\"},{\"attributes\":{},\"id\":\"3194\",\"type\":\"UnionRenderers\"},{\"attributes\":{\"coordinates\":null,\"data_source\":{\"id\":\"3048\"},\"glyph\":{\"id\":\"3049\"},\"group\":null,\"hover_glyph\":null,\"muted_glyph\":{\"id\":\"3051\"},\"nonselection_glyph\":{\"id\":\"3050\"},\"view\":{\"id\":\"3053\"}},\"id\":\"3052\",\"type\":\"GlyphRenderer\"},{\"attributes\":{},\"id\":\"3030\",\"type\":\"PanTool\"},{\"attributes\":{\"coordinates\":null,\"group\":null,\"level\":\"underlay\",\"line_color\":\"grey\",\"location\":-8.666666666666666},\"id\":\"3047\",\"type\":\"Span\"},{\"attributes\":{},\"id\":\"3031\",\"type\":\"WheelZoomTool\"},{\"attributes\":{},\"id\":\"3189\",\"type\":\"BasicTickFormatter\"},{\"attributes\":{},\"id\":\"3014\",\"type\":\"DataRange1d\"},{\"attributes\":{\"overlay\":{\"id\":\"3036\"}},\"id\":\"3032\",\"type\":\"BoxZoomTool\"},{\"attributes\":{\"fill_alpha\":{\"value\":0.1},\"fill_color\":{\"value\":\"pink\"},\"hatch_alpha\":{\"value\":0.1},\"line_alpha\":{\"value\":0.1},\"line_color\":{\"value\":\"grey\"},\"marker\":{\"value\":\"hex\"},\"size\":{\"value\":20},\"x\":{\"field\":\"x\"},\"y\":{\"field\":\"y\"}},\"id\":\"3050\",\"type\":\"Scatter\"},{\"attributes\":{},\"id\":\"3016\",\"type\":\"DataRange1d\"},{\"attributes\":{},\"id\":\"3033\",\"type\":\"SaveTool\"},{\"attributes\":{},\"id\":\"3018\",\"type\":\"LinearScale\"},{\"attributes\":{\"tools\":[{\"id\":\"3030\"},{\"id\":\"3031\"},{\"id\":\"3032\"},{\"id\":\"3033\"},{\"id\":\"3034\"},{\"id\":\"3035\"},{\"id\":\"3037\"}]},\"id\":\"3038\",\"type\":\"Toolbar\"},{\"attributes\":{},\"id\":\"3034\",\"type\":\"ResetTool\"},{\"attributes\":{\"fill_color\":{\"value\":\"pink\"},\"line_color\":{\"value\":\"grey\"},\"marker\":{\"value\":\"hex\"},\"size\":{\"value\":20},\"x\":{\"field\":\"x\"},\"y\":{\"field\":\"y\"}},\"id\":\"3049\",\"type\":\"Scatter\"},{\"attributes\":{},\"id\":\"3193\",\"type\":\"AllLabels\"},{\"attributes\":{},\"id\":\"3035\",\"type\":\"HelpTool\"},{\"attributes\":{\"coordinates\":null,\"dimension\":\"height\",\"group\":null,\"level\":\"underlay\",\"line_color\":\"grey\",\"location\":35.666666666666664},\"id\":\"3046\",\"type\":\"Span\"},{\"attributes\":{},\"id\":\"3020\",\"type\":\"LinearScale\"}],\"root_ids\":[\"3013\"]},\"title\":\"Bokeh Application\",\"version\":\"2.4.1\"}};\n  const render_items = [{\"docid\":\"fe53014a-5aa2-4a07-bc62-93e5d24aea1c\",\"root_ids\":[\"3013\"],\"roots\":{\"3013\":\"79bff636-adef-4671-86b3-7dead7f1327a\"}}];\n  root.Bokeh.embed.embed_items_notebook(docs_json, render_items);\n\n  }\n  if (root.Bokeh !== undefined) {\n    embed_document(root);\n  } else {\n    let attempts = 0;\n    const timer = setInterval(function(root) {\n      if (root.Bokeh !== undefined) {\n        clearInterval(timer);\n        embed_document(root);\n      } else {\n        attempts++;\n        if (attempts > 100) {\n          clearInterval(timer);\n          console.log(\"Bokeh: ERROR: Unable to run BokehJS code because BokehJS library is missing\");\n        }\n      }\n    }, 10, root)\n  }\n})(window);",
      "application/vnd.bokehjs_exec.v0+json": ""
     },
     "metadata": {
      "application/vnd.bokehjs_exec.v0+json": {
       "id": "3013"
      }
     },
     "output_type": "display_data"
    }
   ],
   "source": [
    "p9 = points((0,-100), (80, -50), (160, -120), (120, 88), (-66, 150), (-80, -20))"
   ]
  },
  {
   "cell_type": "markdown",
   "id": "f64231c2",
   "metadata": {},
   "source": [
    "#### Exercise 1.5"
   ]
  },
  {
   "cell_type": "markdown",
   "id": "7241ac36",
   "metadata": {},
   "source": [
    "Generate a point array for the bolt pattern comprised of the coordinates shown below:\n",
    "\n",
    "| ID |x (mm)|y (mm)|\n",
    "|:----|:----:|:----:|\n",
    "| 0 | 0 | -50 |\n",
    "| 1 | 60 | -40 |\n",
    "| 2 | 160 | -180 |\n",
    "| 3 | 150 | 67 |\n",
    "| 4 | -50 | 158 |\n",
    "| 5 | -60 | -30 |"
   ]
  },
  {
   "cell_type": "code",
   "execution_count": 29,
   "id": "1715e78b",
   "metadata": {},
   "outputs": [],
   "source": [
    "# EXERCISE 1.5\n",
    "\n",
    "# p10 = "
   ]
  },
  {
   "cell_type": "markdown",
   "id": "6cc29643",
   "metadata": {},
   "source": [
    "## 2. Bolt Centroid"
   ]
  },
  {
   "cell_type": "markdown",
   "id": "456898da",
   "metadata": {},
   "source": [
    "Now that we can quickly calculate the coordinates of various bolt patterns, let's calculate the location of the bolt centroid of the bolt group."
   ]
  },
  {
   "cell_type": "markdown",
   "id": "7502905f",
   "metadata": {},
   "source": [
    "### Pivot point for bolt group"
   ]
  },
  {
   "cell_type": "markdown",
   "id": "5f8450a7",
   "metadata": {},
   "source": [
    "Loads (forces and moments) acting on a bolt group will tend to act about the bolt centroid. The bolt centroid can be thought of as the point that the bolt group pivots about when the loads are applied.\n",
    "\n",
    "The formula for calculating the bolt centroid $x_c$ and $y_c$ is:\n",
    "\n",
    "$$ x_c = \\frac{\\sum_i{x_iA_i}}{\\sum_i{A_i}}    \\qquad  \\qquad y_c = \\frac{\\sum_i{y_iA_i}}{\\sum_i{A_i}} $$"
   ]
  },
  {
   "cell_type": "markdown",
   "id": "f4ff849c",
   "metadata": {},
   "source": [
    "If the **area** of all fasteners is the **same**, the equation for the bolt centroid is reduced to\n",
    "\n",
    "$$ x_c = \\frac{\\sum_i{x_i}}{i}    \\qquad  \\qquad y_c = \\frac{\\sum_i{y_i}}{i} $$"
   ]
  },
  {
   "cell_type": "markdown",
   "id": "4b492d3b",
   "metadata": {},
   "source": [
    "Consider the bolt pattern defined by:\n",
    "\n",
    "| ID |x (mm)|y (mm)|\n",
    "|:----|:----:|:----:|\n",
    "| 0 | 0 | 0 |\n",
    "| 1 | 100 | 0 |\n",
    "| 2 | 100 | 200 |\n",
    "| 3 | 0 | 200 |\n",
    "\n",
    "The same fastener type is used for all bolts in the bolt group (i.e. the area of all fasteners is the same)"
   ]
  },
  {
   "cell_type": "code",
   "execution_count": 30,
   "id": "723e0421",
   "metadata": {},
   "outputs": [
    {
     "data": {
      "text/html": [
       "\n",
       "\n",
       "\n",
       "\n",
       "\n",
       "\n",
       "  <div class=\"bk-root\" id=\"deb8e689-eb91-4bf6-88c2-53a02c0ce1af\" data-root-id=\"3252\"></div>\n"
      ]
     },
     "metadata": {},
     "output_type": "display_data"
    },
    {
     "data": {
      "application/javascript": "(function(root) {\n  function embed_document(root) {\n    \n  const docs_json = {\"ae64ceb8-5ea9-4f34-9e74-a294030adc57\":{\"defs\":[],\"roots\":{\"references\":[{\"attributes\":{\"below\":[{\"id\":\"3261\"}],\"center\":[{\"id\":\"3264\"},{\"id\":\"3268\"},{\"id\":\"3285\"},{\"id\":\"3286\"}],\"height\":400,\"left\":[{\"id\":\"3265\"}],\"match_aspect\":true,\"renderers\":[{\"id\":\"3291\"}],\"title\":{\"id\":\"3436\"},\"toolbar\":{\"id\":\"3277\"},\"x_range\":{\"id\":\"3253\"},\"x_scale\":{\"id\":\"3257\"},\"y_range\":{\"id\":\"3255\"},\"y_scale\":{\"id\":\"3259\"}},\"id\":\"3252\",\"subtype\":\"Figure\",\"type\":\"Plot\"},{\"attributes\":{\"coordinates\":null,\"data_source\":{\"id\":\"3287\"},\"glyph\":{\"id\":\"3288\"},\"group\":null,\"hover_glyph\":null,\"muted_glyph\":{\"id\":\"3290\"},\"nonselection_glyph\":{\"id\":\"3289\"},\"view\":{\"id\":\"3292\"}},\"id\":\"3291\",\"type\":\"GlyphRenderer\"},{\"attributes\":{},\"id\":\"3274\",\"type\":\"HelpTool\"},{\"attributes\":{},\"id\":\"3259\",\"type\":\"LinearScale\"},{\"attributes\":{},\"id\":\"3439\",\"type\":\"BasicTickFormatter\"},{\"attributes\":{\"coordinates\":null,\"formatter\":{\"id\":\"3442\"},\"group\":null,\"major_label_policy\":{\"id\":\"3443\"},\"ticker\":{\"id\":\"3262\"}},\"id\":\"3261\",\"type\":\"LinearAxis\"},{\"attributes\":{\"coordinates\":null,\"group\":null,\"level\":\"underlay\",\"line_color\":\"grey\",\"location\":100.0},\"id\":\"3286\",\"type\":\"Span\"},{\"attributes\":{\"source\":{\"id\":\"3287\"}},\"id\":\"3292\",\"type\":\"CDSView\"},{\"attributes\":{},\"id\":\"3266\",\"type\":\"BasicTicker\"},{\"attributes\":{},\"id\":\"3440\",\"type\":\"AllLabels\"},{\"attributes\":{},\"id\":\"3262\",\"type\":\"BasicTicker\"},{\"attributes\":{\"bottom_units\":\"screen\",\"coordinates\":null,\"fill_alpha\":0.5,\"fill_color\":\"lightgrey\",\"group\":null,\"left_units\":\"screen\",\"level\":\"overlay\",\"line_alpha\":1.0,\"line_color\":\"black\",\"line_dash\":[4,4],\"line_width\":2,\"right_units\":\"screen\",\"syncable\":false,\"top_units\":\"screen\"},\"id\":\"3275\",\"type\":\"BoxAnnotation\"},{\"attributes\":{\"axis\":{\"id\":\"3261\"},\"coordinates\":null,\"group\":null,\"ticker\":null},\"id\":\"3264\",\"type\":\"Grid\"},{\"attributes\":{\"fill_color\":{\"value\":\"pink\"},\"line_color\":{\"value\":\"grey\"},\"marker\":{\"value\":\"hex\"},\"size\":{\"value\":20},\"x\":{\"field\":\"x\"},\"y\":{\"field\":\"y\"}},\"id\":\"3288\",\"type\":\"Scatter\"},{\"attributes\":{\"axis\":{\"id\":\"3265\"},\"coordinates\":null,\"dimension\":1,\"group\":null,\"ticker\":null},\"id\":\"3268\",\"type\":\"Grid\"},{\"attributes\":{\"coordinates\":null,\"formatter\":{\"id\":\"3439\"},\"group\":null,\"major_label_policy\":{\"id\":\"3440\"},\"ticker\":{\"id\":\"3266\"}},\"id\":\"3265\",\"type\":\"LinearAxis\"},{\"attributes\":{\"fill_alpha\":{\"value\":0.1},\"fill_color\":{\"value\":\"pink\"},\"hatch_alpha\":{\"value\":0.1},\"line_alpha\":{\"value\":0.1},\"line_color\":{\"value\":\"grey\"},\"marker\":{\"value\":\"hex\"},\"size\":{\"value\":20},\"x\":{\"field\":\"x\"},\"y\":{\"field\":\"y\"}},\"id\":\"3289\",\"type\":\"Scatter\"},{\"attributes\":{\"data\":{\"x\":[0,100,100,0],\"y\":[0,0,200,200]},\"selected\":{\"id\":\"3445\"},\"selection_policy\":{\"id\":\"3444\"}},\"id\":\"3287\",\"type\":\"ColumnDataSource\"},{\"attributes\":{\"coordinates\":null,\"group\":null},\"id\":\"3436\",\"type\":\"Title\"},{\"attributes\":{\"fill_alpha\":{\"value\":0.2},\"fill_color\":{\"value\":\"pink\"},\"hatch_alpha\":{\"value\":0.2},\"line_alpha\":{\"value\":0.2},\"line_color\":{\"value\":\"grey\"},\"marker\":{\"value\":\"hex\"},\"size\":{\"value\":20},\"x\":{\"field\":\"x\"},\"y\":{\"field\":\"y\"}},\"id\":\"3290\",\"type\":\"Scatter\"},{\"attributes\":{\"tools\":[{\"id\":\"3269\"},{\"id\":\"3270\"},{\"id\":\"3271\"},{\"id\":\"3272\"},{\"id\":\"3273\"},{\"id\":\"3274\"},{\"id\":\"3276\"}]},\"id\":\"3277\",\"type\":\"Toolbar\"},{\"attributes\":{\"coordinates\":null,\"dimension\":\"height\",\"group\":null,\"level\":\"underlay\",\"line_color\":\"grey\",\"location\":50.0},\"id\":\"3285\",\"type\":\"Span\"},{\"attributes\":{\"callback\":null,\"tooltips\":[[\"Bolt ID\",\"$index\"],[\"x, y coordinates\",\"(@x{0.0}, @y{0.0})\"],[\"Centroid\",\"(50.0, 100.0)\"]]},\"id\":\"3276\",\"type\":\"HoverTool\"},{\"attributes\":{},\"id\":\"3269\",\"type\":\"PanTool\"},{\"attributes\":{},\"id\":\"3442\",\"type\":\"BasicTickFormatter\"},{\"attributes\":{},\"id\":\"3443\",\"type\":\"AllLabels\"},{\"attributes\":{},\"id\":\"3270\",\"type\":\"WheelZoomTool\"},{\"attributes\":{},\"id\":\"3444\",\"type\":\"UnionRenderers\"},{\"attributes\":{},\"id\":\"3273\",\"type\":\"ResetTool\"},{\"attributes\":{},\"id\":\"3253\",\"type\":\"DataRange1d\"},{\"attributes\":{\"overlay\":{\"id\":\"3275\"}},\"id\":\"3271\",\"type\":\"BoxZoomTool\"},{\"attributes\":{},\"id\":\"3445\",\"type\":\"Selection\"},{\"attributes\":{},\"id\":\"3255\",\"type\":\"DataRange1d\"},{\"attributes\":{},\"id\":\"3272\",\"type\":\"SaveTool\"},{\"attributes\":{},\"id\":\"3257\",\"type\":\"LinearScale\"}],\"root_ids\":[\"3252\"]},\"title\":\"Bokeh Application\",\"version\":\"2.4.1\"}};\n  const render_items = [{\"docid\":\"ae64ceb8-5ea9-4f34-9e74-a294030adc57\",\"root_ids\":[\"3252\"],\"roots\":{\"3252\":\"deb8e689-eb91-4bf6-88c2-53a02c0ce1af\"}}];\n  root.Bokeh.embed.embed_items_notebook(docs_json, render_items);\n\n  }\n  if (root.Bokeh !== undefined) {\n    embed_document(root);\n  } else {\n    let attempts = 0;\n    const timer = setInterval(function(root) {\n      if (root.Bokeh !== undefined) {\n        clearInterval(timer);\n        embed_document(root);\n      } else {\n        attempts++;\n        if (attempts > 100) {\n          clearInterval(timer);\n          console.log(\"Bokeh: ERROR: Unable to run BokehJS code because BokehJS library is missing\");\n        }\n      }\n    }, 10, root)\n  }\n})(window);",
      "application/vnd.bokehjs_exec.v0+json": ""
     },
     "metadata": {
      "application/vnd.bokehjs_exec.v0+json": {
       "id": "3252"
      }
     },
     "output_type": "display_data"
    }
   ],
   "source": [
    "# The points function returns a tuple of x, y arrays. The x and y arrays are numpy arrays. \n",
    "\n",
    "x, y = p11 = points((0,0), (100,0), (100,200), (0,200))   "
   ]
  },
  {
   "cell_type": "code",
   "execution_count": 31,
   "id": "6c40b2d7",
   "metadata": {},
   "outputs": [
    {
     "data": {
      "text/plain": [
       "array([  0, 100, 100,   0])"
      ]
     },
     "execution_count": 31,
     "metadata": {},
     "output_type": "execute_result"
    }
   ],
   "source": [
    "# x array values\n",
    "x"
   ]
  },
  {
   "cell_type": "code",
   "execution_count": 32,
   "id": "4ac3ded5",
   "metadata": {},
   "outputs": [
    {
     "data": {
      "text/plain": [
       "array([  0,   0, 200, 200])"
      ]
     },
     "execution_count": 32,
     "metadata": {},
     "output_type": "execute_result"
    }
   ],
   "source": [
    "# y array values\n",
    "y"
   ]
  },
  {
   "cell_type": "markdown",
   "id": "d1507669",
   "metadata": {},
   "source": [
    "### Manual calculation - same size fasteners in bolt group"
   ]
  },
  {
   "cell_type": "markdown",
   "id": "45917389",
   "metadata": {},
   "source": [
    "$$ x_c = \\frac{\\sum_i{x_i}}{i}    \\qquad  \\qquad y_c = \\frac{\\sum_i{y_i}}{i} $$"
   ]
  },
  {
   "cell_type": "code",
   "execution_count": 33,
   "id": "83d5d36a",
   "metadata": {},
   "outputs": [
    {
     "name": "stdout",
     "output_type": "stream",
     "text": [
      "The value of xc is:  50.0 mm\n"
     ]
    }
   ],
   "source": [
    "# Calculation of xc\n",
    "\n",
    "xc = (0 + 100 + 100 + 0) / 4\n",
    "\n",
    "print('The value of xc is: ', xc, 'mm')"
   ]
  },
  {
   "cell_type": "code",
   "execution_count": 34,
   "id": "56b3e48e",
   "metadata": {},
   "outputs": [
    {
     "name": "stdout",
     "output_type": "stream",
     "text": [
      "The value of yc is:  100.0 mm\n"
     ]
    }
   ],
   "source": [
    "# Calculation of yc\n",
    "\n",
    "yc = (0 + 0 + 200 + 200) / 4\n",
    "\n",
    "print('The value of yc is: ', yc, 'mm')"
   ]
  },
  {
   "cell_type": "markdown",
   "id": "d578d43e",
   "metadata": {},
   "source": [
    "The value of xc and yc is automatically plotted in the graph when the points were generated with the `points` function"
   ]
  },
  {
   "cell_type": "markdown",
   "id": "57ea62a8",
   "metadata": {},
   "source": [
    "#### Exercise 2.1"
   ]
  },
  {
   "cell_type": "markdown",
   "id": "ae5e448d",
   "metadata": {},
   "source": [
    "Calculate the bolt centroid for the bolt group detailed below:\n",
    "\n",
    "\n",
    "| ID |x (mm)|y (mm)|\n",
    "|:----|:----:|:----:|\n",
    "| 0 | 0 | 0 |\n",
    "| 1 | 120 | -30 |\n",
    "| 2 | 130 | 240 |\n",
    "| 3 | -30 | 145 |\n",
    "\n",
    "The same fastener type is used for all bolts in the bolt group (i.e. the area of all fasteners is the same)\n"
   ]
  },
  {
   "cell_type": "code",
   "execution_count": 35,
   "id": "a04d72e1",
   "metadata": {},
   "outputs": [],
   "source": [
    "# Enter the coorindates\n",
    "\n",
    "# x, y = p12 = "
   ]
  },
  {
   "cell_type": "code",
   "execution_count": 36,
   "id": "34fdf031",
   "metadata": {},
   "outputs": [],
   "source": [
    "# Manually calculate the x coordinate of the centroid\n",
    "\n",
    "# xc = \n",
    "\n",
    "# print('The value of xc is: ', xc)"
   ]
  },
  {
   "cell_type": "code",
   "execution_count": 37,
   "id": "09ae4b09",
   "metadata": {},
   "outputs": [],
   "source": [
    "# Manually calculate the y coordinate of the centroid\n",
    "\n",
    "# yc = \n",
    "\n",
    "# print('The value of yc is: ', yc)"
   ]
  },
  {
   "cell_type": "markdown",
   "id": "ae1b17ef",
   "metadata": {},
   "source": [
    "### Manual Calculation - different size fasteners in the bolt group"
   ]
  },
  {
   "cell_type": "markdown",
   "id": "44f086e1",
   "metadata": {},
   "source": [
    "Calculate the bolt centroid for the bolt group detailed below:\n",
    "\n",
    "\n",
    "| ID |x (mm)|y (mm)| A (mm^2)\n",
    "|:----|:----:|:----:|:----:|\n",
    "| 0 | 0 | 0 | 12 |\n",
    "| 1 | 120 | -30 | 12 |\n",
    "| 2 | 130 | 240 | 30 |\n",
    "| 3 | -30 | 145 | 12 |\n"
   ]
  },
  {
   "cell_type": "code",
   "execution_count": 38,
   "id": "b9e414b1",
   "metadata": {},
   "outputs": [
    {
     "data": {
      "text/html": [
       "\n",
       "\n",
       "\n",
       "\n",
       "\n",
       "\n",
       "  <div class=\"bk-root\" id=\"e007bc94-6d49-4b3a-916b-2a3a323160de\" data-root-id=\"3502\"></div>\n"
      ]
     },
     "metadata": {},
     "output_type": "display_data"
    },
    {
     "data": {
      "application/javascript": "(function(root) {\n  function embed_document(root) {\n    \n  const docs_json = {\"428c4c7b-2f92-4887-b0df-00e522af9cdd\":{\"defs\":[],\"roots\":{\"references\":[{\"attributes\":{\"below\":[{\"id\":\"3511\"}],\"center\":[{\"id\":\"3514\"},{\"id\":\"3518\"},{\"id\":\"3535\"},{\"id\":\"3536\"}],\"height\":400,\"left\":[{\"id\":\"3515\"}],\"match_aspect\":true,\"renderers\":[{\"id\":\"3541\"}],\"title\":{\"id\":\"3697\"},\"toolbar\":{\"id\":\"3527\"},\"x_range\":{\"id\":\"3503\"},\"x_scale\":{\"id\":\"3507\"},\"y_range\":{\"id\":\"3505\"},\"y_scale\":{\"id\":\"3509\"}},\"id\":\"3502\",\"subtype\":\"Figure\",\"type\":\"Plot\"},{\"attributes\":{\"coordinates\":null,\"data_source\":{\"id\":\"3537\"},\"glyph\":{\"id\":\"3538\"},\"group\":null,\"hover_glyph\":null,\"muted_glyph\":{\"id\":\"3540\"},\"nonselection_glyph\":{\"id\":\"3539\"},\"view\":{\"id\":\"3542\"}},\"id\":\"3541\",\"type\":\"GlyphRenderer\"},{\"attributes\":{},\"id\":\"3519\",\"type\":\"PanTool\"},{\"attributes\":{},\"id\":\"3520\",\"type\":\"WheelZoomTool\"},{\"attributes\":{},\"id\":\"3701\",\"type\":\"AllLabels\"},{\"attributes\":{\"tools\":[{\"id\":\"3519\"},{\"id\":\"3520\"},{\"id\":\"3521\"},{\"id\":\"3522\"},{\"id\":\"3523\"},{\"id\":\"3524\"},{\"id\":\"3526\"}]},\"id\":\"3527\",\"type\":\"Toolbar\"},{\"attributes\":{\"source\":{\"id\":\"3537\"}},\"id\":\"3542\",\"type\":\"CDSView\"},{\"attributes\":{},\"id\":\"3505\",\"type\":\"DataRange1d\"},{\"attributes\":{\"coordinates\":null,\"dimension\":\"height\",\"group\":null,\"level\":\"underlay\",\"line_color\":\"grey\",\"location\":55.0},\"id\":\"3535\",\"type\":\"Span\"},{\"attributes\":{\"overlay\":{\"id\":\"3525\"}},\"id\":\"3521\",\"type\":\"BoxZoomTool\"},{\"attributes\":{},\"id\":\"3522\",\"type\":\"SaveTool\"},{\"attributes\":{},\"id\":\"3507\",\"type\":\"LinearScale\"},{\"attributes\":{\"callback\":null,\"tooltips\":[[\"Bolt ID\",\"$index\"],[\"x, y coordinates\",\"(@x{0.0}, @y{0.0})\"],[\"Centroid\",\"(55.0, 88.8)\"]]},\"id\":\"3526\",\"type\":\"HoverTool\"},{\"attributes\":{\"coordinates\":null,\"group\":null},\"id\":\"3697\",\"type\":\"Title\"},{\"attributes\":{},\"id\":\"3523\",\"type\":\"ResetTool\"},{\"attributes\":{\"fill_alpha\":{\"value\":0.1},\"fill_color\":{\"value\":\"pink\"},\"hatch_alpha\":{\"value\":0.1},\"line_alpha\":{\"value\":0.1},\"line_color\":{\"value\":\"grey\"},\"marker\":{\"value\":\"hex\"},\"size\":{\"value\":20},\"x\":{\"field\":\"x\"},\"y\":{\"field\":\"y\"}},\"id\":\"3539\",\"type\":\"Scatter\"},{\"attributes\":{\"fill_alpha\":{\"value\":0.2},\"fill_color\":{\"value\":\"pink\"},\"hatch_alpha\":{\"value\":0.2},\"line_alpha\":{\"value\":0.2},\"line_color\":{\"value\":\"grey\"},\"marker\":{\"value\":\"hex\"},\"size\":{\"value\":20},\"x\":{\"field\":\"x\"},\"y\":{\"field\":\"y\"}},\"id\":\"3540\",\"type\":\"Scatter\"},{\"attributes\":{},\"id\":\"3503\",\"type\":\"DataRange1d\"},{\"attributes\":{},\"id\":\"3524\",\"type\":\"HelpTool\"},{\"attributes\":{},\"id\":\"3706\",\"type\":\"Selection\"},{\"attributes\":{\"data\":{\"x\":[0,120,130,-30],\"y\":[0,-30,240,145]},\"selected\":{\"id\":\"3706\"},\"selection_policy\":{\"id\":\"3705\"}},\"id\":\"3537\",\"type\":\"ColumnDataSource\"},{\"attributes\":{},\"id\":\"3509\",\"type\":\"LinearScale\"},{\"attributes\":{\"coordinates\":null,\"formatter\":{\"id\":\"3703\"},\"group\":null,\"major_label_policy\":{\"id\":\"3704\"},\"ticker\":{\"id\":\"3512\"}},\"id\":\"3511\",\"type\":\"LinearAxis\"},{\"attributes\":{},\"id\":\"3705\",\"type\":\"UnionRenderers\"},{\"attributes\":{\"bottom_units\":\"screen\",\"coordinates\":null,\"fill_alpha\":0.5,\"fill_color\":\"lightgrey\",\"group\":null,\"left_units\":\"screen\",\"level\":\"overlay\",\"line_alpha\":1.0,\"line_color\":\"black\",\"line_dash\":[4,4],\"line_width\":2,\"right_units\":\"screen\",\"syncable\":false,\"top_units\":\"screen\"},\"id\":\"3525\",\"type\":\"BoxAnnotation\"},{\"attributes\":{},\"id\":\"3516\",\"type\":\"BasicTicker\"},{\"attributes\":{},\"id\":\"3512\",\"type\":\"BasicTicker\"},{\"attributes\":{\"axis\":{\"id\":\"3511\"},\"coordinates\":null,\"group\":null,\"ticker\":null},\"id\":\"3514\",\"type\":\"Grid\"},{\"attributes\":{\"axis\":{\"id\":\"3515\"},\"coordinates\":null,\"dimension\":1,\"group\":null,\"ticker\":null},\"id\":\"3518\",\"type\":\"Grid\"},{\"attributes\":{\"coordinates\":null,\"formatter\":{\"id\":\"3700\"},\"group\":null,\"major_label_policy\":{\"id\":\"3701\"},\"ticker\":{\"id\":\"3516\"}},\"id\":\"3515\",\"type\":\"LinearAxis\"},{\"attributes\":{},\"id\":\"3704\",\"type\":\"AllLabels\"},{\"attributes\":{\"coordinates\":null,\"group\":null,\"level\":\"underlay\",\"line_color\":\"grey\",\"location\":88.75},\"id\":\"3536\",\"type\":\"Span\"},{\"attributes\":{},\"id\":\"3700\",\"type\":\"BasicTickFormatter\"},{\"attributes\":{},\"id\":\"3703\",\"type\":\"BasicTickFormatter\"},{\"attributes\":{\"fill_color\":{\"value\":\"pink\"},\"line_color\":{\"value\":\"grey\"},\"marker\":{\"value\":\"hex\"},\"size\":{\"value\":20},\"x\":{\"field\":\"x\"},\"y\":{\"field\":\"y\"}},\"id\":\"3538\",\"type\":\"Scatter\"}],\"root_ids\":[\"3502\"]},\"title\":\"Bokeh Application\",\"version\":\"2.4.1\"}};\n  const render_items = [{\"docid\":\"428c4c7b-2f92-4887-b0df-00e522af9cdd\",\"root_ids\":[\"3502\"],\"roots\":{\"3502\":\"e007bc94-6d49-4b3a-916b-2a3a323160de\"}}];\n  root.Bokeh.embed.embed_items_notebook(docs_json, render_items);\n\n  }\n  if (root.Bokeh !== undefined) {\n    embed_document(root);\n  } else {\n    let attempts = 0;\n    const timer = setInterval(function(root) {\n      if (root.Bokeh !== undefined) {\n        clearInterval(timer);\n        embed_document(root);\n      } else {\n        attempts++;\n        if (attempts > 100) {\n          clearInterval(timer);\n          console.log(\"Bokeh: ERROR: Unable to run BokehJS code because BokehJS library is missing\");\n        }\n      }\n    }, 10, root)\n  }\n})(window);",
      "application/vnd.bokehjs_exec.v0+json": ""
     },
     "metadata": {
      "application/vnd.bokehjs_exec.v0+json": {
       "id": "3502"
      }
     },
     "output_type": "display_data"
    }
   ],
   "source": [
    "x, y = p13 = points((0,0), (120,-30), (130,240), (-30, 145))\n",
    "\n",
    "# caution: graph below displays centroid when all bolts are the equal as Area not passed to function"
   ]
  },
  {
   "cell_type": "markdown",
   "id": "87f1e576",
   "metadata": {},
   "source": [
    "$$ x_c = \\frac{\\sum_i{x_iA_i}}{\\sum_i{A_i}}    \\qquad  \\qquad y_c = \\frac{\\sum_i{y_iA_i}}{\\sum_i{A_i}} $$"
   ]
  },
  {
   "cell_type": "code",
   "execution_count": 39,
   "id": "e154d64f",
   "metadata": {},
   "outputs": [
    {
     "name": "stdout",
     "output_type": "stream",
     "text": [
      "The value of xc is:  75.45454545454545\n"
     ]
    }
   ],
   "source": [
    "xc = ( 0*12 + 120*12 + 130*30 + -30*12 ) / (12 + 12 + 30 + 12)\n",
    "\n",
    "print('The value of xc is: ', xc)"
   ]
  },
  {
   "cell_type": "code",
   "execution_count": 40,
   "id": "f673bb30",
   "metadata": {},
   "outputs": [
    {
     "name": "stdout",
     "output_type": "stream",
     "text": [
      "The value of yc is:  130.0\n"
     ]
    }
   ],
   "source": [
    "yc = ( 0*12 + -30*12 + 240*30 + 145*12 ) / (12 + 12 + 30 + 12)\n",
    "\n",
    "print('The value of yc is: ', yc)"
   ]
  },
  {
   "cell_type": "markdown",
   "id": "d2cc62d6",
   "metadata": {},
   "source": [
    "#### Exercise 2.2"
   ]
  },
  {
   "cell_type": "markdown",
   "id": "51140114",
   "metadata": {},
   "source": [
    "Calculate the bolt centroid for the bolt group detailed below:\n",
    "\n",
    "\n",
    "| ID |x (mm)|y (mm)| A (mm^2)\n",
    "|:----|:----:|:----:|:----:|\n",
    "| 0 | 0 | 0 | 15 |\n",
    "| 1 | 120 | -50 | 20 |\n",
    "| 2 | 200 | -80 | 20 |\n",
    "| 3 | 100 | 160 | 25 |\n",
    "| 4 | 220 | 185 | 25 |\n",
    "| 5 | -30 | 145 | 14 |\n"
   ]
  },
  {
   "cell_type": "code",
   "execution_count": 41,
   "id": "f2a2f51a",
   "metadata": {},
   "outputs": [],
   "source": [
    "# EXERCISE 2.2\n",
    "\n",
    "# x, y = p14 = "
   ]
  },
  {
   "cell_type": "code",
   "execution_count": 42,
   "id": "9707bb67",
   "metadata": {},
   "outputs": [],
   "source": [
    "# xc = \n",
    "\n",
    "# print('The value of xc is: ', xc)"
   ]
  },
  {
   "cell_type": "code",
   "execution_count": 43,
   "id": "07f484b6",
   "metadata": {},
   "outputs": [],
   "source": [
    "# yc = \n",
    "\n",
    "# print('The value of yc is: ', yc)"
   ]
  },
  {
   "cell_type": "markdown",
   "id": "152543a6",
   "metadata": {},
   "source": [
    "### Automatic calculation of bolt centroid"
   ]
  },
  {
   "cell_type": "markdown",
   "id": "8cf7303b",
   "metadata": {},
   "source": [
    "You can use the bolt_centroid function to calculate the centroid of the bolt group.\n",
    "\n",
    "We will check our manual calculations:"
   ]
  },
  {
   "cell_type": "code",
   "execution_count": 44,
   "id": "e3e6f550",
   "metadata": {},
   "outputs": [
    {
     "data": {
      "text/plain": [
       "(50.0, 100.0)"
      ]
     },
     "execution_count": 44,
     "metadata": {},
     "output_type": "execute_result"
    }
   ],
   "source": [
    "# calculate bolt centroid for the coordinates p11\n",
    "\n",
    "bolt_centroid(points = p11)"
   ]
  },
  {
   "cell_type": "code",
   "execution_count": 45,
   "id": "e1c93538",
   "metadata": {},
   "outputs": [
    {
     "data": {
      "text/plain": [
       "(75.45454545454545, 130.0)"
      ]
     },
     "execution_count": 45,
     "metadata": {},
     "output_type": "execute_result"
    }
   ],
   "source": [
    "# calculate the bolt centroid for the coodinates p13\n",
    "\n",
    "bolt_centroid(points = p13, A = (12, 12, 30, 12))"
   ]
  },
  {
   "cell_type": "markdown",
   "id": "bbb71a98",
   "metadata": {},
   "source": [
    "#### Exercise 2.3"
   ]
  },
  {
   "cell_type": "code",
   "execution_count": 46,
   "id": "2ec2d2b6",
   "metadata": {},
   "outputs": [],
   "source": [
    "# check your manual calculation for coordinates p12\n",
    "\n"
   ]
  },
  {
   "cell_type": "code",
   "execution_count": 47,
   "id": "c7829571",
   "metadata": {},
   "outputs": [],
   "source": [
    "# check your manual calculation for coordinates p14\n"
   ]
  },
  {
   "cell_type": "markdown",
   "id": "e2eb2350",
   "metadata": {},
   "source": [
    "### Impact of fastener area on bolt centroid location"
   ]
  },
  {
   "cell_type": "markdown",
   "id": "929110c3",
   "metadata": {},
   "source": [
    "To graphically explore the effect of bolt area on the location of the bolt centroid, consider the following bolt pattern."
   ]
  },
  {
   "cell_type": "code",
   "execution_count": 48,
   "id": "80bf1ec9",
   "metadata": {},
   "outputs": [
    {
     "data": {
      "text/html": [
       "\n",
       "\n",
       "\n",
       "\n",
       "\n",
       "\n",
       "  <div class=\"bk-root\" id=\"a055b2f7-e2ee-4690-9d2c-272ccb00514e\" data-root-id=\"3763\"></div>\n"
      ]
     },
     "metadata": {},
     "output_type": "display_data"
    },
    {
     "data": {
      "application/javascript": "(function(root) {\n  function embed_document(root) {\n    \n  const docs_json = {\"c9c0d880-9228-49b4-b271-0d42a86d309a\":{\"defs\":[],\"roots\":{\"references\":[{\"attributes\":{\"below\":[{\"id\":\"3772\"}],\"center\":[{\"id\":\"3775\"},{\"id\":\"3779\"},{\"id\":\"3796\"},{\"id\":\"3797\"}],\"height\":400,\"left\":[{\"id\":\"3776\"}],\"match_aspect\":true,\"renderers\":[{\"id\":\"3802\"}],\"title\":{\"id\":\"3969\"},\"toolbar\":{\"id\":\"3788\"},\"x_range\":{\"id\":\"3764\"},\"x_scale\":{\"id\":\"3768\"},\"y_range\":{\"id\":\"3766\"},\"y_scale\":{\"id\":\"3770\"}},\"id\":\"3763\",\"subtype\":\"Figure\",\"type\":\"Plot\"},{\"attributes\":{\"source\":{\"id\":\"3798\"}},\"id\":\"3803\",\"type\":\"CDSView\"},{\"attributes\":{},\"id\":\"3784\",\"type\":\"ResetTool\"},{\"attributes\":{\"coordinates\":null,\"dimension\":\"height\",\"group\":null,\"level\":\"underlay\",\"line_color\":\"grey\",\"location\":0.0},\"id\":\"3796\",\"type\":\"Span\"},{\"attributes\":{\"coordinates\":null,\"formatter\":{\"id\":\"3972\"},\"group\":null,\"major_label_policy\":{\"id\":\"3973\"},\"ticker\":{\"id\":\"3777\"}},\"id\":\"3776\",\"type\":\"LinearAxis\"},{\"attributes\":{\"coordinates\":null,\"formatter\":{\"id\":\"3975\"},\"group\":null,\"major_label_policy\":{\"id\":\"3976\"},\"ticker\":{\"id\":\"3773\"}},\"id\":\"3772\",\"type\":\"LinearAxis\"},{\"attributes\":{\"coordinates\":null,\"group\":null,\"level\":\"underlay\",\"line_color\":\"grey\",\"location\":0.0},\"id\":\"3797\",\"type\":\"Span\"},{\"attributes\":{\"fill_alpha\":{\"value\":0.1},\"fill_color\":{\"value\":\"pink\"},\"hatch_alpha\":{\"value\":0.1},\"line_alpha\":{\"value\":0.1},\"line_color\":{\"value\":\"grey\"},\"marker\":{\"value\":\"hex\"},\"size\":{\"value\":20},\"x\":{\"field\":\"x\"},\"y\":{\"field\":\"y\"}},\"id\":\"3800\",\"type\":\"Scatter\"},{\"attributes\":{\"axis\":{\"id\":\"3776\"},\"coordinates\":null,\"dimension\":1,\"group\":null,\"ticker\":null},\"id\":\"3779\",\"type\":\"Grid\"},{\"attributes\":{\"fill_color\":{\"value\":\"pink\"},\"line_color\":{\"value\":\"grey\"},\"marker\":{\"value\":\"hex\"},\"size\":{\"value\":20},\"x\":{\"field\":\"x\"},\"y\":{\"field\":\"y\"}},\"id\":\"3799\",\"type\":\"Scatter\"},{\"attributes\":{},\"id\":\"3780\",\"type\":\"PanTool\"},{\"attributes\":{},\"id\":\"3973\",\"type\":\"AllLabels\"},{\"attributes\":{},\"id\":\"3773\",\"type\":\"BasicTicker\"},{\"attributes\":{\"axis\":{\"id\":\"3772\"},\"coordinates\":null,\"group\":null,\"ticker\":null},\"id\":\"3775\",\"type\":\"Grid\"},{\"attributes\":{},\"id\":\"3781\",\"type\":\"WheelZoomTool\"},{\"attributes\":{},\"id\":\"3976\",\"type\":\"AllLabels\"},{\"attributes\":{\"tools\":[{\"id\":\"3780\"},{\"id\":\"3781\"},{\"id\":\"3782\"},{\"id\":\"3783\"},{\"id\":\"3784\"},{\"id\":\"3785\"},{\"id\":\"3787\"}]},\"id\":\"3788\",\"type\":\"Toolbar\"},{\"attributes\":{},\"id\":\"3972\",\"type\":\"BasicTickFormatter\"},{\"attributes\":{\"overlay\":{\"id\":\"3786\"}},\"id\":\"3782\",\"type\":\"BoxZoomTool\"},{\"attributes\":{},\"id\":\"3977\",\"type\":\"UnionRenderers\"},{\"attributes\":{\"coordinates\":null,\"group\":null},\"id\":\"3969\",\"type\":\"Title\"},{\"attributes\":{},\"id\":\"3777\",\"type\":\"BasicTicker\"},{\"attributes\":{},\"id\":\"3975\",\"type\":\"BasicTickFormatter\"},{\"attributes\":{\"coordinates\":null,\"data_source\":{\"id\":\"3798\"},\"glyph\":{\"id\":\"3799\"},\"group\":null,\"hover_glyph\":null,\"muted_glyph\":{\"id\":\"3801\"},\"nonselection_glyph\":{\"id\":\"3800\"},\"view\":{\"id\":\"3803\"}},\"id\":\"3802\",\"type\":\"GlyphRenderer\"},{\"attributes\":{\"callback\":null,\"tooltips\":[[\"Bolt ID\",\"$index\"],[\"x, y coordinates\",\"(@x{0.0}, @y{0.0})\"],[\"Centroid\",\"(0.0, 0.0)\"]]},\"id\":\"3787\",\"type\":\"HoverTool\"},{\"attributes\":{\"bottom_units\":\"screen\",\"coordinates\":null,\"fill_alpha\":0.5,\"fill_color\":\"lightgrey\",\"group\":null,\"left_units\":\"screen\",\"level\":\"overlay\",\"line_alpha\":1.0,\"line_color\":\"black\",\"line_dash\":[4,4],\"line_width\":2,\"right_units\":\"screen\",\"syncable\":false,\"top_units\":\"screen\"},\"id\":\"3786\",\"type\":\"BoxAnnotation\"},{\"attributes\":{},\"id\":\"3783\",\"type\":\"SaveTool\"},{\"attributes\":{},\"id\":\"3978\",\"type\":\"Selection\"},{\"attributes\":{},\"id\":\"3764\",\"type\":\"DataRange1d\"},{\"attributes\":{\"fill_alpha\":{\"value\":0.2},\"fill_color\":{\"value\":\"pink\"},\"hatch_alpha\":{\"value\":0.2},\"line_alpha\":{\"value\":0.2},\"line_color\":{\"value\":\"grey\"},\"marker\":{\"value\":\"hex\"},\"size\":{\"value\":20},\"x\":{\"field\":\"x\"},\"y\":{\"field\":\"y\"}},\"id\":\"3801\",\"type\":\"Scatter\"},{\"attributes\":{},\"id\":\"3785\",\"type\":\"HelpTool\"},{\"attributes\":{},\"id\":\"3766\",\"type\":\"DataRange1d\"},{\"attributes\":{},\"id\":\"3768\",\"type\":\"LinearScale\"},{\"attributes\":{},\"id\":\"3770\",\"type\":\"LinearScale\"},{\"attributes\":{\"data\":{\"x\":{\"__ndarray__\":\"AAAAAAAAWcAAAAAAAABZwAAAAAAAAFlAAAAAAAAAWUA=\",\"dtype\":\"float64\",\"order\":\"little\",\"shape\":[4]},\"y\":{\"__ndarray__\":\"AAAAAAAAWUAAAAAAAABZwAAAAAAAAFlAAAAAAAAAWcA=\",\"dtype\":\"float64\",\"order\":\"little\",\"shape\":[4]}},\"selected\":{\"id\":\"3978\"},\"selection_policy\":{\"id\":\"3977\"}},\"id\":\"3798\",\"type\":\"ColumnDataSource\"}],\"root_ids\":[\"3763\"]},\"title\":\"Bokeh Application\",\"version\":\"2.4.1\"}};\n  const render_items = [{\"docid\":\"c9c0d880-9228-49b4-b271-0d42a86d309a\",\"root_ids\":[\"3763\"],\"roots\":{\"3763\":\"a055b2f7-e2ee-4690-9d2c-272ccb00514e\"}}];\n  root.Bokeh.embed.embed_items_notebook(docs_json, render_items);\n\n  }\n  if (root.Bokeh !== undefined) {\n    embed_document(root);\n  } else {\n    let attempts = 0;\n    const timer = setInterval(function(root) {\n      if (root.Bokeh !== undefined) {\n        clearInterval(timer);\n        embed_document(root);\n      } else {\n        attempts++;\n        if (attempts > 100) {\n          clearInterval(timer);\n          console.log(\"Bokeh: ERROR: Unable to run BokehJS code because BokehJS library is missing\");\n        }\n      }\n    }, 10, root)\n  }\n})(window);",
      "application/vnd.bokehjs_exec.v0+json": ""
     },
     "metadata": {
      "application/vnd.bokehjs_exec.v0+json": {
       "id": "3763"
      }
     },
     "output_type": "display_data"
    }
   ],
   "source": [
    "p15 = square(x_dist = 200, Nx = 2, Ny = 2)"
   ]
  },
  {
   "cell_type": "markdown",
   "id": "99cba279",
   "metadata": {},
   "source": [
    "If all fasteners are the same, the centroid will be located at:"
   ]
  },
  {
   "cell_type": "code",
   "execution_count": 49,
   "id": "50aa2558",
   "metadata": {},
   "outputs": [
    {
     "data": {
      "text/plain": [
       "(0.0, 0.0)"
      ]
     },
     "execution_count": 49,
     "metadata": {},
     "output_type": "execute_result"
    }
   ],
   "source": [
    "bolt_centroid(points = p15)"
   ]
  },
  {
   "cell_type": "markdown",
   "id": "843b53f9",
   "metadata": {},
   "source": [
    "Now we will keep all other bolt areas the same, but only change the area for `Bolt ID: 0` with the interactive slider below:"
   ]
  },
  {
   "cell_type": "code",
   "execution_count": 50,
   "id": "0317b58d",
   "metadata": {},
   "outputs": [
    {
     "data": {
      "application/vnd.jupyter.widget-view+json": {
       "model_id": "816fb8ce6c644247990b7b6e64e9caa3",
       "version_major": 2,
       "version_minor": 0
      },
      "text/plain": [
       "interactive(children=(IntSlider(value=10, description='Area_Bolt0', max=50, min=10), Output()), _dom_classes=(…"
      ]
     },
     "metadata": {},
     "output_type": "display_data"
    }
   ],
   "source": [
    "from ipywidgets import interact, IntSlider\n",
    "\n",
    "@interact(Area_Bolt0 = IntSlider(min=10, max=50, step=1, value=10))\n",
    "def impact_of_area(Area_Bolt0):\n",
    "    return square(x_dist = 200, Nx = 2, Ny = 2, plot = True, A = (Area_Bolt0, 10, 10, 10))"
   ]
  },
  {
   "cell_type": "markdown",
   "id": "50b5826d-bca2-4617-be15-99778afd8aea",
   "metadata": {
    "tags": []
   },
   "source": [
    "# \n",
    "\n",
    "You will be able to observe that as the area of Bolt0 is increased, the centroid moves closer and closer to Bolt0.\n",
    "\n",
    "The bolt centroid will tend towards the location of highest bolt area."
   ]
  }
 ],
 "metadata": {
  "kernelspec": {
   "display_name": "Python 3 (ipykernel)",
   "language": "python",
   "name": "python3"
  },
  "language_info": {
   "codemirror_mode": {
    "name": "ipython",
    "version": 3
   },
   "file_extension": ".py",
   "mimetype": "text/x-python",
   "name": "python",
   "nbconvert_exporter": "python",
   "pygments_lexer": "ipython3",
   "version": "3.7.11"
  }
 },
 "nbformat": 4,
 "nbformat_minor": 5
}
