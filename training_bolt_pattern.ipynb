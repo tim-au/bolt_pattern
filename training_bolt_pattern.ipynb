{
 "cells": [
  {
   "cell_type": "markdown",
   "id": "0af280c6-8b19-45f6-998e-059d6b1138c8",
   "metadata": {
    "tags": []
   },
   "source": [
    "# How to calculate bolt loads within a bolt group\n",
    "**Timothy Teske** \n",
    "\n",
    "\n",
    "A **bolt group** is a collection of fasteners through which loads (forces and moments) are reacted. The forces and moments acting on the bolt group self-distrubute to act on each individual bolt within the bolt group. The reaction force generated in each bolt will be a combination of tensile and shear forces within each bolt.\n",
    "\n",
    "\n",
    "The steps involved in calculating the individual bolt loads on fasteners within a bolt group are shown below:\n",
    "\n",
    "1. Determine the x, y cooridnates of each bolt within the bolt group\n",
    "2. Determine the centroid of the bolt group\n",
    "3. Determine the loads (forces and moments) acting at the centroid of the bolt group\n",
    "4. Distribute the loads on the bolt group centroid to each individual bolt"
   ]
  },
  {
   "cell_type": "markdown",
   "id": "95c26dff",
   "metadata": {},
   "source": [
    "The worksheet below walks through calculations of bolt loads within a bolt group, but first we will import some functions and objects which will make the calculations very easy."
   ]
  },
  {
   "cell_type": "code",
   "execution_count": 1,
   "id": "06884404",
   "metadata": {},
   "outputs": [
    {
     "data": {
      "text/html": [
       "\n",
       "    <div class=\"bk-root\">\n",
       "        <a href=\"https://bokeh.org\" target=\"_blank\" class=\"bk-logo bk-logo-small bk-logo-notebook\"></a>\n",
       "        <span id=\"1002\">Loading BokehJS ...</span>\n",
       "    </div>"
      ]
     },
     "metadata": {},
     "output_type": "display_data"
    },
    {
     "data": {
      "application/javascript": "\n(function(root) {\n  function now() {\n    return new Date();\n  }\n\n  const force = true;\n\n  if (typeof root._bokeh_onload_callbacks === \"undefined\" || force === true) {\n    root._bokeh_onload_callbacks = [];\n    root._bokeh_is_loading = undefined;\n  }\n\n  const JS_MIME_TYPE = 'application/javascript';\n  const HTML_MIME_TYPE = 'text/html';\n  const EXEC_MIME_TYPE = 'application/vnd.bokehjs_exec.v0+json';\n  const CLASS_NAME = 'output_bokeh rendered_html';\n\n  /**\n   * Render data to the DOM node\n   */\n  function render(props, node) {\n    const script = document.createElement(\"script\");\n    node.appendChild(script);\n  }\n\n  /**\n   * Handle when an output is cleared or removed\n   */\n  function handleClearOutput(event, handle) {\n    const cell = handle.cell;\n\n    const id = cell.output_area._bokeh_element_id;\n    const server_id = cell.output_area._bokeh_server_id;\n    // Clean up Bokeh references\n    if (id != null && id in Bokeh.index) {\n      Bokeh.index[id].model.document.clear();\n      delete Bokeh.index[id];\n    }\n\n    if (server_id !== undefined) {\n      // Clean up Bokeh references\n      const cmd_clean = \"from bokeh.io.state import curstate; print(curstate().uuid_to_server['\" + server_id + \"'].get_sessions()[0].document.roots[0]._id)\";\n      cell.notebook.kernel.execute(cmd_clean, {\n        iopub: {\n          output: function(msg) {\n            const id = msg.content.text.trim();\n            if (id in Bokeh.index) {\n              Bokeh.index[id].model.document.clear();\n              delete Bokeh.index[id];\n            }\n          }\n        }\n      });\n      // Destroy server and session\n      const cmd_destroy = \"import bokeh.io.notebook as ion; ion.destroy_server('\" + server_id + \"')\";\n      cell.notebook.kernel.execute(cmd_destroy);\n    }\n  }\n\n  /**\n   * Handle when a new output is added\n   */\n  function handleAddOutput(event, handle) {\n    const output_area = handle.output_area;\n    const output = handle.output;\n\n    // limit handleAddOutput to display_data with EXEC_MIME_TYPE content only\n    if ((output.output_type != \"display_data\") || (!Object.prototype.hasOwnProperty.call(output.data, EXEC_MIME_TYPE))) {\n      return\n    }\n\n    const toinsert = output_area.element.find(\".\" + CLASS_NAME.split(' ')[0]);\n\n    if (output.metadata[EXEC_MIME_TYPE][\"id\"] !== undefined) {\n      toinsert[toinsert.length - 1].firstChild.textContent = output.data[JS_MIME_TYPE];\n      // store reference to embed id on output_area\n      output_area._bokeh_element_id = output.metadata[EXEC_MIME_TYPE][\"id\"];\n    }\n    if (output.metadata[EXEC_MIME_TYPE][\"server_id\"] !== undefined) {\n      const bk_div = document.createElement(\"div\");\n      bk_div.innerHTML = output.data[HTML_MIME_TYPE];\n      const script_attrs = bk_div.children[0].attributes;\n      for (let i = 0; i < script_attrs.length; i++) {\n        toinsert[toinsert.length - 1].firstChild.setAttribute(script_attrs[i].name, script_attrs[i].value);\n        toinsert[toinsert.length - 1].firstChild.textContent = bk_div.children[0].textContent\n      }\n      // store reference to server id on output_area\n      output_area._bokeh_server_id = output.metadata[EXEC_MIME_TYPE][\"server_id\"];\n    }\n  }\n\n  function register_renderer(events, OutputArea) {\n\n    function append_mime(data, metadata, element) {\n      // create a DOM node to render to\n      const toinsert = this.create_output_subarea(\n        metadata,\n        CLASS_NAME,\n        EXEC_MIME_TYPE\n      );\n      this.keyboard_manager.register_events(toinsert);\n      // Render to node\n      const props = {data: data, metadata: metadata[EXEC_MIME_TYPE]};\n      render(props, toinsert[toinsert.length - 1]);\n      element.append(toinsert);\n      return toinsert\n    }\n\n    /* Handle when an output is cleared or removed */\n    events.on('clear_output.CodeCell', handleClearOutput);\n    events.on('delete.Cell', handleClearOutput);\n\n    /* Handle when a new output is added */\n    events.on('output_added.OutputArea', handleAddOutput);\n\n    /**\n     * Register the mime type and append_mime function with output_area\n     */\n    OutputArea.prototype.register_mime_type(EXEC_MIME_TYPE, append_mime, {\n      /* Is output safe? */\n      safe: true,\n      /* Index of renderer in `output_area.display_order` */\n      index: 0\n    });\n  }\n\n  // register the mime type if in Jupyter Notebook environment and previously unregistered\n  if (root.Jupyter !== undefined) {\n    const events = require('base/js/events');\n    const OutputArea = require('notebook/js/outputarea').OutputArea;\n\n    if (OutputArea.prototype.mime_types().indexOf(EXEC_MIME_TYPE) == -1) {\n      register_renderer(events, OutputArea);\n    }\n  }\n\n  \n  if (typeof (root._bokeh_timeout) === \"undefined\" || force === true) {\n    root._bokeh_timeout = Date.now() + 5000;\n    root._bokeh_failed_load = false;\n  }\n\n  const NB_LOAD_WARNING = {'data': {'text/html':\n     \"<div style='background-color: #fdd'>\\n\"+\n     \"<p>\\n\"+\n     \"BokehJS does not appear to have successfully loaded. If loading BokehJS from CDN, this \\n\"+\n     \"may be due to a slow or bad network connection. Possible fixes:\\n\"+\n     \"</p>\\n\"+\n     \"<ul>\\n\"+\n     \"<li>re-rerun `output_notebook()` to attempt to load from CDN again, or</li>\\n\"+\n     \"<li>use INLINE resources instead, as so:</li>\\n\"+\n     \"</ul>\\n\"+\n     \"<code>\\n\"+\n     \"from bokeh.resources import INLINE\\n\"+\n     \"output_notebook(resources=INLINE)\\n\"+\n     \"</code>\\n\"+\n     \"</div>\"}};\n\n  function display_loaded() {\n    const el = document.getElementById(\"1002\");\n    if (el != null) {\n      el.textContent = \"BokehJS is loading...\";\n    }\n    if (root.Bokeh !== undefined) {\n      if (el != null) {\n        el.textContent = \"BokehJS \" + root.Bokeh.version + \" successfully loaded.\";\n      }\n    } else if (Date.now() < root._bokeh_timeout) {\n      setTimeout(display_loaded, 100)\n    }\n  }\n\n\n  function run_callbacks() {\n    try {\n      root._bokeh_onload_callbacks.forEach(function(callback) {\n        if (callback != null)\n          callback();\n      });\n    } finally {\n      delete root._bokeh_onload_callbacks\n    }\n    console.debug(\"Bokeh: all callbacks have finished\");\n  }\n\n  function load_libs(css_urls, js_urls, callback) {\n    if (css_urls == null) css_urls = [];\n    if (js_urls == null) js_urls = [];\n\n    root._bokeh_onload_callbacks.push(callback);\n    if (root._bokeh_is_loading > 0) {\n      console.debug(\"Bokeh: BokehJS is being loaded, scheduling callback at\", now());\n      return null;\n    }\n    if (js_urls == null || js_urls.length === 0) {\n      run_callbacks();\n      return null;\n    }\n    console.debug(\"Bokeh: BokehJS not loaded, scheduling load and callback at\", now());\n    root._bokeh_is_loading = css_urls.length + js_urls.length;\n\n    function on_load() {\n      root._bokeh_is_loading--;\n      if (root._bokeh_is_loading === 0) {\n        console.debug(\"Bokeh: all BokehJS libraries/stylesheets loaded\");\n        run_callbacks()\n      }\n    }\n\n    function on_error(url) {\n      console.error(\"failed to load \" + url);\n    }\n\n    for (let i = 0; i < css_urls.length; i++) {\n      const url = css_urls[i];\n      const element = document.createElement(\"link\");\n      element.onload = on_load;\n      element.onerror = on_error.bind(null, url);\n      element.rel = \"stylesheet\";\n      element.type = \"text/css\";\n      element.href = url;\n      console.debug(\"Bokeh: injecting link tag for BokehJS stylesheet: \", url);\n      document.body.appendChild(element);\n    }\n\n    for (let i = 0; i < js_urls.length; i++) {\n      const url = js_urls[i];\n      const element = document.createElement('script');\n      element.onload = on_load;\n      element.onerror = on_error.bind(null, url);\n      element.async = false;\n      element.src = url;\n      console.debug(\"Bokeh: injecting script tag for BokehJS library: \", url);\n      document.head.appendChild(element);\n    }\n  };\n\n  function inject_raw_css(css) {\n    const element = document.createElement(\"style\");\n    element.appendChild(document.createTextNode(css));\n    document.body.appendChild(element);\n  }\n\n  \n  const js_urls = [\"https://cdn.bokeh.org/bokeh/release/bokeh-2.4.1.min.js\", \"https://cdn.bokeh.org/bokeh/release/bokeh-gl-2.4.1.min.js\", \"https://cdn.bokeh.org/bokeh/release/bokeh-widgets-2.4.1.min.js\", \"https://cdn.bokeh.org/bokeh/release/bokeh-tables-2.4.1.min.js\", \"https://cdn.bokeh.org/bokeh/release/bokeh-mathjax-2.4.1.min.js\"];\n  const css_urls = [];\n  \n\n  const inline_js = [\n    function(Bokeh) {\n      Bokeh.set_log_level(\"info\");\n    },\n    function(Bokeh) {\n    \n    \n    }\n  ];\n\n  function run_inline_js() {\n    \n    if (root.Bokeh !== undefined || force === true) {\n      \n    for (let i = 0; i < inline_js.length; i++) {\n      inline_js[i].call(root, root.Bokeh);\n    }\n    if (force === true) {\n        display_loaded();\n      }} else if (Date.now() < root._bokeh_timeout) {\n      setTimeout(run_inline_js, 100);\n    } else if (!root._bokeh_failed_load) {\n      console.log(\"Bokeh: BokehJS failed to load within specified timeout.\");\n      root._bokeh_failed_load = true;\n    } else if (force !== true) {\n      const cell = $(document.getElementById(\"1002\")).parents('.cell').data().cell;\n      cell.output_area.append_execute_result(NB_LOAD_WARNING)\n    }\n\n  }\n\n  if (root._bokeh_is_loading === 0) {\n    console.debug(\"Bokeh: BokehJS loaded, going straight to plotting\");\n    run_inline_js();\n  } else {\n    load_libs(css_urls, js_urls, function() {\n      console.debug(\"Bokeh: BokehJS plotting callback run at\", now());\n      run_inline_js();\n    });\n  }\n}(window));",
      "application/vnd.bokehjs_load.v0+json": ""
     },
     "metadata": {},
     "output_type": "display_data"
    }
   ],
   "source": [
    "from bolt_pattern_points import circle, square, rectangle, points, bolt_centroid"
   ]
  },
  {
   "cell_type": "markdown",
   "id": "a7e078f6-764a-42f5-a067-acef4fabc404",
   "metadata": {},
   "source": [
    "## 1. Calculate location of bolt coordinates"
   ]
  },
  {
   "cell_type": "markdown",
   "id": "77a58640",
   "metadata": {},
   "source": [
    "The first step is to calculate the coordinates of each bolt within the bolt group."
   ]
  },
  {
   "cell_type": "markdown",
   "id": "edb28e71",
   "metadata": {},
   "source": [
    "### Square bolt pattern"
   ]
  },
  {
   "cell_type": "markdown",
   "id": "96a05ff9",
   "metadata": {},
   "source": [
    "Consider a base plate with a square bolt pattern comprised of four fasteners (`Nx` = 2 and `Ny` = 2; number of fasteners in x and y directions). \n",
    "\n",
    "The width/height `x_dist` of the bolt pattern is 200 mm.\n",
    "\n",
    "Hover over each bolt in the graph below to observe the x, y coordinates of each bolt.\n",
    "\n"
   ]
  },
  {
   "cell_type": "code",
   "execution_count": 2,
   "id": "aa47b9f3",
   "metadata": {},
   "outputs": [
    {
     "data": {
      "text/html": [
       "\n",
       "\n",
       "\n",
       "\n",
       "\n",
       "\n",
       "  <div class=\"bk-root\" id=\"4785ad7b-dd80-4129-9595-3beb468848ff\" data-root-id=\"1003\"></div>\n"
      ]
     },
     "metadata": {},
     "output_type": "display_data"
    },
    {
     "data": {
      "application/javascript": "(function(root) {\n  function embed_document(root) {\n    \n  const docs_json = {\"19052c50-dbc3-451c-8a6a-f734af3f8ce3\":{\"defs\":[],\"roots\":{\"references\":[{\"attributes\":{\"below\":[{\"id\":\"1012\"}],\"center\":[{\"id\":\"1015\"},{\"id\":\"1019\"},{\"id\":\"1036\"},{\"id\":\"1037\"}],\"height\":400,\"left\":[{\"id\":\"1016\"}],\"match_aspect\":true,\"renderers\":[{\"id\":\"1042\"}],\"title\":{\"id\":\"1044\"},\"toolbar\":{\"id\":\"1028\"},\"x_range\":{\"id\":\"1004\"},\"x_scale\":{\"id\":\"1008\"},\"y_range\":{\"id\":\"1006\"},\"y_scale\":{\"id\":\"1010\"}},\"id\":\"1003\",\"subtype\":\"Figure\",\"type\":\"Plot\"},{\"attributes\":{},\"id\":\"1024\",\"type\":\"ResetTool\"},{\"attributes\":{\"source\":{\"id\":\"1038\"}},\"id\":\"1043\",\"type\":\"CDSView\"},{\"attributes\":{\"fill_alpha\":{\"value\":0.2},\"fill_color\":{\"value\":\"pink\"},\"hatch_alpha\":{\"value\":0.2},\"line_alpha\":{\"value\":0.2},\"line_color\":{\"value\":\"grey\"},\"marker\":{\"value\":\"hex\"},\"size\":{\"value\":20},\"x\":{\"field\":\"x\"},\"y\":{\"field\":\"y\"}},\"id\":\"1041\",\"type\":\"Scatter\"},{\"attributes\":{},\"id\":\"1025\",\"type\":\"HelpTool\"},{\"attributes\":{},\"id\":\"1017\",\"type\":\"BasicTicker\"},{\"attributes\":{\"bottom_units\":\"screen\",\"coordinates\":null,\"fill_alpha\":0.5,\"fill_color\":\"lightgrey\",\"group\":null,\"left_units\":\"screen\",\"level\":\"overlay\",\"line_alpha\":1.0,\"line_color\":\"black\",\"line_dash\":[4,4],\"line_width\":2,\"right_units\":\"screen\",\"syncable\":false,\"top_units\":\"screen\"},\"id\":\"1026\",\"type\":\"BoxAnnotation\"},{\"attributes\":{},\"id\":\"1010\",\"type\":\"LinearScale\"},{\"attributes\":{\"tools\":[{\"id\":\"1020\"},{\"id\":\"1021\"},{\"id\":\"1022\"},{\"id\":\"1023\"},{\"id\":\"1024\"},{\"id\":\"1025\"},{\"id\":\"1027\"}]},\"id\":\"1028\",\"type\":\"Toolbar\"},{\"attributes\":{},\"id\":\"1013\",\"type\":\"BasicTicker\"},{\"attributes\":{},\"id\":\"1008\",\"type\":\"LinearScale\"},{\"attributes\":{},\"id\":\"1006\",\"type\":\"DataRange1d\"},{\"attributes\":{\"axis\":{\"id\":\"1012\"},\"coordinates\":null,\"group\":null,\"ticker\":null},\"id\":\"1015\",\"type\":\"Grid\"},{\"attributes\":{},\"id\":\"1052\",\"type\":\"UnionRenderers\"},{\"attributes\":{\"coordinates\":null,\"group\":null,\"level\":\"underlay\",\"line_color\":\"grey\",\"location\":0.0},\"id\":\"1037\",\"type\":\"Span\"},{\"attributes\":{},\"id\":\"1050\",\"type\":\"BasicTickFormatter\"},{\"attributes\":{\"coordinates\":null,\"formatter\":{\"id\":\"1050\"},\"group\":null,\"major_label_policy\":{\"id\":\"1051\"},\"ticker\":{\"id\":\"1013\"}},\"id\":\"1012\",\"type\":\"LinearAxis\"},{\"attributes\":{\"fill_color\":{\"value\":\"pink\"},\"line_color\":{\"value\":\"grey\"},\"marker\":{\"value\":\"hex\"},\"size\":{\"value\":20},\"x\":{\"field\":\"x\"},\"y\":{\"field\":\"y\"}},\"id\":\"1039\",\"type\":\"Scatter\"},{\"attributes\":{},\"id\":\"1051\",\"type\":\"AllLabels\"},{\"attributes\":{\"axis\":{\"id\":\"1016\"},\"coordinates\":null,\"dimension\":1,\"group\":null,\"ticker\":null},\"id\":\"1019\",\"type\":\"Grid\"},{\"attributes\":{},\"id\":\"1053\",\"type\":\"Selection\"},{\"attributes\":{\"coordinates\":null,\"dimension\":\"height\",\"group\":null,\"level\":\"underlay\",\"line_color\":\"grey\",\"location\":0.0},\"id\":\"1036\",\"type\":\"Span\"},{\"attributes\":{\"coordinates\":null,\"group\":null},\"id\":\"1044\",\"type\":\"Title\"},{\"attributes\":{\"coordinates\":null,\"formatter\":{\"id\":\"1047\"},\"group\":null,\"major_label_policy\":{\"id\":\"1048\"},\"ticker\":{\"id\":\"1017\"}},\"id\":\"1016\",\"type\":\"LinearAxis\"},{\"attributes\":{\"data\":{\"x\":{\"__ndarray__\":\"AAAAAAAAWcAAAAAAAABZwAAAAAAAAFlAAAAAAAAAWUA=\",\"dtype\":\"float64\",\"order\":\"little\",\"shape\":[4]},\"y\":{\"__ndarray__\":\"AAAAAAAAWUAAAAAAAABZwAAAAAAAAFlAAAAAAAAAWcA=\",\"dtype\":\"float64\",\"order\":\"little\",\"shape\":[4]}},\"selected\":{\"id\":\"1053\"},\"selection_policy\":{\"id\":\"1052\"}},\"id\":\"1038\",\"type\":\"ColumnDataSource\"},{\"attributes\":{\"callback\":null,\"tooltips\":[[\"Bolt ID\",\"$index\"],[\"x, y coordinates\",\"(@x{0.0}, @y{0.0})\"],[\"Centroid\",\"(0.0, 0.0)\"]]},\"id\":\"1027\",\"type\":\"HoverTool\"},{\"attributes\":{\"coordinates\":null,\"data_source\":{\"id\":\"1038\"},\"glyph\":{\"id\":\"1039\"},\"group\":null,\"hover_glyph\":null,\"muted_glyph\":{\"id\":\"1041\"},\"nonselection_glyph\":{\"id\":\"1040\"},\"view\":{\"id\":\"1043\"}},\"id\":\"1042\",\"type\":\"GlyphRenderer\"},{\"attributes\":{\"fill_alpha\":{\"value\":0.1},\"fill_color\":{\"value\":\"pink\"},\"hatch_alpha\":{\"value\":0.1},\"line_alpha\":{\"value\":0.1},\"line_color\":{\"value\":\"grey\"},\"marker\":{\"value\":\"hex\"},\"size\":{\"value\":20},\"x\":{\"field\":\"x\"},\"y\":{\"field\":\"y\"}},\"id\":\"1040\",\"type\":\"Scatter\"},{\"attributes\":{},\"id\":\"1047\",\"type\":\"BasicTickFormatter\"},{\"attributes\":{},\"id\":\"1048\",\"type\":\"AllLabels\"},{\"attributes\":{},\"id\":\"1020\",\"type\":\"PanTool\"},{\"attributes\":{},\"id\":\"1021\",\"type\":\"WheelZoomTool\"},{\"attributes\":{\"overlay\":{\"id\":\"1026\"}},\"id\":\"1022\",\"type\":\"BoxZoomTool\"},{\"attributes\":{},\"id\":\"1023\",\"type\":\"SaveTool\"},{\"attributes\":{},\"id\":\"1004\",\"type\":\"DataRange1d\"}],\"root_ids\":[\"1003\"]},\"title\":\"Bokeh Application\",\"version\":\"2.4.1\"}};\n  const render_items = [{\"docid\":\"19052c50-dbc3-451c-8a6a-f734af3f8ce3\",\"root_ids\":[\"1003\"],\"roots\":{\"1003\":\"4785ad7b-dd80-4129-9595-3beb468848ff\"}}];\n  root.Bokeh.embed.embed_items_notebook(docs_json, render_items);\n\n  }\n  if (root.Bokeh !== undefined) {\n    embed_document(root);\n  } else {\n    let attempts = 0;\n    const timer = setInterval(function(root) {\n      if (root.Bokeh !== undefined) {\n        clearInterval(timer);\n        embed_document(root);\n      } else {\n        attempts++;\n        if (attempts > 100) {\n          clearInterval(timer);\n          console.log(\"Bokeh: ERROR: Unable to run BokehJS code because BokehJS library is missing\");\n        }\n      }\n    }, 10, root)\n  }\n})(window);",
      "application/vnd.bokehjs_exec.v0+json": ""
     },
     "metadata": {
      "application/vnd.bokehjs_exec.v0+json": {
       "id": "1003"
      }
     },
     "output_type": "display_data"
    }
   ],
   "source": [
    "p1 = square(200, 2, 2)"
   ]
  },
  {
   "cell_type": "markdown",
   "id": "dd7ca94a",
   "metadata": {},
   "source": [
    "#### Exercise 1.1\n",
    "Generate the coordinates for a square bolt pattern:\n",
    "* width & height equal to 160 mm.\n",
    "* the number of fasteners in the x-direction is 8 \n",
    "* the number of fasteners in the y-direction is 4."
   ]
  },
  {
   "cell_type": "code",
   "execution_count": 3,
   "id": "1fec0c88",
   "metadata": {},
   "outputs": [],
   "source": [
    "# EXERCISE 1.1\n",
    "# note -> # represents comments in python, remove the # when generating the points below\n",
    "\n",
    "# p2 = "
   ]
  },
  {
   "cell_type": "markdown",
   "id": "4074a8b6",
   "metadata": {},
   "source": [
    "### Rectangular bolt pattern"
   ]
  },
  {
   "cell_type": "markdown",
   "id": "9c9262b6",
   "metadata": {},
   "source": [
    "Consider a base base with rectangular bolt pattern.\n",
    "\n",
    "The width of the bolt pattern in the x-direction `x_dist` is 200 mm. The number of bolts in the x-direction `Nx` is 3.\n",
    "\n",
    "The height of the bolt pattern in the y-direction `y-dist` is 350 mm. The number of bolts in the y-dirtection `Ny` is 5."
   ]
  },
  {
   "cell_type": "code",
   "execution_count": 4,
   "id": "47b1f306",
   "metadata": {},
   "outputs": [
    {
     "data": {
      "text/html": [
       "\n",
       "\n",
       "\n",
       "\n",
       "\n",
       "\n",
       "  <div class=\"bk-root\" id=\"83243ba2-b3a8-4066-9ae7-698947c1b8cf\" data-root-id=\"1110\"></div>\n"
      ]
     },
     "metadata": {},
     "output_type": "display_data"
    },
    {
     "data": {
      "application/javascript": "(function(root) {\n  function embed_document(root) {\n    \n  const docs_json = {\"c7d5fa1e-ee30-4783-a3f4-162b80d43ca5\":{\"defs\":[],\"roots\":{\"references\":[{\"attributes\":{\"below\":[{\"id\":\"1119\"}],\"center\":[{\"id\":\"1122\"},{\"id\":\"1126\"},{\"id\":\"1143\"},{\"id\":\"1144\"}],\"height\":400,\"left\":[{\"id\":\"1123\"}],\"match_aspect\":true,\"renderers\":[{\"id\":\"1149\"}],\"title\":{\"id\":\"1162\"},\"toolbar\":{\"id\":\"1135\"},\"x_range\":{\"id\":\"1111\"},\"x_scale\":{\"id\":\"1115\"},\"y_range\":{\"id\":\"1113\"},\"y_scale\":{\"id\":\"1117\"}},\"id\":\"1110\",\"subtype\":\"Figure\",\"type\":\"Plot\"},{\"attributes\":{},\"id\":\"1113\",\"type\":\"DataRange1d\"},{\"attributes\":{},\"id\":\"1124\",\"type\":\"BasicTicker\"},{\"attributes\":{\"axis\":{\"id\":\"1119\"},\"coordinates\":null,\"group\":null,\"ticker\":null},\"id\":\"1122\",\"type\":\"Grid\"},{\"attributes\":{\"fill_alpha\":{\"value\":0.1},\"fill_color\":{\"value\":\"pink\"},\"hatch_alpha\":{\"value\":0.1},\"line_alpha\":{\"value\":0.1},\"line_color\":{\"value\":\"grey\"},\"marker\":{\"value\":\"hex\"},\"size\":{\"value\":20},\"x\":{\"field\":\"x\"},\"y\":{\"field\":\"y\"}},\"id\":\"1147\",\"type\":\"Scatter\"},{\"attributes\":{\"axis\":{\"id\":\"1123\"},\"coordinates\":null,\"dimension\":1,\"group\":null,\"ticker\":null},\"id\":\"1126\",\"type\":\"Grid\"},{\"attributes\":{},\"id\":\"1120\",\"type\":\"BasicTicker\"},{\"attributes\":{},\"id\":\"1115\",\"type\":\"LinearScale\"},{\"attributes\":{\"data\":{\"x\":{\"__ndarray__\":\"AAAAAAAAWcAAAAAAAABZwAAAAAAAAFnAAAAAAAAAWcAAAAAAAABZwAAAAAAAAAAAAAAAAAAAAAAAAAAAAABZQAAAAAAAAFlAAAAAAAAAWUAAAAAAAABZQAAAAAAAAFlA\",\"dtype\":\"float64\",\"order\":\"little\",\"shape\":[12]},\"y\":{\"__ndarray__\":\"AAAAAADgZUAAAAAAAOBVQAAAAAAAAAAAAAAAAADgVcAAAAAAAOBlwAAAAAAA4GVAAAAAAADgZcAAAAAAAOBlQAAAAAAA4FVAAAAAAAAAAAAAAAAAAOBVwAAAAAAA4GXA\",\"dtype\":\"float64\",\"order\":\"little\",\"shape\":[12]}},\"selected\":{\"id\":\"1171\"},\"selection_policy\":{\"id\":\"1170\"}},\"id\":\"1145\",\"type\":\"ColumnDataSource\"},{\"attributes\":{},\"id\":\"1165\",\"type\":\"BasicTickFormatter\"},{\"attributes\":{},\"id\":\"1111\",\"type\":\"DataRange1d\"},{\"attributes\":{\"coordinates\":null,\"data_source\":{\"id\":\"1145\"},\"glyph\":{\"id\":\"1146\"},\"group\":null,\"hover_glyph\":null,\"muted_glyph\":{\"id\":\"1148\"},\"nonselection_glyph\":{\"id\":\"1147\"},\"view\":{\"id\":\"1150\"}},\"id\":\"1149\",\"type\":\"GlyphRenderer\"},{\"attributes\":{\"coordinates\":null,\"group\":null,\"level\":\"underlay\",\"line_color\":\"grey\",\"location\":0.0},\"id\":\"1144\",\"type\":\"Span\"},{\"attributes\":{\"coordinates\":null,\"dimension\":\"height\",\"group\":null,\"level\":\"underlay\",\"line_color\":\"grey\",\"location\":0.0},\"id\":\"1143\",\"type\":\"Span\"},{\"attributes\":{\"fill_alpha\":{\"value\":0.2},\"fill_color\":{\"value\":\"pink\"},\"hatch_alpha\":{\"value\":0.2},\"line_alpha\":{\"value\":0.2},\"line_color\":{\"value\":\"grey\"},\"marker\":{\"value\":\"hex\"},\"size\":{\"value\":20},\"x\":{\"field\":\"x\"},\"y\":{\"field\":\"y\"}},\"id\":\"1148\",\"type\":\"Scatter\"},{\"attributes\":{\"coordinates\":null,\"group\":null},\"id\":\"1162\",\"type\":\"Title\"},{\"attributes\":{\"coordinates\":null,\"formatter\":{\"id\":\"1165\"},\"group\":null,\"major_label_policy\":{\"id\":\"1166\"},\"ticker\":{\"id\":\"1124\"}},\"id\":\"1123\",\"type\":\"LinearAxis\"},{\"attributes\":{},\"id\":\"1127\",\"type\":\"PanTool\"},{\"attributes\":{\"fill_color\":{\"value\":\"pink\"},\"line_color\":{\"value\":\"grey\"},\"marker\":{\"value\":\"hex\"},\"size\":{\"value\":20},\"x\":{\"field\":\"x\"},\"y\":{\"field\":\"y\"}},\"id\":\"1146\",\"type\":\"Scatter\"},{\"attributes\":{\"coordinates\":null,\"formatter\":{\"id\":\"1168\"},\"group\":null,\"major_label_policy\":{\"id\":\"1169\"},\"ticker\":{\"id\":\"1120\"}},\"id\":\"1119\",\"type\":\"LinearAxis\"},{\"attributes\":{\"overlay\":{\"id\":\"1133\"}},\"id\":\"1129\",\"type\":\"BoxZoomTool\"},{\"attributes\":{},\"id\":\"1166\",\"type\":\"AllLabels\"},{\"attributes\":{},\"id\":\"1130\",\"type\":\"SaveTool\"},{\"attributes\":{},\"id\":\"1168\",\"type\":\"BasicTickFormatter\"},{\"attributes\":{},\"id\":\"1131\",\"type\":\"ResetTool\"},{\"attributes\":{},\"id\":\"1169\",\"type\":\"AllLabels\"},{\"attributes\":{},\"id\":\"1132\",\"type\":\"HelpTool\"},{\"attributes\":{},\"id\":\"1170\",\"type\":\"UnionRenderers\"},{\"attributes\":{\"source\":{\"id\":\"1145\"}},\"id\":\"1150\",\"type\":\"CDSView\"},{\"attributes\":{},\"id\":\"1171\",\"type\":\"Selection\"},{\"attributes\":{},\"id\":\"1117\",\"type\":\"LinearScale\"},{\"attributes\":{\"bottom_units\":\"screen\",\"coordinates\":null,\"fill_alpha\":0.5,\"fill_color\":\"lightgrey\",\"group\":null,\"left_units\":\"screen\",\"level\":\"overlay\",\"line_alpha\":1.0,\"line_color\":\"black\",\"line_dash\":[4,4],\"line_width\":2,\"right_units\":\"screen\",\"syncable\":false,\"top_units\":\"screen\"},\"id\":\"1133\",\"type\":\"BoxAnnotation\"},{\"attributes\":{},\"id\":\"1128\",\"type\":\"WheelZoomTool\"},{\"attributes\":{\"callback\":null,\"tooltips\":[[\"Bolt ID\",\"$index\"],[\"x, y coordinates\",\"(@x{0.0}, @y{0.0})\"],[\"Centroid\",\"(0.0, 0.0)\"]]},\"id\":\"1134\",\"type\":\"HoverTool\"},{\"attributes\":{\"tools\":[{\"id\":\"1127\"},{\"id\":\"1128\"},{\"id\":\"1129\"},{\"id\":\"1130\"},{\"id\":\"1131\"},{\"id\":\"1132\"},{\"id\":\"1134\"}]},\"id\":\"1135\",\"type\":\"Toolbar\"}],\"root_ids\":[\"1110\"]},\"title\":\"Bokeh Application\",\"version\":\"2.4.1\"}};\n  const render_items = [{\"docid\":\"c7d5fa1e-ee30-4783-a3f4-162b80d43ca5\",\"root_ids\":[\"1110\"],\"roots\":{\"1110\":\"83243ba2-b3a8-4066-9ae7-698947c1b8cf\"}}];\n  root.Bokeh.embed.embed_items_notebook(docs_json, render_items);\n\n  }\n  if (root.Bokeh !== undefined) {\n    embed_document(root);\n  } else {\n    let attempts = 0;\n    const timer = setInterval(function(root) {\n      if (root.Bokeh !== undefined) {\n        clearInterval(timer);\n        embed_document(root);\n      } else {\n        attempts++;\n        if (attempts > 100) {\n          clearInterval(timer);\n          console.log(\"Bokeh: ERROR: Unable to run BokehJS code because BokehJS library is missing\");\n        }\n      }\n    }, 10, root)\n  }\n})(window);",
      "application/vnd.bokehjs_exec.v0+json": ""
     },
     "metadata": {
      "application/vnd.bokehjs_exec.v0+json": {
       "id": "1110"
      }
     },
     "output_type": "display_data"
    }
   ],
   "source": [
    "p3 = rectangle(200, 350, 3, 5)"
   ]
  },
  {
   "cell_type": "markdown",
   "id": "462d4e31",
   "metadata": {},
   "source": [
    "#### Exercise 1.2"
   ]
  },
  {
   "cell_type": "markdown",
   "id": "76cd9bad",
   "metadata": {},
   "source": [
    "Calculate the coordinates of a rectangular bolt pattern:\n",
    "\n",
    "* Width in the x-direction = 367 mm\n",
    "* Height in y-direction = 87 mm\n",
    "* Number of fasteners in x-direction = 11\n",
    "* Number of fasteners in y-direction =  5\n",
    "\n"
   ]
  },
  {
   "cell_type": "code",
   "execution_count": 5,
   "id": "d5880b79",
   "metadata": {},
   "outputs": [],
   "source": [
    "# EXERCISE 1.2\n",
    "\n",
    "# p4 ="
   ]
  },
  {
   "cell_type": "markdown",
   "id": "b928d6c5",
   "metadata": {},
   "source": [
    "### Circular bolt pattern"
   ]
  },
  {
   "cell_type": "markdown",
   "id": "b974faed",
   "metadata": {},
   "source": [
    "Consider a base plate with a circular bolt pattern.\n",
    "\n",
    "The radius `r` is 200 mm.\n",
    "\n",
    "The number of fasteners `N` is 8"
   ]
  },
  {
   "cell_type": "code",
   "execution_count": 6,
   "id": "c5583d90",
   "metadata": {},
   "outputs": [
    {
     "data": {
      "text/html": [
       "\n",
       "\n",
       "\n",
       "\n",
       "\n",
       "\n",
       "  <div class=\"bk-root\" id=\"584fa62f-3ebe-4162-9fd6-7af1f91d6ca6\" data-root-id=\"1228\"></div>\n"
      ]
     },
     "metadata": {},
     "output_type": "display_data"
    },
    {
     "data": {
      "application/javascript": "(function(root) {\n  function embed_document(root) {\n    \n  const docs_json = {\"9ac35341-4059-498b-9f3c-3d15b1b4b1dc\":{\"defs\":[],\"roots\":{\"references\":[{\"attributes\":{\"below\":[{\"id\":\"1237\"}],\"center\":[{\"id\":\"1240\"},{\"id\":\"1244\"},{\"id\":\"1261\"},{\"id\":\"1262\"}],\"height\":400,\"left\":[{\"id\":\"1241\"}],\"match_aspect\":true,\"renderers\":[{\"id\":\"1267\"}],\"title\":{\"id\":\"1291\"},\"toolbar\":{\"id\":\"1253\"},\"x_range\":{\"id\":\"1229\"},\"x_scale\":{\"id\":\"1233\"},\"y_range\":{\"id\":\"1231\"},\"y_scale\":{\"id\":\"1235\"}},\"id\":\"1228\",\"subtype\":\"Figure\",\"type\":\"Plot\"},{\"attributes\":{\"coordinates\":null,\"group\":null,\"level\":\"underlay\",\"line_color\":\"grey\",\"location\":-3.552713678800501e-15},\"id\":\"1262\",\"type\":\"Span\"},{\"attributes\":{\"coordinates\":null,\"group\":null},\"id\":\"1291\",\"type\":\"Title\"},{\"attributes\":{\"data\":{\"x\":{\"__ndarray__\":\"y8/Pr5uTCz24ZhPAe61hQAAAAAAAAGlAuGYTwHutYUDLz8+vm5MLPbdmE8B7rWHAAAAAAAAAacC5ZhPAe61hwA==\",\"dtype\":\"float64\",\"order\":\"little\",\"shape\":[8]},\"y\":{\"__ndarray__\":\"AAAAAAAAaUC3ZhPAe61hQAAAAAAAAAAAt2YTwHutYcAAAAAAAABpwLhmE8B7rWHAy8/Pr5uTG723ZhPAe61hQA==\",\"dtype\":\"float64\",\"order\":\"little\",\"shape\":[8]}},\"selected\":{\"id\":\"1300\"},\"selection_policy\":{\"id\":\"1299\"}},\"id\":\"1263\",\"type\":\"ColumnDataSource\"},{\"attributes\":{},\"id\":\"1246\",\"type\":\"WheelZoomTool\"},{\"attributes\":{},\"id\":\"1245\",\"type\":\"PanTool\"},{\"attributes\":{},\"id\":\"1300\",\"type\":\"Selection\"},{\"attributes\":{},\"id\":\"1294\",\"type\":\"BasicTickFormatter\"},{\"attributes\":{},\"id\":\"1229\",\"type\":\"DataRange1d\"},{\"attributes\":{\"overlay\":{\"id\":\"1251\"}},\"id\":\"1247\",\"type\":\"BoxZoomTool\"},{\"attributes\":{},\"id\":\"1295\",\"type\":\"AllLabels\"},{\"attributes\":{},\"id\":\"1248\",\"type\":\"SaveTool\"},{\"attributes\":{\"callback\":null,\"tooltips\":[[\"Bolt ID\",\"$index\"],[\"x, y coordinates\",\"(@x{0.0}, @y{0.0})\"],[\"Centroid\",\"(0.0, -0.0)\"]]},\"id\":\"1252\",\"type\":\"HoverTool\"},{\"attributes\":{},\"id\":\"1297\",\"type\":\"BasicTickFormatter\"},{\"attributes\":{},\"id\":\"1231\",\"type\":\"DataRange1d\"},{\"attributes\":{\"fill_alpha\":{\"value\":0.2},\"fill_color\":{\"value\":\"pink\"},\"hatch_alpha\":{\"value\":0.2},\"line_alpha\":{\"value\":0.2},\"line_color\":{\"value\":\"grey\"},\"marker\":{\"value\":\"hex\"},\"size\":{\"value\":20},\"x\":{\"field\":\"x\"},\"y\":{\"field\":\"y\"}},\"id\":\"1266\",\"type\":\"Scatter\"},{\"attributes\":{},\"id\":\"1233\",\"type\":\"LinearScale\"},{\"attributes\":{},\"id\":\"1249\",\"type\":\"ResetTool\"},{\"attributes\":{},\"id\":\"1298\",\"type\":\"AllLabels\"},{\"attributes\":{\"coordinates\":null,\"data_source\":{\"id\":\"1263\"},\"glyph\":{\"id\":\"1264\"},\"group\":null,\"hover_glyph\":null,\"muted_glyph\":{\"id\":\"1266\"},\"nonselection_glyph\":{\"id\":\"1265\"},\"view\":{\"id\":\"1268\"}},\"id\":\"1267\",\"type\":\"GlyphRenderer\"},{\"attributes\":{},\"id\":\"1250\",\"type\":\"HelpTool\"},{\"attributes\":{\"fill_alpha\":{\"value\":0.1},\"fill_color\":{\"value\":\"pink\"},\"hatch_alpha\":{\"value\":0.1},\"line_alpha\":{\"value\":0.1},\"line_color\":{\"value\":\"grey\"},\"marker\":{\"value\":\"hex\"},\"size\":{\"value\":20},\"x\":{\"field\":\"x\"},\"y\":{\"field\":\"y\"}},\"id\":\"1265\",\"type\":\"Scatter\"},{\"attributes\":{\"tools\":[{\"id\":\"1245\"},{\"id\":\"1246\"},{\"id\":\"1247\"},{\"id\":\"1248\"},{\"id\":\"1249\"},{\"id\":\"1250\"},{\"id\":\"1252\"}]},\"id\":\"1253\",\"type\":\"Toolbar\"},{\"attributes\":{},\"id\":\"1235\",\"type\":\"LinearScale\"},{\"attributes\":{\"bottom_units\":\"screen\",\"coordinates\":null,\"fill_alpha\":0.5,\"fill_color\":\"lightgrey\",\"group\":null,\"left_units\":\"screen\",\"level\":\"overlay\",\"line_alpha\":1.0,\"line_color\":\"black\",\"line_dash\":[4,4],\"line_width\":2,\"right_units\":\"screen\",\"syncable\":false,\"top_units\":\"screen\"},\"id\":\"1251\",\"type\":\"BoxAnnotation\"},{\"attributes\":{\"coordinates\":null,\"formatter\":{\"id\":\"1297\"},\"group\":null,\"major_label_policy\":{\"id\":\"1298\"},\"ticker\":{\"id\":\"1238\"}},\"id\":\"1237\",\"type\":\"LinearAxis\"},{\"attributes\":{\"fill_color\":{\"value\":\"pink\"},\"line_color\":{\"value\":\"grey\"},\"marker\":{\"value\":\"hex\"},\"size\":{\"value\":20},\"x\":{\"field\":\"x\"},\"y\":{\"field\":\"y\"}},\"id\":\"1264\",\"type\":\"Scatter\"},{\"attributes\":{},\"id\":\"1242\",\"type\":\"BasicTicker\"},{\"attributes\":{},\"id\":\"1238\",\"type\":\"BasicTicker\"},{\"attributes\":{},\"id\":\"1299\",\"type\":\"UnionRenderers\"},{\"attributes\":{\"axis\":{\"id\":\"1237\"},\"coordinates\":null,\"group\":null,\"ticker\":null},\"id\":\"1240\",\"type\":\"Grid\"},{\"attributes\":{\"source\":{\"id\":\"1263\"}},\"id\":\"1268\",\"type\":\"CDSView\"},{\"attributes\":{\"axis\":{\"id\":\"1241\"},\"coordinates\":null,\"dimension\":1,\"group\":null,\"ticker\":null},\"id\":\"1244\",\"type\":\"Grid\"},{\"attributes\":{\"coordinates\":null,\"dimension\":\"height\",\"group\":null,\"level\":\"underlay\",\"line_color\":\"grey\",\"location\":0.0},\"id\":\"1261\",\"type\":\"Span\"},{\"attributes\":{\"coordinates\":null,\"formatter\":{\"id\":\"1294\"},\"group\":null,\"major_label_policy\":{\"id\":\"1295\"},\"ticker\":{\"id\":\"1242\"}},\"id\":\"1241\",\"type\":\"LinearAxis\"}],\"root_ids\":[\"1228\"]},\"title\":\"Bokeh Application\",\"version\":\"2.4.1\"}};\n  const render_items = [{\"docid\":\"9ac35341-4059-498b-9f3c-3d15b1b4b1dc\",\"root_ids\":[\"1228\"],\"roots\":{\"1228\":\"584fa62f-3ebe-4162-9fd6-7af1f91d6ca6\"}}];\n  root.Bokeh.embed.embed_items_notebook(docs_json, render_items);\n\n  }\n  if (root.Bokeh !== undefined) {\n    embed_document(root);\n  } else {\n    let attempts = 0;\n    const timer = setInterval(function(root) {\n      if (root.Bokeh !== undefined) {\n        clearInterval(timer);\n        embed_document(root);\n      } else {\n        attempts++;\n        if (attempts > 100) {\n          clearInterval(timer);\n          console.log(\"Bokeh: ERROR: Unable to run BokehJS code because BokehJS library is missing\");\n        }\n      }\n    }, 10, root)\n  }\n})(window);",
      "application/vnd.bokehjs_exec.v0+json": ""
     },
     "metadata": {
      "application/vnd.bokehjs_exec.v0+json": {
       "id": "1228"
      }
     },
     "output_type": "display_data"
    }
   ],
   "source": [
    "p5 = circle(200, 8)"
   ]
  },
  {
   "cell_type": "markdown",
   "id": "4d25e805",
   "metadata": {},
   "source": [
    "#### Exercise 1.3"
   ]
  },
  {
   "cell_type": "markdown",
   "id": "0995042f",
   "metadata": {},
   "source": [
    "Calculate the cooridnates of a circular bolt pattern with:\n",
    "* radius = 225 mm\n",
    "* number of fasteners = 5"
   ]
  },
  {
   "cell_type": "code",
   "execution_count": 7,
   "id": "28959643",
   "metadata": {},
   "outputs": [],
   "source": [
    "# Exercise 1.3\n",
    "\n",
    "# p6 = "
   ]
  },
  {
   "cell_type": "markdown",
   "id": "84a0eff0",
   "metadata": {},
   "source": [
    "Now consider a base plate with a circular bolt pattern.\n",
    "\n",
    "The radius `r` is 160 mm.\n",
    "\n",
    "The number of fasteners `N` is 6.\n",
    "\n",
    "The bolt pattern is rotated clockwise by 35 degrees. If you hover over the bolt with `Bolt ID: 0`, you should be able to observe that the bolt pattern has rotated clockwise 35 degrees from the y-axis."
   ]
  },
  {
   "cell_type": "code",
   "execution_count": 8,
   "id": "9ae88e2d",
   "metadata": {},
   "outputs": [
    {
     "data": {
      "text/html": [
       "\n",
       "\n",
       "\n",
       "\n",
       "\n",
       "\n",
       "  <div class=\"bk-root\" id=\"6cc81020-edfd-48a7-ad61-f0de3134fc9f\" data-root-id=\"1357\"></div>\n"
      ]
     },
     "metadata": {},
     "output_type": "display_data"
    },
    {
     "data": {
      "application/javascript": "(function(root) {\n  function embed_document(root) {\n    \n  const docs_json = {\"a4d3a1b6-24c4-46e7-87b1-f322359ab560\":{\"defs\":[],\"roots\":{\"references\":[{\"attributes\":{\"below\":[{\"id\":\"1366\"}],\"center\":[{\"id\":\"1369\"},{\"id\":\"1373\"},{\"id\":\"1390\"},{\"id\":\"1391\"}],\"height\":400,\"left\":[{\"id\":\"1370\"}],\"match_aspect\":true,\"renderers\":[{\"id\":\"1396\"}],\"title\":{\"id\":\"1431\"},\"toolbar\":{\"id\":\"1382\"},\"x_range\":{\"id\":\"1358\"},\"x_scale\":{\"id\":\"1362\"},\"y_range\":{\"id\":\"1360\"},\"y_scale\":{\"id\":\"1364\"}},\"id\":\"1357\",\"subtype\":\"Figure\",\"type\":\"Plot\"},{\"attributes\":{},\"id\":\"1371\",\"type\":\"BasicTicker\"},{\"attributes\":{\"coordinates\":null,\"formatter\":{\"id\":\"1434\"},\"group\":null,\"major_label_policy\":{\"id\":\"1435\"},\"ticker\":{\"id\":\"1371\"}},\"id\":\"1370\",\"type\":\"LinearAxis\"},{\"attributes\":{\"tools\":[{\"id\":\"1374\"},{\"id\":\"1375\"},{\"id\":\"1376\"},{\"id\":\"1377\"},{\"id\":\"1378\"},{\"id\":\"1379\"},{\"id\":\"1381\"}]},\"id\":\"1382\",\"type\":\"Toolbar\"},{\"attributes\":{\"source\":{\"id\":\"1392\"}},\"id\":\"1397\",\"type\":\"CDSView\"},{\"attributes\":{},\"id\":\"1378\",\"type\":\"ResetTool\"},{\"attributes\":{\"callback\":null,\"tooltips\":[[\"Bolt ID\",\"$index\"],[\"x, y coordinates\",\"(@x{0.0}, @y{0.0})\"],[\"Centroid\",\"(-0.0, 0.0)\"]]},\"id\":\"1381\",\"type\":\"HoverTool\"},{\"attributes\":{\"data\":{\"x\":{\"__ndarray__\":\"11ubNmzxVkCFDY9QhOxjQDG/gmqc51BA11ubNmzxVsCFDY9QhOxjwDC/gmqc51DA\",\"dtype\":\"float64\",\"order\":\"little\",\"shape\":[6]},\"y\":{\"__ndarray__\":\"jHSt9w5iYEBOIfNmzOMrwKGmHL5LIGLAjHSt9w5iYMB+IfNmzOMrQKKmHL5LIGJA\",\"dtype\":\"float64\",\"order\":\"little\",\"shape\":[6]}},\"selected\":{\"id\":\"1440\"},\"selection_policy\":{\"id\":\"1439\"}},\"id\":\"1392\",\"type\":\"ColumnDataSource\"},{\"attributes\":{},\"id\":\"1440\",\"type\":\"Selection\"},{\"attributes\":{},\"id\":\"1438\",\"type\":\"AllLabels\"},{\"attributes\":{},\"id\":\"1379\",\"type\":\"HelpTool\"},{\"attributes\":{\"coordinates\":null,\"dimension\":\"height\",\"group\":null,\"level\":\"underlay\",\"line_color\":\"grey\",\"location\":-4.736951571734001e-15},\"id\":\"1390\",\"type\":\"Span\"},{\"attributes\":{},\"id\":\"1374\",\"type\":\"PanTool\"},{\"attributes\":{},\"id\":\"1435\",\"type\":\"AllLabels\"},{\"attributes\":{\"coordinates\":null,\"formatter\":{\"id\":\"1437\"},\"group\":null,\"major_label_policy\":{\"id\":\"1438\"},\"ticker\":{\"id\":\"1367\"}},\"id\":\"1366\",\"type\":\"LinearAxis\"},{\"attributes\":{\"bottom_units\":\"screen\",\"coordinates\":null,\"fill_alpha\":0.5,\"fill_color\":\"lightgrey\",\"group\":null,\"left_units\":\"screen\",\"level\":\"overlay\",\"line_alpha\":1.0,\"line_color\":\"black\",\"line_dash\":[4,4],\"line_width\":2,\"right_units\":\"screen\",\"syncable\":false,\"top_units\":\"screen\"},\"id\":\"1380\",\"type\":\"BoxAnnotation\"},{\"attributes\":{\"fill_color\":{\"value\":\"pink\"},\"line_color\":{\"value\":\"grey\"},\"marker\":{\"value\":\"hex\"},\"size\":{\"value\":20},\"x\":{\"field\":\"x\"},\"y\":{\"field\":\"y\"}},\"id\":\"1393\",\"type\":\"Scatter\"},{\"attributes\":{},\"id\":\"1358\",\"type\":\"DataRange1d\"},{\"attributes\":{\"axis\":{\"id\":\"1366\"},\"coordinates\":null,\"group\":null,\"ticker\":null},\"id\":\"1369\",\"type\":\"Grid\"},{\"attributes\":{},\"id\":\"1364\",\"type\":\"LinearScale\"},{\"attributes\":{\"axis\":{\"id\":\"1370\"},\"coordinates\":null,\"dimension\":1,\"group\":null,\"ticker\":null},\"id\":\"1373\",\"type\":\"Grid\"},{\"attributes\":{},\"id\":\"1362\",\"type\":\"LinearScale\"},{\"attributes\":{\"coordinates\":null,\"data_source\":{\"id\":\"1392\"},\"glyph\":{\"id\":\"1393\"},\"group\":null,\"hover_glyph\":null,\"muted_glyph\":{\"id\":\"1395\"},\"nonselection_glyph\":{\"id\":\"1394\"},\"view\":{\"id\":\"1397\"}},\"id\":\"1396\",\"type\":\"GlyphRenderer\"},{\"attributes\":{},\"id\":\"1375\",\"type\":\"WheelZoomTool\"},{\"attributes\":{\"coordinates\":null,\"group\":null},\"id\":\"1431\",\"type\":\"Title\"},{\"attributes\":{},\"id\":\"1434\",\"type\":\"BasicTickFormatter\"},{\"attributes\":{},\"id\":\"1367\",\"type\":\"BasicTicker\"},{\"attributes\":{},\"id\":\"1377\",\"type\":\"SaveTool\"},{\"attributes\":{\"coordinates\":null,\"group\":null,\"level\":\"underlay\",\"line_color\":\"grey\",\"location\":1.8947806286936004e-14},\"id\":\"1391\",\"type\":\"Span\"},{\"attributes\":{},\"id\":\"1360\",\"type\":\"DataRange1d\"},{\"attributes\":{\"fill_alpha\":{\"value\":0.1},\"fill_color\":{\"value\":\"pink\"},\"hatch_alpha\":{\"value\":0.1},\"line_alpha\":{\"value\":0.1},\"line_color\":{\"value\":\"grey\"},\"marker\":{\"value\":\"hex\"},\"size\":{\"value\":20},\"x\":{\"field\":\"x\"},\"y\":{\"field\":\"y\"}},\"id\":\"1394\",\"type\":\"Scatter\"},{\"attributes\":{\"overlay\":{\"id\":\"1380\"}},\"id\":\"1376\",\"type\":\"BoxZoomTool\"},{\"attributes\":{},\"id\":\"1439\",\"type\":\"UnionRenderers\"},{\"attributes\":{},\"id\":\"1437\",\"type\":\"BasicTickFormatter\"},{\"attributes\":{\"fill_alpha\":{\"value\":0.2},\"fill_color\":{\"value\":\"pink\"},\"hatch_alpha\":{\"value\":0.2},\"line_alpha\":{\"value\":0.2},\"line_color\":{\"value\":\"grey\"},\"marker\":{\"value\":\"hex\"},\"size\":{\"value\":20},\"x\":{\"field\":\"x\"},\"y\":{\"field\":\"y\"}},\"id\":\"1395\",\"type\":\"Scatter\"}],\"root_ids\":[\"1357\"]},\"title\":\"Bokeh Application\",\"version\":\"2.4.1\"}};\n  const render_items = [{\"docid\":\"a4d3a1b6-24c4-46e7-87b1-f322359ab560\",\"root_ids\":[\"1357\"],\"roots\":{\"1357\":\"6cc81020-edfd-48a7-ad61-f0de3134fc9f\"}}];\n  root.Bokeh.embed.embed_items_notebook(docs_json, render_items);\n\n  }\n  if (root.Bokeh !== undefined) {\n    embed_document(root);\n  } else {\n    let attempts = 0;\n    const timer = setInterval(function(root) {\n      if (root.Bokeh !== undefined) {\n        clearInterval(timer);\n        embed_document(root);\n      } else {\n        attempts++;\n        if (attempts > 100) {\n          clearInterval(timer);\n          console.log(\"Bokeh: ERROR: Unable to run BokehJS code because BokehJS library is missing\");\n        }\n      }\n    }, 10, root)\n  }\n})(window);",
      "application/vnd.bokehjs_exec.v0+json": ""
     },
     "metadata": {
      "application/vnd.bokehjs_exec.v0+json": {
       "id": "1357"
      }
     },
     "output_type": "display_data"
    }
   ],
   "source": [
    "p7 = circle(160, 6, 35)"
   ]
  },
  {
   "cell_type": "markdown",
   "id": "54567462",
   "metadata": {},
   "source": [
    "#### Exercise 1.4"
   ]
  },
  {
   "cell_type": "markdown",
   "id": "338a58b6",
   "metadata": {},
   "source": [
    "Calculate the cooridnates of a circular bolt pattern with:\n",
    "* radius = 177 mm\n",
    "* number of fasteners = 6\n",
    "* bolt pattern rotated 45 degrees from vertical y-axis"
   ]
  },
  {
   "cell_type": "code",
   "execution_count": 9,
   "id": "6efc812e",
   "metadata": {},
   "outputs": [],
   "source": [
    "# EXERCISE 1.4\n",
    "\n",
    "# p8 = "
   ]
  },
  {
   "cell_type": "markdown",
   "id": "5f4646a5",
   "metadata": {},
   "source": [
    "### Arbitary points"
   ]
  },
  {
   "cell_type": "markdown",
   "id": "6c78933f",
   "metadata": {},
   "source": [
    "Finally, consider a bolt pattern made of the coordinates shown below:\n",
    "\n",
    "| ID |x (mm)|y (mm)|\n",
    "|:----|:----:|:----:|\n",
    "| 0 | 0 | -100 |\n",
    "| 1 | 80 | -50 |\n",
    "| 2 | 160 | -120 |\n",
    "| 3 | 120 | 88 |\n",
    "| 4 | -66 | 150 |\n",
    "| 5 | -80 | -20 |"
   ]
  },
  {
   "cell_type": "code",
   "execution_count": 10,
   "id": "a06c82ae",
   "metadata": {},
   "outputs": [
    {
     "data": {
      "text/html": [
       "\n",
       "\n",
       "\n",
       "\n",
       "\n",
       "\n",
       "  <div class=\"bk-root\" id=\"ac1d1968-d76e-401d-b666-520fcc227022\" data-root-id=\"1497\"></div>\n"
      ]
     },
     "metadata": {},
     "output_type": "display_data"
    },
    {
     "data": {
      "application/javascript": "(function(root) {\n  function embed_document(root) {\n    \n  const docs_json = {\"66c8ef26-14b5-4fd3-9fe3-42384dbb0ca8\":{\"defs\":[],\"roots\":{\"references\":[{\"attributes\":{\"below\":[{\"id\":\"1506\"}],\"center\":[{\"id\":\"1509\"},{\"id\":\"1513\"},{\"id\":\"1530\"},{\"id\":\"1531\"}],\"height\":400,\"left\":[{\"id\":\"1510\"}],\"match_aspect\":true,\"renderers\":[{\"id\":\"1536\"}],\"title\":{\"id\":\"1582\"},\"toolbar\":{\"id\":\"1522\"},\"x_range\":{\"id\":\"1498\"},\"x_scale\":{\"id\":\"1502\"},\"y_range\":{\"id\":\"1500\"},\"y_scale\":{\"id\":\"1504\"}},\"id\":\"1497\",\"subtype\":\"Figure\",\"type\":\"Plot\"},{\"attributes\":{\"fill_alpha\":{\"value\":0.2},\"fill_color\":{\"value\":\"pink\"},\"hatch_alpha\":{\"value\":0.2},\"line_alpha\":{\"value\":0.2},\"line_color\":{\"value\":\"grey\"},\"marker\":{\"value\":\"hex\"},\"size\":{\"value\":20},\"x\":{\"field\":\"x\"},\"y\":{\"field\":\"y\"}},\"id\":\"1535\",\"type\":\"Scatter\"},{\"attributes\":{},\"id\":\"1514\",\"type\":\"PanTool\"},{\"attributes\":{\"tools\":[{\"id\":\"1514\"},{\"id\":\"1515\"},{\"id\":\"1516\"},{\"id\":\"1517\"},{\"id\":\"1518\"},{\"id\":\"1519\"},{\"id\":\"1521\"}]},\"id\":\"1522\",\"type\":\"Toolbar\"},{\"attributes\":{\"source\":{\"id\":\"1532\"}},\"id\":\"1537\",\"type\":\"CDSView\"},{\"attributes\":{\"data\":{\"x\":[0,80,160,120,-66,-80],\"y\":[-100,-50,-120,88,150,-20]},\"selected\":{\"id\":\"1591\"},\"selection_policy\":{\"id\":\"1590\"}},\"id\":\"1532\",\"type\":\"ColumnDataSource\"},{\"attributes\":{},\"id\":\"1589\",\"type\":\"AllLabels\"},{\"attributes\":{},\"id\":\"1498\",\"type\":\"DataRange1d\"},{\"attributes\":{\"coordinates\":null,\"dimension\":\"height\",\"group\":null,\"level\":\"underlay\",\"line_color\":\"grey\",\"location\":35.666666666666664},\"id\":\"1530\",\"type\":\"Span\"},{\"attributes\":{\"overlay\":{\"id\":\"1520\"}},\"id\":\"1516\",\"type\":\"BoxZoomTool\"},{\"attributes\":{},\"id\":\"1588\",\"type\":\"BasicTickFormatter\"},{\"attributes\":{},\"id\":\"1517\",\"type\":\"SaveTool\"},{\"attributes\":{},\"id\":\"1500\",\"type\":\"DataRange1d\"},{\"attributes\":{\"fill_color\":{\"value\":\"pink\"},\"line_color\":{\"value\":\"grey\"},\"marker\":{\"value\":\"hex\"},\"size\":{\"value\":20},\"x\":{\"field\":\"x\"},\"y\":{\"field\":\"y\"}},\"id\":\"1533\",\"type\":\"Scatter\"},{\"attributes\":{},\"id\":\"1502\",\"type\":\"LinearScale\"},{\"attributes\":{},\"id\":\"1518\",\"type\":\"ResetTool\"},{\"attributes\":{},\"id\":\"1590\",\"type\":\"UnionRenderers\"},{\"attributes\":{},\"id\":\"1519\",\"type\":\"HelpTool\"},{\"attributes\":{},\"id\":\"1504\",\"type\":\"LinearScale\"},{\"attributes\":{\"bottom_units\":\"screen\",\"coordinates\":null,\"fill_alpha\":0.5,\"fill_color\":\"lightgrey\",\"group\":null,\"left_units\":\"screen\",\"level\":\"overlay\",\"line_alpha\":1.0,\"line_color\":\"black\",\"line_dash\":[4,4],\"line_width\":2,\"right_units\":\"screen\",\"syncable\":false,\"top_units\":\"screen\"},\"id\":\"1520\",\"type\":\"BoxAnnotation\"},{\"attributes\":{\"coordinates\":null,\"formatter\":{\"id\":\"1588\"},\"group\":null,\"major_label_policy\":{\"id\":\"1589\"},\"ticker\":{\"id\":\"1507\"}},\"id\":\"1506\",\"type\":\"LinearAxis\"},{\"attributes\":{\"coordinates\":null,\"group\":null},\"id\":\"1582\",\"type\":\"Title\"},{\"attributes\":{},\"id\":\"1511\",\"type\":\"BasicTicker\"},{\"attributes\":{},\"id\":\"1507\",\"type\":\"BasicTicker\"},{\"attributes\":{\"axis\":{\"id\":\"1506\"},\"coordinates\":null,\"group\":null,\"ticker\":null},\"id\":\"1509\",\"type\":\"Grid\"},{\"attributes\":{\"coordinates\":null,\"group\":null,\"level\":\"underlay\",\"line_color\":\"grey\",\"location\":-8.666666666666666},\"id\":\"1531\",\"type\":\"Span\"},{\"attributes\":{\"axis\":{\"id\":\"1510\"},\"coordinates\":null,\"dimension\":1,\"group\":null,\"ticker\":null},\"id\":\"1513\",\"type\":\"Grid\"},{\"attributes\":{},\"id\":\"1586\",\"type\":\"AllLabels\"},{\"attributes\":{\"coordinates\":null,\"data_source\":{\"id\":\"1532\"},\"glyph\":{\"id\":\"1533\"},\"group\":null,\"hover_glyph\":null,\"muted_glyph\":{\"id\":\"1535\"},\"nonselection_glyph\":{\"id\":\"1534\"},\"view\":{\"id\":\"1537\"}},\"id\":\"1536\",\"type\":\"GlyphRenderer\"},{\"attributes\":{\"coordinates\":null,\"formatter\":{\"id\":\"1585\"},\"group\":null,\"major_label_policy\":{\"id\":\"1586\"},\"ticker\":{\"id\":\"1511\"}},\"id\":\"1510\",\"type\":\"LinearAxis\"},{\"attributes\":{},\"id\":\"1515\",\"type\":\"WheelZoomTool\"},{\"attributes\":{},\"id\":\"1591\",\"type\":\"Selection\"},{\"attributes\":{\"fill_alpha\":{\"value\":0.1},\"fill_color\":{\"value\":\"pink\"},\"hatch_alpha\":{\"value\":0.1},\"line_alpha\":{\"value\":0.1},\"line_color\":{\"value\":\"grey\"},\"marker\":{\"value\":\"hex\"},\"size\":{\"value\":20},\"x\":{\"field\":\"x\"},\"y\":{\"field\":\"y\"}},\"id\":\"1534\",\"type\":\"Scatter\"},{\"attributes\":{},\"id\":\"1585\",\"type\":\"BasicTickFormatter\"},{\"attributes\":{\"callback\":null,\"tooltips\":[[\"Bolt ID\",\"$index\"],[\"x, y coordinates\",\"(@x{0.0}, @y{0.0})\"],[\"Centroid\",\"(35.7, -8.7)\"]]},\"id\":\"1521\",\"type\":\"HoverTool\"}],\"root_ids\":[\"1497\"]},\"title\":\"Bokeh Application\",\"version\":\"2.4.1\"}};\n  const render_items = [{\"docid\":\"66c8ef26-14b5-4fd3-9fe3-42384dbb0ca8\",\"root_ids\":[\"1497\"],\"roots\":{\"1497\":\"ac1d1968-d76e-401d-b666-520fcc227022\"}}];\n  root.Bokeh.embed.embed_items_notebook(docs_json, render_items);\n\n  }\n  if (root.Bokeh !== undefined) {\n    embed_document(root);\n  } else {\n    let attempts = 0;\n    const timer = setInterval(function(root) {\n      if (root.Bokeh !== undefined) {\n        clearInterval(timer);\n        embed_document(root);\n      } else {\n        attempts++;\n        if (attempts > 100) {\n          clearInterval(timer);\n          console.log(\"Bokeh: ERROR: Unable to run BokehJS code because BokehJS library is missing\");\n        }\n      }\n    }, 10, root)\n  }\n})(window);",
      "application/vnd.bokehjs_exec.v0+json": ""
     },
     "metadata": {
      "application/vnd.bokehjs_exec.v0+json": {
       "id": "1497"
      }
     },
     "output_type": "display_data"
    }
   ],
   "source": [
    "p9 = points((0,-100), (80, -50), (160, -120), (120, 88), (-66, 150), (-80, -20))"
   ]
  },
  {
   "cell_type": "markdown",
   "id": "f64231c2",
   "metadata": {},
   "source": [
    "#### Exercise 1.5"
   ]
  },
  {
   "cell_type": "markdown",
   "id": "7241ac36",
   "metadata": {},
   "source": [
    "Generate a point array for the bolt pattern comprised of the coordinates shown below:\n",
    "\n",
    "| ID |x (mm)|y (mm)|\n",
    "|:----|:----:|:----:|\n",
    "| 0 | 0 | -50 |\n",
    "| 1 | 60 | -40 |\n",
    "| 2 | 160 | -180 |\n",
    "| 3 | 150 | 67 |\n",
    "| 4 | -50 | 158 |\n",
    "| 5 | -60 | -30 |"
   ]
  },
  {
   "cell_type": "code",
   "execution_count": 11,
   "id": "1715e78b",
   "metadata": {},
   "outputs": [],
   "source": [
    "# EXERCISE 1.5\n",
    "\n",
    "# p10 = "
   ]
  },
  {
   "cell_type": "markdown",
   "id": "6cc29643",
   "metadata": {},
   "source": [
    "## 2. Bolt Centroid"
   ]
  },
  {
   "cell_type": "markdown",
   "id": "456898da",
   "metadata": {},
   "source": [
    "Now that we can quickly calculate the coordinates of various bolt patterns, let's calculate the location of the bolt centroid of the bolt group."
   ]
  },
  {
   "cell_type": "markdown",
   "id": "7502905f",
   "metadata": {},
   "source": [
    "### Pivot point for bolt group"
   ]
  },
  {
   "cell_type": "markdown",
   "id": "5f8450a7",
   "metadata": {},
   "source": [
    "Loads (forces and moments) acting on a bolt group will tend to act about the bolt centroid. The bolt centroid can be thought of as the point that the bolt group pivots about when the loads are applied.\n",
    "\n",
    "The formula for calculating the bolt centroid $x_c$ and $y_c$ is:\n",
    "\n",
    "$$ x_c = \\frac{\\sum_i{x_iA_i}}{\\sum_i{A_i}}    \\qquad  \\qquad y_c = \\frac{\\sum_i{y_iA_i}}{\\sum_i{A_i}} $$"
   ]
  },
  {
   "cell_type": "markdown",
   "id": "f4ff849c",
   "metadata": {},
   "source": [
    "If the **area** of all fasteners is the **same**, the equation for the bolt centroid is reduced to\n",
    "\n",
    "$$ x_c = \\frac{\\sum_i{x_i}}{i}    \\qquad  \\qquad y_c = \\frac{\\sum_i{y_i}}{i} $$"
   ]
  },
  {
   "cell_type": "markdown",
   "id": "4b492d3b",
   "metadata": {},
   "source": [
    "Consider the bolt pattern defined by:\n",
    "\n",
    "| ID |x (mm)|y (mm)|\n",
    "|:----|:----:|:----:|\n",
    "| 0 | 0 | 0 |\n",
    "| 1 | 100 | 0 |\n",
    "| 2 | 100 | 200 |\n",
    "| 3 | 0 | 200 |\n",
    "\n",
    "The same fastener type is used for all bolts in the bolt group (i.e. the area of all fasteners is the same)"
   ]
  },
  {
   "cell_type": "code",
   "execution_count": 12,
   "id": "723e0421",
   "metadata": {},
   "outputs": [
    {
     "data": {
      "text/html": [
       "\n",
       "\n",
       "\n",
       "\n",
       "\n",
       "\n",
       "  <div class=\"bk-root\" id=\"25377bfb-720a-4e54-9b11-b786da5a561a\" data-root-id=\"1648\"></div>\n"
      ]
     },
     "metadata": {},
     "output_type": "display_data"
    },
    {
     "data": {
      "application/javascript": "(function(root) {\n  function embed_document(root) {\n    \n  const docs_json = {\"d33a258c-fc71-4d54-bd3c-abac88a2369c\":{\"defs\":[],\"roots\":{\"references\":[{\"attributes\":{\"below\":[{\"id\":\"1657\"}],\"center\":[{\"id\":\"1660\"},{\"id\":\"1664\"},{\"id\":\"1681\"},{\"id\":\"1682\"}],\"height\":400,\"left\":[{\"id\":\"1661\"}],\"match_aspect\":true,\"renderers\":[{\"id\":\"1687\"}],\"title\":{\"id\":\"1744\"},\"toolbar\":{\"id\":\"1673\"},\"x_range\":{\"id\":\"1649\"},\"x_scale\":{\"id\":\"1653\"},\"y_range\":{\"id\":\"1651\"},\"y_scale\":{\"id\":\"1655\"}},\"id\":\"1648\",\"subtype\":\"Figure\",\"type\":\"Plot\"},{\"attributes\":{\"axis\":{\"id\":\"1661\"},\"coordinates\":null,\"dimension\":1,\"group\":null,\"ticker\":null},\"id\":\"1664\",\"type\":\"Grid\"},{\"attributes\":{\"coordinates\":null,\"formatter\":{\"id\":\"1747\"},\"group\":null,\"major_label_policy\":{\"id\":\"1748\"},\"ticker\":{\"id\":\"1662\"}},\"id\":\"1661\",\"type\":\"LinearAxis\"},{\"attributes\":{\"coordinates\":null,\"group\":null},\"id\":\"1744\",\"type\":\"Title\"},{\"attributes\":{\"coordinates\":null,\"group\":null,\"level\":\"underlay\",\"line_color\":\"grey\",\"location\":100.0},\"id\":\"1682\",\"type\":\"Span\"},{\"attributes\":{\"coordinates\":null,\"data_source\":{\"id\":\"1683\"},\"glyph\":{\"id\":\"1684\"},\"group\":null,\"hover_glyph\":null,\"muted_glyph\":{\"id\":\"1686\"},\"nonselection_glyph\":{\"id\":\"1685\"},\"view\":{\"id\":\"1688\"}},\"id\":\"1687\",\"type\":\"GlyphRenderer\"},{\"attributes\":{\"fill_alpha\":{\"value\":0.2},\"fill_color\":{\"value\":\"pink\"},\"hatch_alpha\":{\"value\":0.2},\"line_alpha\":{\"value\":0.2},\"line_color\":{\"value\":\"grey\"},\"marker\":{\"value\":\"hex\"},\"size\":{\"value\":20},\"x\":{\"field\":\"x\"},\"y\":{\"field\":\"y\"}},\"id\":\"1686\",\"type\":\"Scatter\"},{\"attributes\":{\"data\":{\"x\":[0,100,100,0],\"y\":[0,0,200,200]},\"selected\":{\"id\":\"1753\"},\"selection_policy\":{\"id\":\"1752\"}},\"id\":\"1683\",\"type\":\"ColumnDataSource\"},{\"attributes\":{\"source\":{\"id\":\"1683\"}},\"id\":\"1688\",\"type\":\"CDSView\"},{\"attributes\":{},\"id\":\"1751\",\"type\":\"AllLabels\"},{\"attributes\":{},\"id\":\"1665\",\"type\":\"PanTool\"},{\"attributes\":{\"coordinates\":null,\"dimension\":\"height\",\"group\":null,\"level\":\"underlay\",\"line_color\":\"grey\",\"location\":50.0},\"id\":\"1681\",\"type\":\"Span\"},{\"attributes\":{},\"id\":\"1753\",\"type\":\"Selection\"},{\"attributes\":{},\"id\":\"1649\",\"type\":\"DataRange1d\"},{\"attributes\":{\"overlay\":{\"id\":\"1671\"}},\"id\":\"1667\",\"type\":\"BoxZoomTool\"},{\"attributes\":{\"callback\":null,\"tooltips\":[[\"Bolt ID\",\"$index\"],[\"x, y coordinates\",\"(@x{0.0}, @y{0.0})\"],[\"Centroid\",\"(50.0, 100.0)\"]]},\"id\":\"1672\",\"type\":\"HoverTool\"},{\"attributes\":{},\"id\":\"1747\",\"type\":\"BasicTickFormatter\"},{\"attributes\":{},\"id\":\"1668\",\"type\":\"SaveTool\"},{\"attributes\":{},\"id\":\"1752\",\"type\":\"UnionRenderers\"},{\"attributes\":{},\"id\":\"1651\",\"type\":\"DataRange1d\"},{\"attributes\":{},\"id\":\"1653\",\"type\":\"LinearScale\"},{\"attributes\":{},\"id\":\"1669\",\"type\":\"ResetTool\"},{\"attributes\":{},\"id\":\"1750\",\"type\":\"BasicTickFormatter\"},{\"attributes\":{},\"id\":\"1748\",\"type\":\"AllLabels\"},{\"attributes\":{\"fill_alpha\":{\"value\":0.1},\"fill_color\":{\"value\":\"pink\"},\"hatch_alpha\":{\"value\":0.1},\"line_alpha\":{\"value\":0.1},\"line_color\":{\"value\":\"grey\"},\"marker\":{\"value\":\"hex\"},\"size\":{\"value\":20},\"x\":{\"field\":\"x\"},\"y\":{\"field\":\"y\"}},\"id\":\"1685\",\"type\":\"Scatter\"},{\"attributes\":{},\"id\":\"1670\",\"type\":\"HelpTool\"},{\"attributes\":{\"fill_color\":{\"value\":\"pink\"},\"line_color\":{\"value\":\"grey\"},\"marker\":{\"value\":\"hex\"},\"size\":{\"value\":20},\"x\":{\"field\":\"x\"},\"y\":{\"field\":\"y\"}},\"id\":\"1684\",\"type\":\"Scatter\"},{\"attributes\":{},\"id\":\"1655\",\"type\":\"LinearScale\"},{\"attributes\":{\"bottom_units\":\"screen\",\"coordinates\":null,\"fill_alpha\":0.5,\"fill_color\":\"lightgrey\",\"group\":null,\"left_units\":\"screen\",\"level\":\"overlay\",\"line_alpha\":1.0,\"line_color\":\"black\",\"line_dash\":[4,4],\"line_width\":2,\"right_units\":\"screen\",\"syncable\":false,\"top_units\":\"screen\"},\"id\":\"1671\",\"type\":\"BoxAnnotation\"},{\"attributes\":{\"coordinates\":null,\"formatter\":{\"id\":\"1750\"},\"group\":null,\"major_label_policy\":{\"id\":\"1751\"},\"ticker\":{\"id\":\"1658\"}},\"id\":\"1657\",\"type\":\"LinearAxis\"},{\"attributes\":{},\"id\":\"1666\",\"type\":\"WheelZoomTool\"},{\"attributes\":{},\"id\":\"1662\",\"type\":\"BasicTicker\"},{\"attributes\":{\"tools\":[{\"id\":\"1665\"},{\"id\":\"1666\"},{\"id\":\"1667\"},{\"id\":\"1668\"},{\"id\":\"1669\"},{\"id\":\"1670\"},{\"id\":\"1672\"}]},\"id\":\"1673\",\"type\":\"Toolbar\"},{\"attributes\":{},\"id\":\"1658\",\"type\":\"BasicTicker\"},{\"attributes\":{\"axis\":{\"id\":\"1657\"},\"coordinates\":null,\"group\":null,\"ticker\":null},\"id\":\"1660\",\"type\":\"Grid\"}],\"root_ids\":[\"1648\"]},\"title\":\"Bokeh Application\",\"version\":\"2.4.1\"}};\n  const render_items = [{\"docid\":\"d33a258c-fc71-4d54-bd3c-abac88a2369c\",\"root_ids\":[\"1648\"],\"roots\":{\"1648\":\"25377bfb-720a-4e54-9b11-b786da5a561a\"}}];\n  root.Bokeh.embed.embed_items_notebook(docs_json, render_items);\n\n  }\n  if (root.Bokeh !== undefined) {\n    embed_document(root);\n  } else {\n    let attempts = 0;\n    const timer = setInterval(function(root) {\n      if (root.Bokeh !== undefined) {\n        clearInterval(timer);\n        embed_document(root);\n      } else {\n        attempts++;\n        if (attempts > 100) {\n          clearInterval(timer);\n          console.log(\"Bokeh: ERROR: Unable to run BokehJS code because BokehJS library is missing\");\n        }\n      }\n    }, 10, root)\n  }\n})(window);",
      "application/vnd.bokehjs_exec.v0+json": ""
     },
     "metadata": {
      "application/vnd.bokehjs_exec.v0+json": {
       "id": "1648"
      }
     },
     "output_type": "display_data"
    }
   ],
   "source": [
    "# The points function returns a tuple of x, y arrays. The x and y arrays are numpy arrays. \n",
    "\n",
    "x, y = p11 = points((0,0), (100,0), (100,200), (0,200))   "
   ]
  },
  {
   "cell_type": "code",
   "execution_count": 13,
   "id": "6c40b2d7",
   "metadata": {},
   "outputs": [
    {
     "data": {
      "text/plain": [
       "array([  0, 100, 100,   0])"
      ]
     },
     "execution_count": 13,
     "metadata": {},
     "output_type": "execute_result"
    }
   ],
   "source": [
    "# x array values\n",
    "x"
   ]
  },
  {
   "cell_type": "code",
   "execution_count": 14,
   "id": "4ac3ded5",
   "metadata": {},
   "outputs": [
    {
     "data": {
      "text/plain": [
       "array([  0,   0, 200, 200])"
      ]
     },
     "execution_count": 14,
     "metadata": {},
     "output_type": "execute_result"
    }
   ],
   "source": [
    "# y array values\n",
    "y"
   ]
  },
  {
   "cell_type": "markdown",
   "id": "d1507669",
   "metadata": {},
   "source": [
    "### Manual calculation - same size fasteners in bolt group"
   ]
  },
  {
   "cell_type": "markdown",
   "id": "45917389",
   "metadata": {},
   "source": [
    "$$ x_c = \\frac{\\sum_i{x_i}}{i}    \\qquad  \\qquad y_c = \\frac{\\sum_i{y_i}}{i} $$"
   ]
  },
  {
   "cell_type": "code",
   "execution_count": 15,
   "id": "83d5d36a",
   "metadata": {},
   "outputs": [
    {
     "name": "stdout",
     "output_type": "stream",
     "text": [
      "The value of xc is:  50.0 mm\n"
     ]
    }
   ],
   "source": [
    "# Calculation of xc\n",
    "\n",
    "xc = (0 + 100 + 100 + 0) / 4\n",
    "\n",
    "print('The value of xc is: ', xc, 'mm')"
   ]
  },
  {
   "cell_type": "code",
   "execution_count": 16,
   "id": "56b3e48e",
   "metadata": {},
   "outputs": [
    {
     "name": "stdout",
     "output_type": "stream",
     "text": [
      "The value of yc is:  100.0 mm\n"
     ]
    }
   ],
   "source": [
    "# Calculation of yc\n",
    "\n",
    "yc = (0 + 0 + 200 + 200) / 4\n",
    "\n",
    "print('The value of yc is: ', yc, 'mm')"
   ]
  },
  {
   "cell_type": "markdown",
   "id": "d578d43e",
   "metadata": {},
   "source": [
    "The value of xc and yc is automatically plotted in the graph when the points were generated with the `points` function"
   ]
  },
  {
   "cell_type": "markdown",
   "id": "57ea62a8",
   "metadata": {},
   "source": [
    "#### Exercise 2.1"
   ]
  },
  {
   "cell_type": "markdown",
   "id": "ae5e448d",
   "metadata": {},
   "source": [
    "Calculate the bolt centroid for the bolt group detailed below:\n",
    "\n",
    "\n",
    "| ID |x (mm)|y (mm)|\n",
    "|:----|:----:|:----:|\n",
    "| 0 | 0 | 0 |\n",
    "| 1 | 120 | -30 |\n",
    "| 2 | 130 | 240 |\n",
    "| 3 | -30 | 145 |\n",
    "\n",
    "The same fastener type is used for all bolts in the bolt group (i.e. the area of all fasteners is the same)\n"
   ]
  },
  {
   "cell_type": "code",
   "execution_count": 17,
   "id": "a04d72e1",
   "metadata": {},
   "outputs": [],
   "source": [
    "# Enter the coorindates\n",
    "\n",
    "# x, y = p12 = "
   ]
  },
  {
   "cell_type": "code",
   "execution_count": 18,
   "id": "34fdf031",
   "metadata": {},
   "outputs": [],
   "source": [
    "# Manually calculate the x coordinate of the centroid\n",
    "\n",
    "# xc = "
   ]
  },
  {
   "cell_type": "code",
   "execution_count": 19,
   "id": "09ae4b09",
   "metadata": {},
   "outputs": [],
   "source": [
    "# Manually calculate the y coordinate of the centroid\n",
    "\n",
    "# yc = "
   ]
  },
  {
   "cell_type": "markdown",
   "id": "ae1b17ef",
   "metadata": {},
   "source": [
    "### Manual Calculation - different size fasteners in the bolt group"
   ]
  },
  {
   "cell_type": "markdown",
   "id": "44f086e1",
   "metadata": {},
   "source": [
    "Calculate the bolt centroid for the bolt group detailed below:\n",
    "\n",
    "\n",
    "| ID |x (mm)|y (mm)| A (mm^2)\n",
    "|:----|:----:|:----:|:----:|\n",
    "| 0 | 0 | 0 | 12 |\n",
    "| 1 | 120 | -30 | 12 |\n",
    "| 2 | 130 | 240 | 30 |\n",
    "| 3 | -30 | 145 | 12 |\n"
   ]
  },
  {
   "cell_type": "code",
   "execution_count": 20,
   "id": "b9e414b1",
   "metadata": {},
   "outputs": [
    {
     "data": {
      "text/html": [
       "\n",
       "\n",
       "\n",
       "\n",
       "\n",
       "\n",
       "  <div class=\"bk-root\" id=\"7dd9d5e9-2988-484c-abf6-eedb16516e4a\" data-root-id=\"1810\"></div>\n"
      ]
     },
     "metadata": {},
     "output_type": "display_data"
    },
    {
     "data": {
      "application/javascript": "(function(root) {\n  function embed_document(root) {\n    \n  const docs_json = {\"0e101568-7081-4668-9f14-9eb3900b53fd\":{\"defs\":[],\"roots\":{\"references\":[{\"attributes\":{\"below\":[{\"id\":\"1819\"}],\"center\":[{\"id\":\"1822\"},{\"id\":\"1826\"},{\"id\":\"1843\"},{\"id\":\"1844\"}],\"height\":400,\"left\":[{\"id\":\"1823\"}],\"match_aspect\":true,\"renderers\":[{\"id\":\"1849\"}],\"title\":{\"id\":\"1917\"},\"toolbar\":{\"id\":\"1835\"},\"x_range\":{\"id\":\"1811\"},\"x_scale\":{\"id\":\"1815\"},\"y_range\":{\"id\":\"1813\"},\"y_scale\":{\"id\":\"1817\"}},\"id\":\"1810\",\"subtype\":\"Figure\",\"type\":\"Plot\"},{\"attributes\":{\"fill_color\":{\"value\":\"pink\"},\"line_color\":{\"value\":\"grey\"},\"marker\":{\"value\":\"hex\"},\"size\":{\"value\":20},\"x\":{\"field\":\"x\"},\"y\":{\"field\":\"y\"}},\"id\":\"1846\",\"type\":\"Scatter\"},{\"attributes\":{\"coordinates\":null,\"formatter\":{\"id\":\"1923\"},\"group\":null,\"major_label_policy\":{\"id\":\"1924\"},\"ticker\":{\"id\":\"1820\"}},\"id\":\"1819\",\"type\":\"LinearAxis\"},{\"attributes\":{},\"id\":\"1827\",\"type\":\"PanTool\"},{\"attributes\":{\"data\":{\"x\":[0,120,130,-30],\"y\":[0,-30,240,145]},\"selected\":{\"id\":\"1926\"},\"selection_policy\":{\"id\":\"1925\"}},\"id\":\"1845\",\"type\":\"ColumnDataSource\"},{\"attributes\":{\"fill_alpha\":{\"value\":0.2},\"fill_color\":{\"value\":\"pink\"},\"hatch_alpha\":{\"value\":0.2},\"line_alpha\":{\"value\":0.2},\"line_color\":{\"value\":\"grey\"},\"marker\":{\"value\":\"hex\"},\"size\":{\"value\":20},\"x\":{\"field\":\"x\"},\"y\":{\"field\":\"y\"}},\"id\":\"1848\",\"type\":\"Scatter\"},{\"attributes\":{},\"id\":\"1921\",\"type\":\"AllLabels\"},{\"attributes\":{},\"id\":\"1925\",\"type\":\"UnionRenderers\"},{\"attributes\":{},\"id\":\"1811\",\"type\":\"DataRange1d\"},{\"attributes\":{},\"id\":\"1813\",\"type\":\"DataRange1d\"},{\"attributes\":{\"coordinates\":null,\"dimension\":\"height\",\"group\":null,\"level\":\"underlay\",\"line_color\":\"grey\",\"location\":55.0},\"id\":\"1843\",\"type\":\"Span\"},{\"attributes\":{\"callback\":null,\"tooltips\":[[\"Bolt ID\",\"$index\"],[\"x, y coordinates\",\"(@x{0.0}, @y{0.0})\"],[\"Centroid\",\"(55.0, 88.8)\"]]},\"id\":\"1834\",\"type\":\"HoverTool\"},{\"attributes\":{},\"id\":\"1920\",\"type\":\"BasicTickFormatter\"},{\"attributes\":{},\"id\":\"1828\",\"type\":\"WheelZoomTool\"},{\"attributes\":{\"coordinates\":null,\"group\":null},\"id\":\"1917\",\"type\":\"Title\"},{\"attributes\":{\"tools\":[{\"id\":\"1827\"},{\"id\":\"1828\"},{\"id\":\"1829\"},{\"id\":\"1830\"},{\"id\":\"1831\"},{\"id\":\"1832\"},{\"id\":\"1834\"}]},\"id\":\"1835\",\"type\":\"Toolbar\"},{\"attributes\":{\"source\":{\"id\":\"1845\"}},\"id\":\"1850\",\"type\":\"CDSView\"},{\"attributes\":{},\"id\":\"1923\",\"type\":\"BasicTickFormatter\"},{\"attributes\":{},\"id\":\"1926\",\"type\":\"Selection\"},{\"attributes\":{\"coordinates\":null,\"group\":null,\"level\":\"underlay\",\"line_color\":\"grey\",\"location\":88.75},\"id\":\"1844\",\"type\":\"Span\"},{\"attributes\":{\"overlay\":{\"id\":\"1833\"}},\"id\":\"1829\",\"type\":\"BoxZoomTool\"},{\"attributes\":{\"axis\":{\"id\":\"1819\"},\"coordinates\":null,\"group\":null,\"ticker\":null},\"id\":\"1822\",\"type\":\"Grid\"},{\"attributes\":{},\"id\":\"1817\",\"type\":\"LinearScale\"},{\"attributes\":{},\"id\":\"1831\",\"type\":\"ResetTool\"},{\"attributes\":{\"coordinates\":null,\"data_source\":{\"id\":\"1845\"},\"glyph\":{\"id\":\"1846\"},\"group\":null,\"hover_glyph\":null,\"muted_glyph\":{\"id\":\"1848\"},\"nonselection_glyph\":{\"id\":\"1847\"},\"view\":{\"id\":\"1850\"}},\"id\":\"1849\",\"type\":\"GlyphRenderer\"},{\"attributes\":{\"fill_alpha\":{\"value\":0.1},\"fill_color\":{\"value\":\"pink\"},\"hatch_alpha\":{\"value\":0.1},\"line_alpha\":{\"value\":0.1},\"line_color\":{\"value\":\"grey\"},\"marker\":{\"value\":\"hex\"},\"size\":{\"value\":20},\"x\":{\"field\":\"x\"},\"y\":{\"field\":\"y\"}},\"id\":\"1847\",\"type\":\"Scatter\"},{\"attributes\":{\"axis\":{\"id\":\"1823\"},\"coordinates\":null,\"dimension\":1,\"group\":null,\"ticker\":null},\"id\":\"1826\",\"type\":\"Grid\"},{\"attributes\":{\"coordinates\":null,\"formatter\":{\"id\":\"1920\"},\"group\":null,\"major_label_policy\":{\"id\":\"1921\"},\"ticker\":{\"id\":\"1824\"}},\"id\":\"1823\",\"type\":\"LinearAxis\"},{\"attributes\":{},\"id\":\"1924\",\"type\":\"AllLabels\"},{\"attributes\":{},\"id\":\"1820\",\"type\":\"BasicTicker\"},{\"attributes\":{},\"id\":\"1815\",\"type\":\"LinearScale\"},{\"attributes\":{\"bottom_units\":\"screen\",\"coordinates\":null,\"fill_alpha\":0.5,\"fill_color\":\"lightgrey\",\"group\":null,\"left_units\":\"screen\",\"level\":\"overlay\",\"line_alpha\":1.0,\"line_color\":\"black\",\"line_dash\":[4,4],\"line_width\":2,\"right_units\":\"screen\",\"syncable\":false,\"top_units\":\"screen\"},\"id\":\"1833\",\"type\":\"BoxAnnotation\"},{\"attributes\":{},\"id\":\"1832\",\"type\":\"HelpTool\"},{\"attributes\":{},\"id\":\"1830\",\"type\":\"SaveTool\"},{\"attributes\":{},\"id\":\"1824\",\"type\":\"BasicTicker\"}],\"root_ids\":[\"1810\"]},\"title\":\"Bokeh Application\",\"version\":\"2.4.1\"}};\n  const render_items = [{\"docid\":\"0e101568-7081-4668-9f14-9eb3900b53fd\",\"root_ids\":[\"1810\"],\"roots\":{\"1810\":\"7dd9d5e9-2988-484c-abf6-eedb16516e4a\"}}];\n  root.Bokeh.embed.embed_items_notebook(docs_json, render_items);\n\n  }\n  if (root.Bokeh !== undefined) {\n    embed_document(root);\n  } else {\n    let attempts = 0;\n    const timer = setInterval(function(root) {\n      if (root.Bokeh !== undefined) {\n        clearInterval(timer);\n        embed_document(root);\n      } else {\n        attempts++;\n        if (attempts > 100) {\n          clearInterval(timer);\n          console.log(\"Bokeh: ERROR: Unable to run BokehJS code because BokehJS library is missing\");\n        }\n      }\n    }, 10, root)\n  }\n})(window);",
      "application/vnd.bokehjs_exec.v0+json": ""
     },
     "metadata": {
      "application/vnd.bokehjs_exec.v0+json": {
       "id": "1810"
      }
     },
     "output_type": "display_data"
    }
   ],
   "source": [
    "x, y = p13 = points((0,0), (120,-30), (130,240), (-30, 145))\n",
    "\n",
    "# caution: graph below displays centroid when all bolts are the equal as Area not passed to function"
   ]
  },
  {
   "cell_type": "markdown",
   "id": "87f1e576",
   "metadata": {},
   "source": [
    "$$ x_c = \\frac{\\sum_i{x_iA_i}}{\\sum_i{A_i}}    \\qquad  \\qquad y_c = \\frac{\\sum_i{y_iA_i}}{\\sum_i{A_i}} $$"
   ]
  },
  {
   "cell_type": "code",
   "execution_count": 21,
   "id": "e154d64f",
   "metadata": {},
   "outputs": [
    {
     "name": "stdout",
     "output_type": "stream",
     "text": [
      "The value of xc is:  75.45454545454545\n"
     ]
    }
   ],
   "source": [
    "xc = ( 0*12 + 120*12 + 130*30 + -30*12 ) / (12 + 12 + 30 + 12)\n",
    "\n",
    "print('The value of xc is: ', xc)"
   ]
  },
  {
   "cell_type": "code",
   "execution_count": 22,
   "id": "f673bb30",
   "metadata": {},
   "outputs": [
    {
     "name": "stdout",
     "output_type": "stream",
     "text": [
      "The value of yc is:  130.0\n"
     ]
    }
   ],
   "source": [
    "yc = ( 0*12 + -30*12 + 240*30 + 145*12 ) / (12 + 12 + 30 + 12)\n",
    "\n",
    "print('The value of yc is: ', yc)"
   ]
  },
  {
   "cell_type": "markdown",
   "id": "d2cc62d6",
   "metadata": {},
   "source": [
    "#### Exercise 2.2"
   ]
  },
  {
   "cell_type": "markdown",
   "id": "51140114",
   "metadata": {},
   "source": [
    "Calculate the bolt centroid for the bolt group detailed below:\n",
    "\n",
    "\n",
    "| ID |x (mm)|y (mm)| A (mm^2)\n",
    "|:----|:----:|:----:|:----:|\n",
    "| 0 | 0 | 0 | 15 |\n",
    "| 1 | 120 | -50 | 20 |\n",
    "| 2 | 200 | -80 | 20 |\n",
    "| 3 | 100 | 160 | 25 |\n",
    "| 4 | 220 | 185 | 25 |\n",
    "| 5 | -30 | 145 | 14 |\n"
   ]
  },
  {
   "cell_type": "code",
   "execution_count": 23,
   "id": "f2a2f51a",
   "metadata": {},
   "outputs": [],
   "source": [
    "# EXERCISE 2.2\n",
    "\n",
    "# x, y = p14 = "
   ]
  },
  {
   "cell_type": "code",
   "execution_count": 24,
   "id": "9707bb67",
   "metadata": {},
   "outputs": [],
   "source": [
    "# xc = "
   ]
  },
  {
   "cell_type": "code",
   "execution_count": 25,
   "id": "07f484b6",
   "metadata": {},
   "outputs": [],
   "source": [
    "# yc = "
   ]
  },
  {
   "cell_type": "markdown",
   "id": "152543a6",
   "metadata": {},
   "source": [
    "### Automatic calculation of bolt centroid"
   ]
  },
  {
   "cell_type": "markdown",
   "id": "8cf7303b",
   "metadata": {},
   "source": [
    "You can use the bolt_centroid function to calculate the centroid of the bolt group.\n",
    "\n",
    "We will check our manual calculations:"
   ]
  },
  {
   "cell_type": "code",
   "execution_count": 26,
   "id": "e3e6f550",
   "metadata": {},
   "outputs": [
    {
     "data": {
      "text/plain": [
       "(50.0, 100.0)"
      ]
     },
     "execution_count": 26,
     "metadata": {},
     "output_type": "execute_result"
    }
   ],
   "source": [
    "# calculate bolt centroid for the coordinates p11\n",
    "\n",
    "bolt_centroid(p11)"
   ]
  },
  {
   "cell_type": "code",
   "execution_count": 27,
   "id": "e1c93538",
   "metadata": {},
   "outputs": [
    {
     "data": {
      "text/plain": [
       "(75.45454545454545, 130.0)"
      ]
     },
     "execution_count": 27,
     "metadata": {},
     "output_type": "execute_result"
    }
   ],
   "source": [
    "# calculate the bolt centroid for the coodinates p13\n",
    "\n",
    "bolt_centroid(p13, A = (12, 12, 30, 12))"
   ]
  },
  {
   "cell_type": "markdown",
   "id": "bbb71a98",
   "metadata": {},
   "source": [
    "#### Exercise 2.3"
   ]
  },
  {
   "cell_type": "code",
   "execution_count": 28,
   "id": "2ec2d2b6",
   "metadata": {},
   "outputs": [],
   "source": [
    "# check your manual calculation for coordinates p12\n",
    "\n"
   ]
  },
  {
   "cell_type": "code",
   "execution_count": 29,
   "id": "c7829571",
   "metadata": {},
   "outputs": [],
   "source": [
    "# check your manual calculation for coordinates p14\n"
   ]
  },
  {
   "cell_type": "markdown",
   "id": "e2eb2350",
   "metadata": {},
   "source": [
    "### Impact of fastener area on bolt centroid location"
   ]
  },
  {
   "cell_type": "markdown",
   "id": "929110c3",
   "metadata": {},
   "source": [
    "To graphically explore the effect of bolt area on the location of the bolt centroid, consider the following bolt pattern."
   ]
  },
  {
   "cell_type": "code",
   "execution_count": 30,
   "id": "80bf1ec9",
   "metadata": {},
   "outputs": [
    {
     "data": {
      "text/html": [
       "\n",
       "\n",
       "\n",
       "\n",
       "\n",
       "\n",
       "  <div class=\"bk-root\" id=\"c10b00ed-6acb-49db-be53-bff3ed5498c2\" data-root-id=\"1983\"></div>\n"
      ]
     },
     "metadata": {},
     "output_type": "display_data"
    },
    {
     "data": {
      "application/javascript": "(function(root) {\n  function embed_document(root) {\n    \n  const docs_json = {\"35a18136-f9a7-418c-aab5-cb21b919cad7\":{\"defs\":[],\"roots\":{\"references\":[{\"attributes\":{\"below\":[{\"id\":\"1992\"}],\"center\":[{\"id\":\"1995\"},{\"id\":\"1999\"},{\"id\":\"2016\"},{\"id\":\"2017\"}],\"height\":400,\"left\":[{\"id\":\"1996\"}],\"match_aspect\":true,\"renderers\":[{\"id\":\"2022\"}],\"title\":{\"id\":\"2101\"},\"toolbar\":{\"id\":\"2008\"},\"x_range\":{\"id\":\"1984\"},\"x_scale\":{\"id\":\"1988\"},\"y_range\":{\"id\":\"1986\"},\"y_scale\":{\"id\":\"1990\"}},\"id\":\"1983\",\"subtype\":\"Figure\",\"type\":\"Plot\"},{\"attributes\":{},\"id\":\"1984\",\"type\":\"DataRange1d\"},{\"attributes\":{\"coordinates\":null,\"data_source\":{\"id\":\"2018\"},\"glyph\":{\"id\":\"2019\"},\"group\":null,\"hover_glyph\":null,\"muted_glyph\":{\"id\":\"2021\"},\"nonselection_glyph\":{\"id\":\"2020\"},\"view\":{\"id\":\"2023\"}},\"id\":\"2022\",\"type\":\"GlyphRenderer\"},{\"attributes\":{},\"id\":\"1986\",\"type\":\"DataRange1d\"},{\"attributes\":{},\"id\":\"2003\",\"type\":\"SaveTool\"},{\"attributes\":{},\"id\":\"1988\",\"type\":\"LinearScale\"},{\"attributes\":{},\"id\":\"2105\",\"type\":\"AllLabels\"},{\"attributes\":{\"fill_alpha\":{\"value\":0.1},\"fill_color\":{\"value\":\"pink\"},\"hatch_alpha\":{\"value\":0.1},\"line_alpha\":{\"value\":0.1},\"line_color\":{\"value\":\"grey\"},\"marker\":{\"value\":\"hex\"},\"size\":{\"value\":20},\"x\":{\"field\":\"x\"},\"y\":{\"field\":\"y\"}},\"id\":\"2020\",\"type\":\"Scatter\"},{\"attributes\":{},\"id\":\"2004\",\"type\":\"ResetTool\"},{\"attributes\":{},\"id\":\"2109\",\"type\":\"UnionRenderers\"},{\"attributes\":{},\"id\":\"2005\",\"type\":\"HelpTool\"},{\"attributes\":{},\"id\":\"2110\",\"type\":\"Selection\"},{\"attributes\":{},\"id\":\"2108\",\"type\":\"AllLabels\"},{\"attributes\":{},\"id\":\"1990\",\"type\":\"LinearScale\"},{\"attributes\":{\"coordinates\":null,\"formatter\":{\"id\":\"2107\"},\"group\":null,\"major_label_policy\":{\"id\":\"2108\"},\"ticker\":{\"id\":\"1993\"}},\"id\":\"1992\",\"type\":\"LinearAxis\"},{\"attributes\":{\"overlay\":{\"id\":\"2006\"}},\"id\":\"2002\",\"type\":\"BoxZoomTool\"},{\"attributes\":{},\"id\":\"1997\",\"type\":\"BasicTicker\"},{\"attributes\":{},\"id\":\"2104\",\"type\":\"BasicTickFormatter\"},{\"attributes\":{},\"id\":\"1993\",\"type\":\"BasicTicker\"},{\"attributes\":{\"bottom_units\":\"screen\",\"coordinates\":null,\"fill_alpha\":0.5,\"fill_color\":\"lightgrey\",\"group\":null,\"left_units\":\"screen\",\"level\":\"overlay\",\"line_alpha\":1.0,\"line_color\":\"black\",\"line_dash\":[4,4],\"line_width\":2,\"right_units\":\"screen\",\"syncable\":false,\"top_units\":\"screen\"},\"id\":\"2006\",\"type\":\"BoxAnnotation\"},{\"attributes\":{\"axis\":{\"id\":\"1992\"},\"coordinates\":null,\"group\":null,\"ticker\":null},\"id\":\"1995\",\"type\":\"Grid\"},{\"attributes\":{},\"id\":\"2107\",\"type\":\"BasicTickFormatter\"},{\"attributes\":{\"axis\":{\"id\":\"1996\"},\"coordinates\":null,\"dimension\":1,\"group\":null,\"ticker\":null},\"id\":\"1999\",\"type\":\"Grid\"},{\"attributes\":{},\"id\":\"2001\",\"type\":\"WheelZoomTool\"},{\"attributes\":{\"coordinates\":null,\"formatter\":{\"id\":\"2104\"},\"group\":null,\"major_label_policy\":{\"id\":\"2105\"},\"ticker\":{\"id\":\"1997\"}},\"id\":\"1996\",\"type\":\"LinearAxis\"},{\"attributes\":{\"data\":{\"x\":{\"__ndarray__\":\"AAAAAAAAWcAAAAAAAABZwAAAAAAAAFlAAAAAAAAAWUA=\",\"dtype\":\"float64\",\"order\":\"little\",\"shape\":[4]},\"y\":{\"__ndarray__\":\"AAAAAAAAWUAAAAAAAABZwAAAAAAAAFlAAAAAAAAAWcA=\",\"dtype\":\"float64\",\"order\":\"little\",\"shape\":[4]}},\"selected\":{\"id\":\"2110\"},\"selection_policy\":{\"id\":\"2109\"}},\"id\":\"2018\",\"type\":\"ColumnDataSource\"},{\"attributes\":{\"fill_color\":{\"value\":\"pink\"},\"line_color\":{\"value\":\"grey\"},\"marker\":{\"value\":\"hex\"},\"size\":{\"value\":20},\"x\":{\"field\":\"x\"},\"y\":{\"field\":\"y\"}},\"id\":\"2019\",\"type\":\"Scatter\"},{\"attributes\":{\"tools\":[{\"id\":\"2000\"},{\"id\":\"2001\"},{\"id\":\"2002\"},{\"id\":\"2003\"},{\"id\":\"2004\"},{\"id\":\"2005\"},{\"id\":\"2007\"}]},\"id\":\"2008\",\"type\":\"Toolbar\"},{\"attributes\":{\"coordinates\":null,\"group\":null,\"level\":\"underlay\",\"line_color\":\"grey\",\"location\":0.0},\"id\":\"2017\",\"type\":\"Span\"},{\"attributes\":{\"source\":{\"id\":\"2018\"}},\"id\":\"2023\",\"type\":\"CDSView\"},{\"attributes\":{\"coordinates\":null,\"dimension\":\"height\",\"group\":null,\"level\":\"underlay\",\"line_color\":\"grey\",\"location\":0.0},\"id\":\"2016\",\"type\":\"Span\"},{\"attributes\":{\"fill_alpha\":{\"value\":0.2},\"fill_color\":{\"value\":\"pink\"},\"hatch_alpha\":{\"value\":0.2},\"line_alpha\":{\"value\":0.2},\"line_color\":{\"value\":\"grey\"},\"marker\":{\"value\":\"hex\"},\"size\":{\"value\":20},\"x\":{\"field\":\"x\"},\"y\":{\"field\":\"y\"}},\"id\":\"2021\",\"type\":\"Scatter\"},{\"attributes\":{},\"id\":\"2000\",\"type\":\"PanTool\"},{\"attributes\":{\"callback\":null,\"tooltips\":[[\"Bolt ID\",\"$index\"],[\"x, y coordinates\",\"(@x{0.0}, @y{0.0})\"],[\"Centroid\",\"(0.0, 0.0)\"]]},\"id\":\"2007\",\"type\":\"HoverTool\"},{\"attributes\":{\"coordinates\":null,\"group\":null},\"id\":\"2101\",\"type\":\"Title\"}],\"root_ids\":[\"1983\"]},\"title\":\"Bokeh Application\",\"version\":\"2.4.1\"}};\n  const render_items = [{\"docid\":\"35a18136-f9a7-418c-aab5-cb21b919cad7\",\"root_ids\":[\"1983\"],\"roots\":{\"1983\":\"c10b00ed-6acb-49db-be53-bff3ed5498c2\"}}];\n  root.Bokeh.embed.embed_items_notebook(docs_json, render_items);\n\n  }\n  if (root.Bokeh !== undefined) {\n    embed_document(root);\n  } else {\n    let attempts = 0;\n    const timer = setInterval(function(root) {\n      if (root.Bokeh !== undefined) {\n        clearInterval(timer);\n        embed_document(root);\n      } else {\n        attempts++;\n        if (attempts > 100) {\n          clearInterval(timer);\n          console.log(\"Bokeh: ERROR: Unable to run BokehJS code because BokehJS library is missing\");\n        }\n      }\n    }, 10, root)\n  }\n})(window);",
      "application/vnd.bokehjs_exec.v0+json": ""
     },
     "metadata": {
      "application/vnd.bokehjs_exec.v0+json": {
       "id": "1983"
      }
     },
     "output_type": "display_data"
    }
   ],
   "source": [
    "p15 = square(200, 2, 2)"
   ]
  },
  {
   "cell_type": "markdown",
   "id": "99cba279",
   "metadata": {},
   "source": [
    "If all fasteners are the same, the centroid will be located at:"
   ]
  },
  {
   "cell_type": "code",
   "execution_count": 31,
   "id": "50aa2558",
   "metadata": {},
   "outputs": [
    {
     "data": {
      "text/plain": [
       "(0.0, 0.0)"
      ]
     },
     "execution_count": 31,
     "metadata": {},
     "output_type": "execute_result"
    }
   ],
   "source": [
    "bolt_centroid(p15)"
   ]
  },
  {
   "cell_type": "markdown",
   "id": "843b53f9",
   "metadata": {},
   "source": [
    "Now we will keep all other bolt areas the same, but only change the area for `Bolt ID: 0` with the interactive slider below:"
   ]
  },
  {
   "cell_type": "code",
   "execution_count": 32,
   "id": "0317b58d",
   "metadata": {},
   "outputs": [
    {
     "data": {
      "application/vnd.jupyter.widget-view+json": {
       "model_id": "6827f6dbf657493b9825eb3a1ad9368c",
       "version_major": 2,
       "version_minor": 0
      },
      "text/plain": [
       "interactive(children=(IntSlider(value=10, description='Area_Bolt0', max=50, min=10), Output()), _dom_classes=(…"
      ]
     },
     "metadata": {},
     "output_type": "display_data"
    }
   ],
   "source": [
    "from ipywidgets import interact, IntSlider\n",
    "\n",
    "@interact(Area_Bolt0 = IntSlider(min=10, max=50, step=1, value=10))\n",
    "def impact_of_area(Area_Bolt0):\n",
    "    return square(200, 2, 2, True, (Area_Bolt0, 10, 10, 10))"
   ]
  },
  {
   "cell_type": "markdown",
   "id": "50b5826d-bca2-4617-be15-99778afd8aea",
   "metadata": {
    "tags": []
   },
   "source": [
    "# \n",
    "\n",
    "You will be able to observe that as the area of Bolt0 is increased, the centroid moves closer and closer to Bolt0.\n",
    "\n",
    "The bolt centroid will tend towards the location of highest bolt area."
   ]
  }
 ],
 "metadata": {
  "kernelspec": {
   "display_name": "Python 3 (ipykernel)",
   "language": "python",
   "name": "python3"
  },
  "language_info": {
   "codemirror_mode": {
    "name": "ipython",
    "version": 3
   },
   "file_extension": ".py",
   "mimetype": "text/x-python",
   "name": "python",
   "nbconvert_exporter": "python",
   "pygments_lexer": "ipython3",
   "version": "3.7.11"
  }
 },
 "nbformat": 4,
 "nbformat_minor": 5
}
